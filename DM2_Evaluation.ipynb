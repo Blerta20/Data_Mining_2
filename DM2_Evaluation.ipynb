{
 "cells": [
  {
   "cell_type": "markdown",
   "id": "2b60d396",
   "metadata": {},
   "source": [
    "Inserire i vettori con le probabilità per ciascun modello-target:"
   ]
  },
  {
   "cell_type": "markdown",
   "id": "b2055b36",
   "metadata": {},
   "source": [
    "### Simone"
   ]
  },
  {
   "cell_type": "code",
   "execution_count": null,
   "id": "0358f409",
   "metadata": {},
   "outputs": [],
   "source": [
    "# vocal_channel\n",
    "\n",
    "\n",
    "# sex\n",
    "\n",
    "\n",
    "# emotional_intensity\n",
    "\n",
    "\n",
    "# emotion"
   ]
  },
  {
   "cell_type": "markdown",
   "id": "cac7d2cc",
   "metadata": {},
   "source": [
    "### Blerta"
   ]
  },
  {
   "cell_type": "code",
   "execution_count": null,
   "id": "b087b59c",
   "metadata": {},
   "outputs": [],
   "source": [
    "# vocal_channel\n",
    "\n",
    "\n",
    "# sex\n",
    "\n",
    "\n",
    "# emotional_intensity\n",
    "\n",
    "\n",
    "# emotion"
   ]
  }
 ],
 "metadata": {
  "kernelspec": {
   "display_name": "Python 3",
   "language": "python",
   "name": "python3"
  },
  "language_info": {
   "codemirror_mode": {
    "name": "ipython",
    "version": 3
   },
   "file_extension": ".py",
   "mimetype": "text/x-python",
   "name": "python",
   "nbconvert_exporter": "python",
   "pygments_lexer": "ipython3",
   "version": "3.8.8"
  }
 },
 "nbformat": 4,
 "nbformat_minor": 5
}
