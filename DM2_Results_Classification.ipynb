{
 "cells": [
  {
   "cell_type": "code",
   "execution_count": 13,
   "id": "1e7280c9",
   "metadata": {},
   "outputs": [],
   "source": [
    "import pandas as pd"
   ]
  },
  {
   "cell_type": "markdown",
   "id": "64f321c8",
   "metadata": {},
   "source": [
    "# Metriche"
   ]
  },
  {
   "cell_type": "markdown",
   "id": "9dcc0944",
   "metadata": {},
   "source": [
    "Creo un DataFrame per ciascun target in cui le colonne sono i modelli e le righe le metriche (accuracy e f1 weighted). Per ciascun DataFrame (target), modello (colonna) e metrica (riga), inserite il valore corrispondente. Controllate l'output e assicuratevi di aver inserito il valore al posto giusto! Ho inserito \"None\" come placeholder."
   ]
  },
  {
   "cell_type": "code",
   "execution_count": 10,
   "id": "45cfb07d",
   "metadata": {},
   "outputs": [
    {
     "data": {
      "text/html": [
       "<div>\n",
       "<style scoped>\n",
       "    .dataframe tbody tr th:only-of-type {\n",
       "        vertical-align: middle;\n",
       "    }\n",
       "\n",
       "    .dataframe tbody tr th {\n",
       "        vertical-align: top;\n",
       "    }\n",
       "\n",
       "    .dataframe thead th {\n",
       "        text-align: right;\n",
       "    }\n",
       "</style>\n",
       "<table border=\"1\" class=\"dataframe\">\n",
       "  <thead>\n",
       "    <tr style=\"text-align: right;\">\n",
       "      <th></th>\n",
       "      <th>LG</th>\n",
       "      <th>SVM</th>\n",
       "      <th>NN</th>\n",
       "      <th>RF</th>\n",
       "      <th>DTB</th>\n",
       "      <th>AB</th>\n",
       "      <th>GB</th>\n",
       "    </tr>\n",
       "  </thead>\n",
       "  <tbody>\n",
       "    <tr>\n",
       "      <th>Accuracy</th>\n",
       "      <td>None</td>\n",
       "      <td>None</td>\n",
       "      <td>None</td>\n",
       "      <td>None</td>\n",
       "      <td>None</td>\n",
       "      <td>None</td>\n",
       "      <td>None</td>\n",
       "    </tr>\n",
       "    <tr>\n",
       "      <th>F1-Score (Weighted-Average)</th>\n",
       "      <td>None</td>\n",
       "      <td>None</td>\n",
       "      <td>None</td>\n",
       "      <td>None</td>\n",
       "      <td>None</td>\n",
       "      <td>None</td>\n",
       "      <td>None</td>\n",
       "    </tr>\n",
       "  </tbody>\n",
       "</table>\n",
       "</div>"
      ],
      "text/plain": [
       "                               LG   SVM    NN    RF   DTB    AB    GB\n",
       "Accuracy                     None  None  None  None  None  None  None\n",
       "F1-Score (Weighted-Average)  None  None  None  None  None  None  None"
      ]
     },
     "execution_count": 10,
     "metadata": {},
     "output_type": "execute_result"
    }
   ],
   "source": [
    "# vocal_channel\n",
    "\n",
    "vocal_channel_metrics = pd.DataFrame(columns=[\"LG\", \"SVM\", \"NN\", \"RF\", \"DTB\", \"AB\", \"GB\"], \n",
    "                       index=[\"Accuracy\", \"F1-Score (Weighted-Average)\"])\n",
    "vocal_channel_metrics.loc[\"Accuracy\"] = [None, None, None, None, None, None, None]\n",
    "vocal_channel_metrics.loc[\"F1-Score (Weighted-Average)\"] = [None, None, None, None, None, None, None]\n",
    "vocal_channel_metrics"
   ]
  },
  {
   "cell_type": "code",
   "execution_count": 11,
   "id": "b56ef700",
   "metadata": {},
   "outputs": [
    {
     "data": {
      "text/html": [
       "<div>\n",
       "<style scoped>\n",
       "    .dataframe tbody tr th:only-of-type {\n",
       "        vertical-align: middle;\n",
       "    }\n",
       "\n",
       "    .dataframe tbody tr th {\n",
       "        vertical-align: top;\n",
       "    }\n",
       "\n",
       "    .dataframe thead th {\n",
       "        text-align: right;\n",
       "    }\n",
       "</style>\n",
       "<table border=\"1\" class=\"dataframe\">\n",
       "  <thead>\n",
       "    <tr style=\"text-align: right;\">\n",
       "      <th></th>\n",
       "      <th>LG</th>\n",
       "      <th>SVM</th>\n",
       "      <th>NN</th>\n",
       "      <th>RF</th>\n",
       "      <th>DTB</th>\n",
       "      <th>AB</th>\n",
       "      <th>GB</th>\n",
       "    </tr>\n",
       "  </thead>\n",
       "  <tbody>\n",
       "    <tr>\n",
       "      <th>Accuracy</th>\n",
       "      <td>None</td>\n",
       "      <td>None</td>\n",
       "      <td>None</td>\n",
       "      <td>None</td>\n",
       "      <td>None</td>\n",
       "      <td>None</td>\n",
       "      <td>None</td>\n",
       "    </tr>\n",
       "    <tr>\n",
       "      <th>F1-Score (Weighted-Average)</th>\n",
       "      <td>None</td>\n",
       "      <td>None</td>\n",
       "      <td>None</td>\n",
       "      <td>None</td>\n",
       "      <td>None</td>\n",
       "      <td>None</td>\n",
       "      <td>None</td>\n",
       "    </tr>\n",
       "  </tbody>\n",
       "</table>\n",
       "</div>"
      ],
      "text/plain": [
       "                               LG   SVM    NN    RF   DTB    AB    GB\n",
       "Accuracy                     None  None  None  None  None  None  None\n",
       "F1-Score (Weighted-Average)  None  None  None  None  None  None  None"
      ]
     },
     "execution_count": 11,
     "metadata": {},
     "output_type": "execute_result"
    }
   ],
   "source": [
    "# sex\n",
    "\n",
    "sex_metrics = pd.DataFrame(columns=[\"LG\", \"SVM\", \"NN\", \"RF\", \"DTB\", \"AB\", \"GB\"], \n",
    "                       index=[\"Accuracy\", \"F1-Score (Weighted-Average)\"])\n",
    "sex_metrics.loc[\"Accuracy\"] = [None, None, None, None, None, None, None]\n",
    "sex_metrics.loc[\"F1-Score (Weighted-Average)\"] = [None, None, None, None, None, None, None]\n",
    "sex_metrics"
   ]
  },
  {
   "cell_type": "code",
   "execution_count": 12,
   "id": "8b87471c",
   "metadata": {},
   "outputs": [
    {
     "data": {
      "text/html": [
       "<div>\n",
       "<style scoped>\n",
       "    .dataframe tbody tr th:only-of-type {\n",
       "        vertical-align: middle;\n",
       "    }\n",
       "\n",
       "    .dataframe tbody tr th {\n",
       "        vertical-align: top;\n",
       "    }\n",
       "\n",
       "    .dataframe thead th {\n",
       "        text-align: right;\n",
       "    }\n",
       "</style>\n",
       "<table border=\"1\" class=\"dataframe\">\n",
       "  <thead>\n",
       "    <tr style=\"text-align: right;\">\n",
       "      <th></th>\n",
       "      <th>LG</th>\n",
       "      <th>SVM</th>\n",
       "      <th>NN</th>\n",
       "      <th>RF</th>\n",
       "      <th>DTB</th>\n",
       "      <th>AB</th>\n",
       "      <th>GB</th>\n",
       "    </tr>\n",
       "  </thead>\n",
       "  <tbody>\n",
       "    <tr>\n",
       "      <th>Accuracy</th>\n",
       "      <td>None</td>\n",
       "      <td>None</td>\n",
       "      <td>None</td>\n",
       "      <td>None</td>\n",
       "      <td>None</td>\n",
       "      <td>None</td>\n",
       "      <td>None</td>\n",
       "    </tr>\n",
       "    <tr>\n",
       "      <th>F1-Score (Weighted-Average)</th>\n",
       "      <td>None</td>\n",
       "      <td>None</td>\n",
       "      <td>None</td>\n",
       "      <td>None</td>\n",
       "      <td>None</td>\n",
       "      <td>None</td>\n",
       "      <td>None</td>\n",
       "    </tr>\n",
       "  </tbody>\n",
       "</table>\n",
       "</div>"
      ],
      "text/plain": [
       "                               LG   SVM    NN    RF   DTB    AB    GB\n",
       "Accuracy                     None  None  None  None  None  None  None\n",
       "F1-Score (Weighted-Average)  None  None  None  None  None  None  None"
      ]
     },
     "execution_count": 12,
     "metadata": {},
     "output_type": "execute_result"
    }
   ],
   "source": [
    "# emotional_intensity\n",
    "\n",
    "emotional_intensity_metrics = pd.DataFrame(columns=[\"LG\", \"SVM\", \"NN\", \"RF\", \"DTB\", \"AB\", \"GB\"], \n",
    "                       index=[\"Accuracy\", \"F1-Score (Weighted-Average)\"])\n",
    "emotional_intensity_metrics.loc[\"Accuracy\"] = [None, None, None, None, None, None, None]\n",
    "emotional_intensit_metrics.loc[\"F1-Score (Weighted-Average)\"] = [None, None, None, None, None, None, None]\n",
    "emotional_intensity_metrics"
   ]
  },
  {
   "cell_type": "code",
   "execution_count": null,
   "id": "fe6cb6fd",
   "metadata": {},
   "outputs": [],
   "source": [
    "# emotional_intensity\n",
    "\n",
    "emotion_metrics = pd.DataFrame(columns=[\"LG\", \"SVM\", \"NN\", \"RF\", \"DTB\", \"AB\", \"GB\"], \n",
    "                       index=[\"Accuracy\", \"F1-Score (Weighted-Average)\"])\n",
    "emotion_metrics.loc[\"Accuracy\"] = [None, None, None, None, None, None, None]\n",
    "emotion_metrics.loc[\"F1-Score (Weighted-Average)\"] = [None, None, None, None, None, None, None]\n",
    "emotion_metrics"
   ]
  },
  {
   "cell_type": "markdown",
   "id": "b016a725",
   "metadata": {},
   "source": [
    "# ROC"
   ]
  },
  {
   "cell_type": "markdown",
   "id": "d33e726c",
   "metadata": {},
   "source": [
    "Per costruire le ROC servono FPR e TPR, che si calcolano a partire dal vettore di probabilità:"
   ]
  },
  {
   "cell_type": "code",
   "execution_count": 22,
   "id": "bdc2d4bc",
   "metadata": {},
   "outputs": [
    {
     "ename": "NameError",
     "evalue": "name 'nb' is not defined",
     "output_type": "error",
     "traceback": [
      "\u001b[0;31m---------------------------------------------------------------------------\u001b[0m",
      "\u001b[0;31mNameError\u001b[0m                                 Traceback (most recent call last)",
      "\u001b[0;32m<ipython-input-22-d546e5b60127>\u001b[0m in \u001b[0;36m<module>\u001b[0;34m\u001b[0m\n\u001b[0;32m----> 1\u001b[0;31m \u001b[0my_pred_proba\u001b[0m \u001b[0;34m=\u001b[0m \u001b[0mnb\u001b[0m\u001b[0;34m.\u001b[0m\u001b[0mpredict_proba\u001b[0m\u001b[0;34m(\u001b[0m\u001b[0mX_test\u001b[0m\u001b[0;34m)\u001b[0m\u001b[0;34m[\u001b[0m\u001b[0;34m:\u001b[0m\u001b[0;34m:\u001b[0m\u001b[0;34m,\u001b[0m\u001b[0;36m1\u001b[0m\u001b[0;34m]\u001b[0m\u001b[0;34m\u001b[0m\u001b[0;34m\u001b[0m\u001b[0m\n\u001b[0m\u001b[1;32m      2\u001b[0m \u001b[0mfpr\u001b[0m\u001b[0;34m,\u001b[0m \u001b[0mtpr\u001b[0m\u001b[0;34m,\u001b[0m \u001b[0m_\u001b[0m \u001b[0;34m=\u001b[0m \u001b[0mroc_curve\u001b[0m\u001b[0;34m(\u001b[0m\u001b[0my_test\u001b[0m\u001b[0;34m,\u001b[0m  \u001b[0my_pred_proba\u001b[0m\u001b[0;34m,\u001b[0m \u001b[0mpos_label\u001b[0m\u001b[0;34m=\u001b[0m\u001b[0;32mNone\u001b[0m\u001b[0;34m)\u001b[0m \u001b[0;31m#pos_label va inizializzato (leggi sotto)\u001b[0m\u001b[0;34m\u001b[0m\u001b[0;34m\u001b[0m\u001b[0m\n",
      "\u001b[0;31mNameError\u001b[0m: name 'nb' is not defined"
     ]
    }
   ],
   "source": [
    "y_pred_proba = model.predict_proba(X_test)[::,1]\n",
    "fpr, tpr, _ = roc_curve(y_test,  y_pred_proba, pos_label=None) #pos_label va inizializzato (leggi sotto)"
   ]
  },
  {
   "cell_type": "markdown",
   "id": "276df896",
   "metadata": {},
   "source": [
    "NB: pos_label è la classe che vogliamo dichiarare come positive. Se non ci sono differenze importanti nella precision/recall dei modelli, penso si possa scegliere liberamente una delle due (ad es. per \"vocal_channel\" si prende o \"speech\" o \"song\"). Scegliete quella che preferite ma segnatevela da qualche parte (va riportata nel Latex)."
   ]
  },
  {
   "cell_type": "markdown",
   "id": "80a18f0d",
   "metadata": {},
   "source": [
    "Per l'AUC:"
   ]
  },
  {
   "cell_type": "code",
   "execution_count": null,
   "id": "ffdcfe92",
   "metadata": {},
   "outputs": [],
   "source": [
    "auc = roc_auc_score(y_test, y_pred_proba)"
   ]
  },
  {
   "cell_type": "markdown",
   "id": "91df4e60",
   "metadata": {},
   "source": [
    "Creo di nuovo un DataFrame per ogni target in cui le colonne sono i modelli e le righe fpr, tpr, e auc. Per ciascun DataFrame (target), modello (colonna) e parametro (riga), inserite il valore corrispondente. Qui bisogna fare attenzione perché tpr a fpr sono vettori lunghi quanto il dataset (argh), ma non saprei come altro fare. Controllate l'output! Ho inserito \"None\" come placeholder."
   ]
  },
  {
   "cell_type": "code",
   "execution_count": 21,
   "id": "0923db39",
   "metadata": {},
   "outputs": [
    {
     "data": {
      "text/html": [
       "<div>\n",
       "<style scoped>\n",
       "    .dataframe tbody tr th:only-of-type {\n",
       "        vertical-align: middle;\n",
       "    }\n",
       "\n",
       "    .dataframe tbody tr th {\n",
       "        vertical-align: top;\n",
       "    }\n",
       "\n",
       "    .dataframe thead th {\n",
       "        text-align: right;\n",
       "    }\n",
       "</style>\n",
       "<table border=\"1\" class=\"dataframe\">\n",
       "  <thead>\n",
       "    <tr style=\"text-align: right;\">\n",
       "      <th></th>\n",
       "      <th>LG</th>\n",
       "      <th>SVM</th>\n",
       "      <th>NN</th>\n",
       "      <th>RF</th>\n",
       "      <th>DTB</th>\n",
       "      <th>AB</th>\n",
       "      <th>GB</th>\n",
       "    </tr>\n",
       "  </thead>\n",
       "  <tbody>\n",
       "    <tr>\n",
       "      <th>fpr</th>\n",
       "      <td>None</td>\n",
       "      <td>None</td>\n",
       "      <td>None</td>\n",
       "      <td>None</td>\n",
       "      <td>None</td>\n",
       "      <td>None</td>\n",
       "      <td>None</td>\n",
       "    </tr>\n",
       "    <tr>\n",
       "      <th>tpr</th>\n",
       "      <td>None</td>\n",
       "      <td>None</td>\n",
       "      <td>None</td>\n",
       "      <td>None</td>\n",
       "      <td>None</td>\n",
       "      <td>None</td>\n",
       "      <td>None</td>\n",
       "    </tr>\n",
       "    <tr>\n",
       "      <th>auc</th>\n",
       "      <td>None</td>\n",
       "      <td>None</td>\n",
       "      <td>None</td>\n",
       "      <td>None</td>\n",
       "      <td>None</td>\n",
       "      <td>None</td>\n",
       "      <td>None</td>\n",
       "    </tr>\n",
       "  </tbody>\n",
       "</table>\n",
       "</div>"
      ],
      "text/plain": [
       "       LG   SVM    NN    RF   DTB    AB    GB\n",
       "fpr  None  None  None  None  None  None  None\n",
       "tpr  None  None  None  None  None  None  None\n",
       "auc  None  None  None  None  None  None  None"
      ]
     },
     "execution_count": 21,
     "metadata": {},
     "output_type": "execute_result"
    }
   ],
   "source": [
    "# vocal_channel\n",
    "\n",
    "vocal_channel_roc = pd.DataFrame(columns=[\"LG\", \"SVM\", \"NN\", \"RF\", \"DTB\", \"AB\", \"GB\"], \n",
    "                       index=[\"fpr\", \"tpr\", \"auc\"])\n",
    "vocal_channel_roc.loc[\"fpr\"] = [None, None, None, None, None, None, None]\n",
    "vocal_channel_roc.loc[\"tpr\"] = [None, None, None, None, None, None, None]\n",
    "vocal_channel_roc.loc[\"auc\"] = [None, None, None, None, None, None, None]\n",
    "vocal_channel_roc"
   ]
  },
  {
   "cell_type": "code",
   "execution_count": 17,
   "id": "6a0adac0",
   "metadata": {},
   "outputs": [
    {
     "data": {
      "text/plain": [
       "{'LG': [], 'SVM': [], 'NN': [], 'RF': [], 'DTB': [], 'AB': [], 'GB': []}"
      ]
     },
     "execution_count": 17,
     "metadata": {},
     "output_type": "execute_result"
    }
   ],
   "source": [
    "# sex\n",
    "\n",
    "sex_roc = pd.DataFrame(columns=[\"LG\", \"SVM\", \"NN\", \"RF\", \"DTB\", \"AB\", \"GB\"], \n",
    "                       index=[\"fpr\", \"tpr\", \"auc\"])\n",
    "sex_roc.loc[\"fpr\"] = [None, None, None, None, None, None, None]\n",
    "sex_roc.loc[\"tpr\"] = [None, None, None, None, None, None, None]\n",
    "sex_roc.loc[\"auc\"] = [None, None, None, None, None, None, None]\n",
    "sex_roc"
   ]
  },
  {
   "cell_type": "code",
   "execution_count": null,
   "id": "19940737",
   "metadata": {},
   "outputs": [],
   "source": [
    "# emotional_intensity\n",
    "\n",
    "emotional_intensity_roc = pd.DataFrame(columns=[\"LG\", \"SVM\", \"NN\", \"RF\", \"DTB\", \"AB\", \"GB\"], \n",
    "                       index=[\"fpr\", \"tpr\", \"auc\"])\n",
    "emotional_intensity_roc.loc[\"fpr\"] = [None, None, None, None, None, None, None]\n",
    "emotional_intensity_roc.loc[\"tpr\"] = [None, None, None, None, None, None, None]\n",
    "emotional_intensity_roc.loc[\"auc\"] = [None, None, None, None, None, None, None]\n",
    "emotional_intensity_roc"
   ]
  },
  {
   "cell_type": "markdown",
   "id": "d5ffc50f",
   "metadata": {},
   "source": [
    "Ignorate la parte che segue"
   ]
  },
  {
   "cell_type": "code",
   "execution_count": null,
   "id": "ae173fef",
   "metadata": {},
   "outputs": [],
   "source": [
    "%store vocal_channel_metrics\n",
    "%store sex_metrics\n",
    "%store emotional_intensity_metrics\n",
    "%store emotion_metrics\n",
    "\n",
    "%store vocal_channel_roc\n",
    "%store sex_roc\n",
    "%store emotional_intensity_roc"
   ]
  }
 ],
 "metadata": {
  "kernelspec": {
   "display_name": "Python 3",
   "language": "python",
   "name": "python3"
  },
  "language_info": {
   "codemirror_mode": {
    "name": "ipython",
    "version": 3
   },
   "file_extension": ".py",
   "mimetype": "text/x-python",
   "name": "python",
   "nbconvert_exporter": "python",
   "pygments_lexer": "ipython3",
   "version": "3.8.8"
  }
 },
 "nbformat": 4,
 "nbformat_minor": 5
}
