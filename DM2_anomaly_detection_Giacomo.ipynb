{
 "cells": [
  {
   "cell_type": "markdown",
   "id": "55497135",
   "metadata": {},
   "source": [
    "# Imports"
   ]
  },
  {
   "cell_type": "code",
   "execution_count": 51,
   "id": "6dc45cc8",
   "metadata": {},
   "outputs": [
    {
     "name": "stdout",
     "output_type": "stream",
     "text": [
      "Requirement already satisfied: pyod in /opt/anaconda3/lib/python3.8/site-packages (1.0.9)\n",
      "Requirement already satisfied: matplotlib in /opt/anaconda3/lib/python3.8/site-packages (from pyod) (3.3.4)\n",
      "Requirement already satisfied: numpy>=1.19 in /opt/anaconda3/lib/python3.8/site-packages (from pyod) (1.19.5)\n",
      "Requirement already satisfied: scikit-learn>=0.20.0 in /opt/anaconda3/lib/python3.8/site-packages (from pyod) (1.1.3)\n",
      "Requirement already satisfied: six in /opt/anaconda3/lib/python3.8/site-packages (from pyod) (1.15.0)\n",
      "Requirement already satisfied: numba>=0.51 in /opt/anaconda3/lib/python3.8/site-packages (from pyod) (0.53.1)\n",
      "Requirement already satisfied: joblib in /opt/anaconda3/lib/python3.8/site-packages (from pyod) (1.0.1)\n",
      "Requirement already satisfied: scipy>=1.5.1 in /opt/anaconda3/lib/python3.8/site-packages (from pyod) (1.6.2)\n",
      "Requirement already satisfied: setuptools in /opt/anaconda3/lib/python3.8/site-packages (from numba>=0.51->pyod) (52.0.0.post20210125)\n",
      "Requirement already satisfied: llvmlite<0.37,>=0.36.0rc1 in /opt/anaconda3/lib/python3.8/site-packages (from numba>=0.51->pyod) (0.36.0)\n",
      "Requirement already satisfied: threadpoolctl>=2.0.0 in /opt/anaconda3/lib/python3.8/site-packages (from scikit-learn>=0.20.0->pyod) (2.1.0)\n",
      "Requirement already satisfied: pillow>=6.2.0 in /opt/anaconda3/lib/python3.8/site-packages (from matplotlib->pyod) (8.2.0)\n",
      "Requirement already satisfied: cycler>=0.10 in /opt/anaconda3/lib/python3.8/site-packages (from matplotlib->pyod) (0.10.0)\n",
      "Requirement already satisfied: python-dateutil>=2.1 in /opt/anaconda3/lib/python3.8/site-packages (from matplotlib->pyod) (2.8.2)\n",
      "Requirement already satisfied: pyparsing!=2.0.4,!=2.1.2,!=2.1.6,>=2.0.3 in /opt/anaconda3/lib/python3.8/site-packages (from matplotlib->pyod) (2.4.7)\n",
      "Requirement already satisfied: kiwisolver>=1.0.1 in /opt/anaconda3/lib/python3.8/site-packages (from matplotlib->pyod) (1.3.1)\n",
      "\n",
      "\u001b[1m[\u001b[0m\u001b[34;49mnotice\u001b[0m\u001b[1;39;49m]\u001b[0m\u001b[39;49m A new release of pip available: \u001b[0m\u001b[31;49m22.3.1\u001b[0m\u001b[39;49m -> \u001b[0m\u001b[32;49m23.0.1\u001b[0m\n",
      "\u001b[1m[\u001b[0m\u001b[34;49mnotice\u001b[0m\u001b[1;39;49m]\u001b[0m\u001b[39;49m To update, run: \u001b[0m\u001b[32;49mpip install --upgrade pip\u001b[0m\n"
     ]
    }
   ],
   "source": [
    "!pip install pyod"
   ]
  },
  {
   "cell_type": "code",
   "execution_count": 89,
   "id": "8c7b6e3a",
   "metadata": {},
   "outputs": [],
   "source": [
    "import pandas as pd\n",
    "import numpy as np\n",
    "import matplotlib.pyplot as plt\n",
    "import seaborn as sns\n",
    "\n",
    "from pyod.models.hbos import HBOS\n",
    "from pyod.models.knn import KNN\n",
    "from pyod.models.lof import LOF\n",
    "\n",
    "from sklearn.neighbors import LocalOutlierFactor\n",
    "from sklearn.covariance import EllipticEnvelope\n",
    "from sklearn.decomposition import PCA\n",
    "from sklearn.preprocessing import MinMaxScaler\n",
    "from sklearn.cluster import DBSCAN\n",
    "\n",
    "from scipy.spatial.distance import pdist, squareform\n",
    "\n",
    "from mpl_toolkits.mplot3d import Axes3D\n",
    "\n",
    "from itertools import chain, combinations"
   ]
  },
  {
   "cell_type": "markdown",
   "id": "6a481719",
   "metadata": {},
   "source": [
    "# Data"
   ]
  },
  {
   "cell_type": "code",
   "execution_count": 90,
   "id": "8f1eeec3",
   "metadata": {},
   "outputs": [],
   "source": [
    "df_train = pd.read_csv(\"/Users/Giacomo/Desktop/DM2/PRJ/df_train_processed.csv\")\n",
    "df_test = pd.read_csv(\"/Users/Giacomo/Desktop/DM2/PRJ/df_test_processed.csv\")"
   ]
  },
  {
   "cell_type": "code",
   "execution_count": 91,
   "id": "bf4c2c67",
   "metadata": {},
   "outputs": [
    {
     "name": "stdout",
     "output_type": "stream",
     "text": [
      "(1828, 385) (624, 385)\n"
     ]
    }
   ],
   "source": [
    "print(df_train.shape, df_test.shape)"
   ]
  },
  {
   "cell_type": "code",
   "execution_count": 92,
   "id": "966fcc61",
   "metadata": {},
   "outputs": [],
   "source": [
    "df_train_num = df_train.select_dtypes(include=\"number\").drop([\"actor\", \"Unnamed: 0\"], axis=1)\n",
    "df_test_num = df_test.select_dtypes(include=\"number\").drop([\"actor\", \"Unnamed: 0\"], axis=1)"
   ]
  },
  {
   "cell_type": "code",
   "execution_count": 93,
   "id": "b527cf31",
   "metadata": {},
   "outputs": [
    {
     "name": "stdout",
     "output_type": "stream",
     "text": [
      "(1828, 376) (624, 376)\n"
     ]
    }
   ],
   "source": [
    "print(df_train_num.shape, df_test_num.shape)"
   ]
  },
  {
   "cell_type": "markdown",
   "id": "7d45962b",
   "metadata": {},
   "source": [
    "### Standardization"
   ]
  },
  {
   "cell_type": "code",
   "execution_count": 94,
   "id": "a612d329",
   "metadata": {},
   "outputs": [],
   "source": [
    "scaler = MinMaxScaler()\n",
    "df_train_num_scal = scaler.fit_transform(df_train_num)\n",
    "df_test_num_scal = scaler.fit_transform(df_test_num)\n",
    "df_train_num = pd.DataFrame(df_train_num_scal, columns=df_train_num.columns)\n",
    "df_test_num = pd.DataFrame(df_test_num_scal, columns=df_test_num.columns)"
   ]
  },
  {
   "cell_type": "markdown",
   "id": "1d043c95",
   "metadata": {},
   "source": [
    "### Feature reduction"
   ]
  },
  {
   "cell_type": "code",
   "execution_count": 95,
   "id": "551741bf",
   "metadata": {},
   "outputs": [],
   "source": [
    "pca = PCA(3)\n",
    "df_train_pca = pca.fit_transform(df_train_num)\n",
    "df_test_pca = pca.fit_transform(df_test_num)"
   ]
  },
  {
   "cell_type": "markdown",
   "id": "83a9c1f3",
   "metadata": {},
   "source": [
    "# Functions"
   ]
  },
  {
   "cell_type": "code",
   "execution_count": 96,
   "id": "1e9a3362",
   "metadata": {},
   "outputs": [],
   "source": [
    "def get_top_scores(decision_scores, percentage, higher_is_outlier=True, show_index=False):\n",
    "    \"\"\"Returns the top scores (in the percentage indicated). If show_index = True,\n",
    "    returns only the correspondent indexes. If higher_is_outlier=False, then lower the score, higher the\n",
    "    outlierness\"\"\"\n",
    "    n_items = int(np.ceil((percentage * len(decision_scores)) / 100))\n",
    "    dic = {}\n",
    "    for index, score in enumerate(decision_scores):\n",
    "        dic[score] = index\n",
    "    if higher_is_outlier:\n",
    "        top_scores = sorted(decision_scores, reverse=True)[:n_items]\n",
    "    else:\n",
    "        top_scores = sorted(decision_scores)[:n_items]\n",
    "    if show_index == True:\n",
    "        return [dic[score] for score in top_scores]\n",
    "    return top_scores"
   ]
  },
  {
   "cell_type": "code",
   "execution_count": 97,
   "id": "b0cffa2b",
   "metadata": {},
   "outputs": [],
   "source": [
    "def powerset(iterable):\n",
    "    \"Returns the powerset of an iterable\"\n",
    "    \"powerset([1,2,3]) --> () (1,) (2,) (3,) (1,2) (1,3) (2,3) (1,2,3)\"\n",
    "    s = list(iterable)\n",
    "    return chain.from_iterable(combinations(s, r) for r in range(len(s)+1))"
   ]
  },
  {
   "cell_type": "code",
   "execution_count": 98,
   "id": "800cec5b",
   "metadata": {},
   "outputs": [],
   "source": [
    "def inter(first, *others):\n",
    "    \"Returns the intersection between more sets\"\n",
    "    return set(first).intersection(*others)"
   ]
  },
  {
   "cell_type": "markdown",
   "id": "d24554bf",
   "metadata": {},
   "source": [
    "## HBOS"
   ]
  },
  {
   "cell_type": "code",
   "execution_count": 99,
   "id": "423a4e2f",
   "metadata": {},
   "outputs": [
    {
     "data": {
      "text/plain": [
       "HBOS(alpha=0.1, contamination=0.01, n_bins=10, tol=0.5)"
      ]
     },
     "execution_count": 99,
     "metadata": {},
     "output_type": "execute_result"
    }
   ],
   "source": [
    "clf = HBOS(contamination=0.01)\n",
    "clf.fit(df_train_num)"
   ]
  },
  {
   "cell_type": "code",
   "execution_count": 100,
   "id": "eabefe7b",
   "metadata": {},
   "outputs": [],
   "source": [
    "outliers = clf.predict(df_train_num)"
   ]
  },
  {
   "cell_type": "code",
   "execution_count": 101,
   "id": "56babc16",
   "metadata": {},
   "outputs": [],
   "source": [
    "indexes_hbos = [index for index, value in enumerate(outliers) if value == 1]"
   ]
  },
  {
   "cell_type": "code",
   "execution_count": 102,
   "id": "d793ffdd",
   "metadata": {},
   "outputs": [
    {
     "data": {
      "text/plain": [
       "19"
      ]
     },
     "execution_count": 102,
     "metadata": {},
     "output_type": "execute_result"
    }
   ],
   "source": [
    "len(indexes_hbos)"
   ]
  },
  {
   "cell_type": "markdown",
   "id": "daa72943",
   "metadata": {},
   "source": [
    "# EllEnv"
   ]
  },
  {
   "cell_type": "markdown",
   "id": "beada22c",
   "metadata": {},
   "source": [
    "### Train"
   ]
  },
  {
   "cell_type": "code",
   "execution_count": 103,
   "id": "b8f13866",
   "metadata": {},
   "outputs": [
    {
     "name": "stderr",
     "output_type": "stream",
     "text": [
      "/opt/anaconda3/lib/python3.8/site-packages/sklearn/covariance/_robust_covariance.py:738: UserWarning: The covariance matrix associated to your dataset is not full rank\n",
      "  warnings.warn(\n"
     ]
    },
    {
     "data": {
      "text/html": [
       "<style>#sk-container-id-8 {color: black;background-color: white;}#sk-container-id-8 pre{padding: 0;}#sk-container-id-8 div.sk-toggleable {background-color: white;}#sk-container-id-8 label.sk-toggleable__label {cursor: pointer;display: block;width: 100%;margin-bottom: 0;padding: 0.3em;box-sizing: border-box;text-align: center;}#sk-container-id-8 label.sk-toggleable__label-arrow:before {content: \"▸\";float: left;margin-right: 0.25em;color: #696969;}#sk-container-id-8 label.sk-toggleable__label-arrow:hover:before {color: black;}#sk-container-id-8 div.sk-estimator:hover label.sk-toggleable__label-arrow:before {color: black;}#sk-container-id-8 div.sk-toggleable__content {max-height: 0;max-width: 0;overflow: hidden;text-align: left;background-color: #f0f8ff;}#sk-container-id-8 div.sk-toggleable__content pre {margin: 0.2em;color: black;border-radius: 0.25em;background-color: #f0f8ff;}#sk-container-id-8 input.sk-toggleable__control:checked~div.sk-toggleable__content {max-height: 200px;max-width: 100%;overflow: auto;}#sk-container-id-8 input.sk-toggleable__control:checked~label.sk-toggleable__label-arrow:before {content: \"▾\";}#sk-container-id-8 div.sk-estimator input.sk-toggleable__control:checked~label.sk-toggleable__label {background-color: #d4ebff;}#sk-container-id-8 div.sk-label input.sk-toggleable__control:checked~label.sk-toggleable__label {background-color: #d4ebff;}#sk-container-id-8 input.sk-hidden--visually {border: 0;clip: rect(1px 1px 1px 1px);clip: rect(1px, 1px, 1px, 1px);height: 1px;margin: -1px;overflow: hidden;padding: 0;position: absolute;width: 1px;}#sk-container-id-8 div.sk-estimator {font-family: monospace;background-color: #f0f8ff;border: 1px dotted black;border-radius: 0.25em;box-sizing: border-box;margin-bottom: 0.5em;}#sk-container-id-8 div.sk-estimator:hover {background-color: #d4ebff;}#sk-container-id-8 div.sk-parallel-item::after {content: \"\";width: 100%;border-bottom: 1px solid gray;flex-grow: 1;}#sk-container-id-8 div.sk-label:hover label.sk-toggleable__label {background-color: #d4ebff;}#sk-container-id-8 div.sk-serial::before {content: \"\";position: absolute;border-left: 1px solid gray;box-sizing: border-box;top: 0;bottom: 0;left: 50%;z-index: 0;}#sk-container-id-8 div.sk-serial {display: flex;flex-direction: column;align-items: center;background-color: white;padding-right: 0.2em;padding-left: 0.2em;position: relative;}#sk-container-id-8 div.sk-item {position: relative;z-index: 1;}#sk-container-id-8 div.sk-parallel {display: flex;align-items: stretch;justify-content: center;background-color: white;position: relative;}#sk-container-id-8 div.sk-item::before, #sk-container-id-8 div.sk-parallel-item::before {content: \"\";position: absolute;border-left: 1px solid gray;box-sizing: border-box;top: 0;bottom: 0;left: 50%;z-index: -1;}#sk-container-id-8 div.sk-parallel-item {display: flex;flex-direction: column;z-index: 1;position: relative;background-color: white;}#sk-container-id-8 div.sk-parallel-item:first-child::after {align-self: flex-end;width: 50%;}#sk-container-id-8 div.sk-parallel-item:last-child::after {align-self: flex-start;width: 50%;}#sk-container-id-8 div.sk-parallel-item:only-child::after {width: 0;}#sk-container-id-8 div.sk-dashed-wrapped {border: 1px dashed gray;margin: 0 0.4em 0.5em 0.4em;box-sizing: border-box;padding-bottom: 0.4em;background-color: white;}#sk-container-id-8 div.sk-label label {font-family: monospace;font-weight: bold;display: inline-block;line-height: 1.2em;}#sk-container-id-8 div.sk-label-container {text-align: center;}#sk-container-id-8 div.sk-container {/* jupyter's `normalize.less` sets `[hidden] { display: none; }` but bootstrap.min.css set `[hidden] { display: none !important; }` so we also need the `!important` here to be able to override the default hidden behavior on the sphinx rendered scikit-learn.org. See: https://github.com/scikit-learn/scikit-learn/issues/21755 */display: inline-block !important;position: relative;}#sk-container-id-8 div.sk-text-repr-fallback {display: none;}</style><div id=\"sk-container-id-8\" class=\"sk-top-container\"><div class=\"sk-text-repr-fallback\"><pre>EllipticEnvelope(contamination=0.01, random_state=0)</pre><b>In a Jupyter environment, please rerun this cell to show the HTML representation or trust the notebook. <br />On GitHub, the HTML representation is unable to render, please try loading this page with nbviewer.org.</b></div><div class=\"sk-container\" hidden><div class=\"sk-item\"><div class=\"sk-estimator sk-toggleable\"><input class=\"sk-toggleable__control sk-hidden--visually\" id=\"sk-estimator-id-8\" type=\"checkbox\" checked><label for=\"sk-estimator-id-8\" class=\"sk-toggleable__label sk-toggleable__label-arrow\">EllipticEnvelope</label><div class=\"sk-toggleable__content\"><pre>EllipticEnvelope(contamination=0.01, random_state=0)</pre></div></div></div></div></div>"
      ],
      "text/plain": [
       "EllipticEnvelope(contamination=0.01, random_state=0)"
      ]
     },
     "execution_count": 103,
     "metadata": {},
     "output_type": "execute_result"
    }
   ],
   "source": [
    "ellenv = EllipticEnvelope(random_state=0, contamination=0.01)\n",
    "ellenv.fit(df_train_num)"
   ]
  },
  {
   "cell_type": "code",
   "execution_count": 104,
   "id": "66d38405",
   "metadata": {},
   "outputs": [],
   "source": [
    "outliers_train = ellenv.predict(df_train_num)"
   ]
  },
  {
   "cell_type": "code",
   "execution_count": 105,
   "id": "f0d4da78",
   "metadata": {
    "scrolled": true
   },
   "outputs": [
    {
     "data": {
      "text/plain": [
       "(array([-1,  1]), array([  19, 1809]))"
      ]
     },
     "execution_count": 105,
     "metadata": {},
     "output_type": "execute_result"
    }
   ],
   "source": [
    "np.unique(outliers_train, return_counts=True)"
   ]
  },
  {
   "cell_type": "code",
   "execution_count": 106,
   "id": "5c32790b",
   "metadata": {},
   "outputs": [],
   "source": [
    "indexes_train_eenv = [index for index, value in enumerate(outliers_train) if value ==-1]"
   ]
  },
  {
   "cell_type": "code",
   "execution_count": 107,
   "id": "0c30f9df",
   "metadata": {},
   "outputs": [
    {
     "data": {
      "text/plain": [
       "19"
      ]
     },
     "execution_count": 107,
     "metadata": {},
     "output_type": "execute_result"
    }
   ],
   "source": [
    "len(indexes_train_eenv)"
   ]
  },
  {
   "cell_type": "markdown",
   "id": "6c7f1f7c",
   "metadata": {},
   "source": [
    "### Test"
   ]
  },
  {
   "cell_type": "code",
   "execution_count": 108,
   "id": "7e810e19",
   "metadata": {},
   "outputs": [
    {
     "name": "stderr",
     "output_type": "stream",
     "text": [
      "/opt/anaconda3/lib/python3.8/site-packages/sklearn/covariance/_robust_covariance.py:738: UserWarning: The covariance matrix associated to your dataset is not full rank\n",
      "  warnings.warn(\n"
     ]
    },
    {
     "data": {
      "text/html": [
       "<style>#sk-container-id-9 {color: black;background-color: white;}#sk-container-id-9 pre{padding: 0;}#sk-container-id-9 div.sk-toggleable {background-color: white;}#sk-container-id-9 label.sk-toggleable__label {cursor: pointer;display: block;width: 100%;margin-bottom: 0;padding: 0.3em;box-sizing: border-box;text-align: center;}#sk-container-id-9 label.sk-toggleable__label-arrow:before {content: \"▸\";float: left;margin-right: 0.25em;color: #696969;}#sk-container-id-9 label.sk-toggleable__label-arrow:hover:before {color: black;}#sk-container-id-9 div.sk-estimator:hover label.sk-toggleable__label-arrow:before {color: black;}#sk-container-id-9 div.sk-toggleable__content {max-height: 0;max-width: 0;overflow: hidden;text-align: left;background-color: #f0f8ff;}#sk-container-id-9 div.sk-toggleable__content pre {margin: 0.2em;color: black;border-radius: 0.25em;background-color: #f0f8ff;}#sk-container-id-9 input.sk-toggleable__control:checked~div.sk-toggleable__content {max-height: 200px;max-width: 100%;overflow: auto;}#sk-container-id-9 input.sk-toggleable__control:checked~label.sk-toggleable__label-arrow:before {content: \"▾\";}#sk-container-id-9 div.sk-estimator input.sk-toggleable__control:checked~label.sk-toggleable__label {background-color: #d4ebff;}#sk-container-id-9 div.sk-label input.sk-toggleable__control:checked~label.sk-toggleable__label {background-color: #d4ebff;}#sk-container-id-9 input.sk-hidden--visually {border: 0;clip: rect(1px 1px 1px 1px);clip: rect(1px, 1px, 1px, 1px);height: 1px;margin: -1px;overflow: hidden;padding: 0;position: absolute;width: 1px;}#sk-container-id-9 div.sk-estimator {font-family: monospace;background-color: #f0f8ff;border: 1px dotted black;border-radius: 0.25em;box-sizing: border-box;margin-bottom: 0.5em;}#sk-container-id-9 div.sk-estimator:hover {background-color: #d4ebff;}#sk-container-id-9 div.sk-parallel-item::after {content: \"\";width: 100%;border-bottom: 1px solid gray;flex-grow: 1;}#sk-container-id-9 div.sk-label:hover label.sk-toggleable__label {background-color: #d4ebff;}#sk-container-id-9 div.sk-serial::before {content: \"\";position: absolute;border-left: 1px solid gray;box-sizing: border-box;top: 0;bottom: 0;left: 50%;z-index: 0;}#sk-container-id-9 div.sk-serial {display: flex;flex-direction: column;align-items: center;background-color: white;padding-right: 0.2em;padding-left: 0.2em;position: relative;}#sk-container-id-9 div.sk-item {position: relative;z-index: 1;}#sk-container-id-9 div.sk-parallel {display: flex;align-items: stretch;justify-content: center;background-color: white;position: relative;}#sk-container-id-9 div.sk-item::before, #sk-container-id-9 div.sk-parallel-item::before {content: \"\";position: absolute;border-left: 1px solid gray;box-sizing: border-box;top: 0;bottom: 0;left: 50%;z-index: -1;}#sk-container-id-9 div.sk-parallel-item {display: flex;flex-direction: column;z-index: 1;position: relative;background-color: white;}#sk-container-id-9 div.sk-parallel-item:first-child::after {align-self: flex-end;width: 50%;}#sk-container-id-9 div.sk-parallel-item:last-child::after {align-self: flex-start;width: 50%;}#sk-container-id-9 div.sk-parallel-item:only-child::after {width: 0;}#sk-container-id-9 div.sk-dashed-wrapped {border: 1px dashed gray;margin: 0 0.4em 0.5em 0.4em;box-sizing: border-box;padding-bottom: 0.4em;background-color: white;}#sk-container-id-9 div.sk-label label {font-family: monospace;font-weight: bold;display: inline-block;line-height: 1.2em;}#sk-container-id-9 div.sk-label-container {text-align: center;}#sk-container-id-9 div.sk-container {/* jupyter's `normalize.less` sets `[hidden] { display: none; }` but bootstrap.min.css set `[hidden] { display: none !important; }` so we also need the `!important` here to be able to override the default hidden behavior on the sphinx rendered scikit-learn.org. See: https://github.com/scikit-learn/scikit-learn/issues/21755 */display: inline-block !important;position: relative;}#sk-container-id-9 div.sk-text-repr-fallback {display: none;}</style><div id=\"sk-container-id-9\" class=\"sk-top-container\"><div class=\"sk-text-repr-fallback\"><pre>EllipticEnvelope(random_state=0)</pre><b>In a Jupyter environment, please rerun this cell to show the HTML representation or trust the notebook. <br />On GitHub, the HTML representation is unable to render, please try loading this page with nbviewer.org.</b></div><div class=\"sk-container\" hidden><div class=\"sk-item\"><div class=\"sk-estimator sk-toggleable\"><input class=\"sk-toggleable__control sk-hidden--visually\" id=\"sk-estimator-id-9\" type=\"checkbox\" checked><label for=\"sk-estimator-id-9\" class=\"sk-toggleable__label sk-toggleable__label-arrow\">EllipticEnvelope</label><div class=\"sk-toggleable__content\"><pre>EllipticEnvelope(random_state=0)</pre></div></div></div></div></div>"
      ],
      "text/plain": [
       "EllipticEnvelope(random_state=0)"
      ]
     },
     "execution_count": 108,
     "metadata": {},
     "output_type": "execute_result"
    }
   ],
   "source": [
    "ellenv = EllipticEnvelope(random_state=0)\n",
    "ellenv.fit(df_test_num)"
   ]
  },
  {
   "cell_type": "code",
   "execution_count": 109,
   "id": "50aab273",
   "metadata": {},
   "outputs": [],
   "source": [
    "outliers_test = ellenv.predict(df_test_num)"
   ]
  },
  {
   "cell_type": "code",
   "execution_count": 110,
   "id": "e22c153f",
   "metadata": {
    "scrolled": true
   },
   "outputs": [
    {
     "data": {
      "text/plain": [
       "(array([-1,  1]), array([ 63, 561]))"
      ]
     },
     "execution_count": 110,
     "metadata": {},
     "output_type": "execute_result"
    }
   ],
   "source": [
    "np.unique(outliers_test, return_counts=True)"
   ]
  },
  {
   "cell_type": "code",
   "execution_count": 111,
   "id": "ef98a199",
   "metadata": {},
   "outputs": [
    {
     "data": {
      "text/plain": [
       "0.11229946524064172"
      ]
     },
     "execution_count": 111,
     "metadata": {},
     "output_type": "execute_result"
    }
   ],
   "source": [
    "63 / 561"
   ]
  },
  {
   "cell_type": "markdown",
   "id": "857f1298",
   "metadata": {},
   "source": [
    "# Deviation-Based"
   ]
  },
  {
   "cell_type": "code",
   "execution_count": 112,
   "id": "3a91943b",
   "metadata": {},
   "outputs": [],
   "source": [
    "def sf(x, X):\n",
    "    idx = list(X).index(x)\n",
    "    X1 = np.array([x1 for i, x1 in enumerate(X) if i != idx])\n",
    "    return np.abs(np.var(X) - np.var(X1))\n",
    "\n",
    "# if the variance of X1 is lowered, then the point is an outlier. \n",
    "# quindi tanto più grande è lo scarto, tanto più il punto è un outlier."
   ]
  },
  {
   "cell_type": "code",
   "execution_count": 113,
   "id": "71db9483",
   "metadata": {
    "scrolled": true
   },
   "outputs": [
    {
     "name": "stdout",
     "output_type": "stream",
     "text": [
      "0\n",
      "1\n",
      "2\n",
      "3\n",
      "4\n",
      "5\n",
      "6\n",
      "7\n",
      "8\n",
      "9\n",
      "10\n",
      "11\n",
      "12\n",
      "13\n",
      "14\n",
      "15\n",
      "16\n",
      "17\n",
      "18\n",
      "19\n",
      "20\n",
      "21\n",
      "22\n",
      "23\n",
      "24\n",
      "25\n",
      "26\n",
      "27\n",
      "28\n",
      "29\n",
      "30\n",
      "31\n",
      "32\n",
      "33\n",
      "34\n",
      "35\n",
      "36\n",
      "37\n",
      "38\n",
      "39\n",
      "40\n",
      "41\n",
      "42\n",
      "43\n",
      "44\n",
      "45\n",
      "46\n",
      "47\n",
      "48\n",
      "49\n",
      "50\n",
      "51\n",
      "52\n",
      "53\n",
      "54\n",
      "55\n",
      "56\n",
      "57\n",
      "58\n",
      "59\n",
      "60\n",
      "61\n",
      "62\n",
      "63\n",
      "64\n",
      "65\n",
      "66\n",
      "67\n",
      "68\n",
      "69\n",
      "70\n",
      "71\n",
      "72\n",
      "73\n",
      "74\n",
      "75\n",
      "76\n",
      "77\n",
      "78\n",
      "79\n",
      "80\n",
      "81\n",
      "82\n",
      "83\n",
      "84\n",
      "85\n",
      "86\n",
      "87\n",
      "88\n",
      "89\n",
      "90\n",
      "91\n",
      "92\n",
      "93\n",
      "94\n",
      "95\n",
      "96\n",
      "97\n",
      "98\n",
      "99\n",
      "100\n",
      "101\n",
      "102\n",
      "103\n",
      "104\n",
      "105\n",
      "106\n",
      "107\n",
      "108\n",
      "109\n",
      "110\n",
      "111\n",
      "112\n",
      "113\n",
      "114\n",
      "115\n",
      "116\n",
      "117\n",
      "118\n",
      "119\n",
      "120\n",
      "121\n",
      "122\n",
      "123\n",
      "124\n",
      "125\n",
      "126\n",
      "127\n",
      "128\n",
      "129\n",
      "130\n",
      "131\n",
      "132\n",
      "133\n",
      "134\n",
      "135\n",
      "136\n",
      "137\n",
      "138\n",
      "139\n",
      "140\n",
      "141\n",
      "142\n",
      "143\n",
      "144\n",
      "145\n",
      "146\n",
      "147\n",
      "148\n",
      "149\n",
      "150\n",
      "151\n",
      "152\n",
      "153\n",
      "154\n",
      "155\n",
      "156\n",
      "157\n",
      "158\n",
      "159\n",
      "160\n",
      "161\n",
      "162\n",
      "163\n",
      "164\n",
      "165\n",
      "166\n",
      "167\n",
      "168\n",
      "169\n",
      "170\n",
      "171\n",
      "172\n",
      "173\n",
      "174\n",
      "175\n",
      "176\n",
      "177\n",
      "178\n",
      "179\n",
      "180\n",
      "181\n",
      "182\n",
      "183\n",
      "184\n",
      "185\n",
      "186\n",
      "187\n",
      "188\n",
      "189\n",
      "190\n",
      "191\n",
      "192\n",
      "193\n",
      "194\n",
      "195\n",
      "196\n",
      "197\n",
      "198\n",
      "199\n",
      "200\n",
      "201\n",
      "202\n",
      "203\n",
      "204\n",
      "205\n",
      "206\n",
      "207\n",
      "208\n",
      "209\n",
      "210\n",
      "211\n",
      "212\n",
      "213\n",
      "214\n",
      "215\n",
      "216\n",
      "217\n",
      "218\n",
      "219\n",
      "220\n",
      "221\n",
      "222\n",
      "223\n",
      "224\n",
      "225\n",
      "226\n",
      "227\n",
      "228\n",
      "229\n",
      "230\n",
      "231\n",
      "232\n",
      "233\n",
      "234\n",
      "235\n",
      "236\n",
      "237\n",
      "238\n",
      "239\n",
      "240\n",
      "241\n",
      "242\n",
      "243\n",
      "244\n",
      "245\n",
      "246\n",
      "247\n",
      "248\n",
      "249\n",
      "250\n",
      "251\n",
      "252\n",
      "253\n",
      "254\n",
      "255\n",
      "256\n",
      "257\n",
      "258\n",
      "259\n",
      "260\n",
      "261\n",
      "262\n",
      "263\n",
      "264\n",
      "265\n",
      "266\n",
      "267\n",
      "268\n",
      "269\n",
      "270\n",
      "271\n",
      "272\n",
      "273\n",
      "274\n",
      "275\n",
      "276\n",
      "277\n",
      "278\n",
      "279\n",
      "280\n",
      "281\n",
      "282\n",
      "283\n",
      "284\n",
      "285\n",
      "286\n",
      "287\n",
      "288\n",
      "289\n",
      "290\n",
      "291\n",
      "292\n",
      "293\n",
      "294\n",
      "295\n",
      "296\n",
      "297\n",
      "298\n",
      "299\n",
      "300\n",
      "301\n",
      "302\n",
      "303\n",
      "304\n",
      "305\n",
      "306\n",
      "307\n",
      "308\n",
      "309\n",
      "310\n",
      "311\n",
      "312\n",
      "313\n",
      "314\n",
      "315\n",
      "316\n",
      "317\n",
      "318\n",
      "319\n",
      "320\n",
      "321\n",
      "322\n",
      "323\n",
      "324\n",
      "325\n",
      "326\n",
      "327\n",
      "328\n",
      "329\n",
      "330\n",
      "331\n",
      "332\n",
      "333\n",
      "334\n",
      "335\n",
      "336\n",
      "337\n",
      "338\n",
      "339\n",
      "340\n",
      "341\n",
      "342\n",
      "343\n",
      "344\n",
      "345\n",
      "346\n",
      "347\n",
      "348\n",
      "349\n",
      "350\n",
      "351\n",
      "352\n",
      "353\n",
      "354\n",
      "355\n",
      "356\n",
      "357\n",
      "358\n",
      "359\n",
      "360\n",
      "361\n",
      "362\n",
      "363\n",
      "364\n",
      "365\n",
      "366\n",
      "367\n",
      "368\n",
      "369\n",
      "370\n",
      "371\n",
      "372\n",
      "373\n",
      "374\n",
      "375\n"
     ]
    }
   ],
   "source": [
    "scores = {}\n",
    "counter = 0\n",
    "for var in df_train_num:\n",
    "    print(counter)\n",
    "    for index, value in enumerate(df_train_num[var]):\n",
    "        score = sf(value, df_train_num[var])\n",
    "        scores[score] = index\n",
    "    counter += 1"
   ]
  },
  {
   "cell_type": "code",
   "execution_count": 114,
   "id": "b9c7f624",
   "metadata": {
    "scrolled": false
   },
   "outputs": [],
   "source": [
    "top_scores = get_top_scores(list(scores.keys()), 10)[:19]\n",
    "indexes_train_dev = [scores[score] for  score in top_scores]"
   ]
  },
  {
   "cell_type": "markdown",
   "id": "eef3b8e0",
   "metadata": {},
   "source": [
    "# KNN"
   ]
  },
  {
   "cell_type": "markdown",
   "id": "be50810c",
   "metadata": {},
   "source": [
    "### Train"
   ]
  },
  {
   "cell_type": "code",
   "execution_count": 115,
   "id": "208270d3",
   "metadata": {},
   "outputs": [
    {
     "data": {
      "text/plain": [
       "KNN(algorithm='auto', contamination=0.1, leaf_size=30, method='largest',\n",
       "  metric='minkowski', metric_params=None, n_jobs=1, n_neighbors=5, p=2,\n",
       "  radius=1.0)"
      ]
     },
     "execution_count": 115,
     "metadata": {},
     "output_type": "execute_result"
    }
   ],
   "source": [
    "clf = KNN(n_neighbors=5)\n",
    "clf.fit(df_train_pca)"
   ]
  },
  {
   "cell_type": "code",
   "execution_count": 116,
   "id": "07a6df3d",
   "metadata": {},
   "outputs": [],
   "source": [
    "scores_train_knn = get_top_scores(clf.decision_scores_, 1)"
   ]
  },
  {
   "cell_type": "code",
   "execution_count": 117,
   "id": "d65ba658",
   "metadata": {},
   "outputs": [],
   "source": [
    "indexes_train_knn = get_top_scores(clf.decision_scores_, 1, show_index=True)"
   ]
  },
  {
   "cell_type": "markdown",
   "id": "7954a511",
   "metadata": {},
   "source": [
    "### Test"
   ]
  },
  {
   "cell_type": "code",
   "execution_count": 118,
   "id": "c87f092a",
   "metadata": {},
   "outputs": [
    {
     "data": {
      "text/plain": [
       "KNN(algorithm='auto', contamination=0.1, leaf_size=30, method='largest',\n",
       "  metric='minkowski', metric_params=None, n_jobs=1, n_neighbors=5, p=2,\n",
       "  radius=1.0)"
      ]
     },
     "execution_count": 118,
     "metadata": {},
     "output_type": "execute_result"
    }
   ],
   "source": [
    "clf = KNN(n_neighbors=5)\n",
    "clf.fit(df_test_pca)"
   ]
  },
  {
   "cell_type": "code",
   "execution_count": 119,
   "id": "c8de1f19",
   "metadata": {},
   "outputs": [],
   "source": [
    "scores_test_knn = get_top_scores(clf.decision_scores_, 1)"
   ]
  },
  {
   "cell_type": "code",
   "execution_count": 120,
   "id": "cf195769",
   "metadata": {},
   "outputs": [],
   "source": [
    "indexes_test_knn = get_top_scores(clf.decision_scores_, 1, show_index=True)"
   ]
  },
  {
   "cell_type": "markdown",
   "id": "bb66cec5",
   "metadata": {},
   "source": [
    "# LOF"
   ]
  },
  {
   "cell_type": "markdown",
   "id": "aa784143",
   "metadata": {},
   "source": [
    "### Train"
   ]
  },
  {
   "cell_type": "code",
   "execution_count": 121,
   "id": "7942c7dc",
   "metadata": {
    "scrolled": true
   },
   "outputs": [
    {
     "data": {
      "text/plain": [
       "LOF(algorithm='auto', contamination=0.1, leaf_size=30, metric='minkowski',\n",
       "  metric_params=None, n_jobs=1, n_neighbors=20, novelty=True, p=2)"
      ]
     },
     "execution_count": 121,
     "metadata": {},
     "output_type": "execute_result"
    }
   ],
   "source": [
    "clf = LOF()\n",
    "clf.fit(df_train_pca)"
   ]
  },
  {
   "cell_type": "code",
   "execution_count": 122,
   "id": "2449c841",
   "metadata": {},
   "outputs": [],
   "source": [
    "scores_train_lof = get_top_scores(clf.decision_scores_, 1)"
   ]
  },
  {
   "cell_type": "code",
   "execution_count": 123,
   "id": "a4988aa9",
   "metadata": {},
   "outputs": [],
   "source": [
    "indexes_train_lof = get_top_scores(clf.decision_scores_, 1, show_index=True)"
   ]
  },
  {
   "cell_type": "markdown",
   "id": "4e9583dc",
   "metadata": {},
   "source": [
    "### Test"
   ]
  },
  {
   "cell_type": "code",
   "execution_count": 124,
   "id": "695e6b7d",
   "metadata": {
    "scrolled": true
   },
   "outputs": [
    {
     "data": {
      "text/plain": [
       "LOF(algorithm='auto', contamination=0.1, leaf_size=30, metric='minkowski',\n",
       "  metric_params=None, n_jobs=1, n_neighbors=20, novelty=True, p=2)"
      ]
     },
     "execution_count": 124,
     "metadata": {},
     "output_type": "execute_result"
    }
   ],
   "source": [
    "clf = LOF()\n",
    "clf.fit(df_test_pca)"
   ]
  },
  {
   "cell_type": "code",
   "execution_count": 125,
   "id": "1dda0f00",
   "metadata": {},
   "outputs": [],
   "source": [
    "scores_test_lof = get_top_scores(clf.decision_scores_, 1)"
   ]
  },
  {
   "cell_type": "code",
   "execution_count": 126,
   "id": "0cb19a6f",
   "metadata": {},
   "outputs": [],
   "source": [
    "indexes_test_lof = get_top_scores(clf.decision_scores_, 1, show_index=True)"
   ]
  },
  {
   "cell_type": "markdown",
   "id": "d49cd5f5",
   "metadata": {},
   "source": [
    "## DBSCAN"
   ]
  },
  {
   "cell_type": "code",
   "execution_count": 127,
   "id": "a1c8053c",
   "metadata": {},
   "outputs": [],
   "source": [
    "dist = pdist(df_train_pca, 'euclidean')\n",
    "dist = squareform(dist) "
   ]
  },
  {
   "cell_type": "code",
   "execution_count": 128,
   "id": "59b1b04a",
   "metadata": {},
   "outputs": [],
   "source": [
    "k=12\n",
    "kth_distances = []\n",
    "for d in dist:  # d is a vector containing distances between the ith record and all the others\n",
    "    index_kth_distance = np.argsort(d)[k]  # take the index of the kth nearest neighbor\n",
    "    kth_distances.append(d[index_kth_distance])  # store the distance in a list"
   ]
  },
  {
   "cell_type": "code",
   "execution_count": 129,
   "id": "2ff44167",
   "metadata": {},
   "outputs": [
    {
     "data": {
      "image/png": "[encoded data removed]",
      "text/plain": [
       "<Figure size 640x480 with 1 Axes>"
      ]
     },
     "metadata": {
      "needs_background": "light"
     },
     "output_type": "display_data"
    }
   ],
   "source": [
    "plt.figure(figsize=(8, 6), dpi=80)\n",
    "plt.plot(range(0, len(kth_distances)), sorted(kth_distances))\n",
    "plt.ylabel('Distance from the {}th neighbor'.format(k))\n",
    "#pltaxvline()\n",
    "plt.show() # we plot the distances sorted by distance"
   ]
  },
  {
   "cell_type": "code",
   "execution_count": 130,
   "id": "115dd9cf",
   "metadata": {},
   "outputs": [
    {
     "data": {
      "text/html": [
       "<style>#sk-container-id-10 {color: black;background-color: white;}#sk-container-id-10 pre{padding: 0;}#sk-container-id-10 div.sk-toggleable {background-color: white;}#sk-container-id-10 label.sk-toggleable__label {cursor: pointer;display: block;width: 100%;margin-bottom: 0;padding: 0.3em;box-sizing: border-box;text-align: center;}#sk-container-id-10 label.sk-toggleable__label-arrow:before {content: \"▸\";float: left;margin-right: 0.25em;color: #696969;}#sk-container-id-10 label.sk-toggleable__label-arrow:hover:before {color: black;}#sk-container-id-10 div.sk-estimator:hover label.sk-toggleable__label-arrow:before {color: black;}#sk-container-id-10 div.sk-toggleable__content {max-height: 0;max-width: 0;overflow: hidden;text-align: left;background-color: #f0f8ff;}#sk-container-id-10 div.sk-toggleable__content pre {margin: 0.2em;color: black;border-radius: 0.25em;background-color: #f0f8ff;}#sk-container-id-10 input.sk-toggleable__control:checked~div.sk-toggleable__content {max-height: 200px;max-width: 100%;overflow: auto;}#sk-container-id-10 input.sk-toggleable__control:checked~label.sk-toggleable__label-arrow:before {content: \"▾\";}#sk-container-id-10 div.sk-estimator input.sk-toggleable__control:checked~label.sk-toggleable__label {background-color: #d4ebff;}#sk-container-id-10 div.sk-label input.sk-toggleable__control:checked~label.sk-toggleable__label {background-color: #d4ebff;}#sk-container-id-10 input.sk-hidden--visually {border: 0;clip: rect(1px 1px 1px 1px);clip: rect(1px, 1px, 1px, 1px);height: 1px;margin: -1px;overflow: hidden;padding: 0;position: absolute;width: 1px;}#sk-container-id-10 div.sk-estimator {font-family: monospace;background-color: #f0f8ff;border: 1px dotted black;border-radius: 0.25em;box-sizing: border-box;margin-bottom: 0.5em;}#sk-container-id-10 div.sk-estimator:hover {background-color: #d4ebff;}#sk-container-id-10 div.sk-parallel-item::after {content: \"\";width: 100%;border-bottom: 1px solid gray;flex-grow: 1;}#sk-container-id-10 div.sk-label:hover label.sk-toggleable__label {background-color: #d4ebff;}#sk-container-id-10 div.sk-serial::before {content: \"\";position: absolute;border-left: 1px solid gray;box-sizing: border-box;top: 0;bottom: 0;left: 50%;z-index: 0;}#sk-container-id-10 div.sk-serial {display: flex;flex-direction: column;align-items: center;background-color: white;padding-right: 0.2em;padding-left: 0.2em;position: relative;}#sk-container-id-10 div.sk-item {position: relative;z-index: 1;}#sk-container-id-10 div.sk-parallel {display: flex;align-items: stretch;justify-content: center;background-color: white;position: relative;}#sk-container-id-10 div.sk-item::before, #sk-container-id-10 div.sk-parallel-item::before {content: \"\";position: absolute;border-left: 1px solid gray;box-sizing: border-box;top: 0;bottom: 0;left: 50%;z-index: -1;}#sk-container-id-10 div.sk-parallel-item {display: flex;flex-direction: column;z-index: 1;position: relative;background-color: white;}#sk-container-id-10 div.sk-parallel-item:first-child::after {align-self: flex-end;width: 50%;}#sk-container-id-10 div.sk-parallel-item:last-child::after {align-self: flex-start;width: 50%;}#sk-container-id-10 div.sk-parallel-item:only-child::after {width: 0;}#sk-container-id-10 div.sk-dashed-wrapped {border: 1px dashed gray;margin: 0 0.4em 0.5em 0.4em;box-sizing: border-box;padding-bottom: 0.4em;background-color: white;}#sk-container-id-10 div.sk-label label {font-family: monospace;font-weight: bold;display: inline-block;line-height: 1.2em;}#sk-container-id-10 div.sk-label-container {text-align: center;}#sk-container-id-10 div.sk-container {/* jupyter's `normalize.less` sets `[hidden] { display: none; }` but bootstrap.min.css set `[hidden] { display: none !important; }` so we also need the `!important` here to be able to override the default hidden behavior on the sphinx rendered scikit-learn.org. See: https://github.com/scikit-learn/scikit-learn/issues/21755 */display: inline-block !important;position: relative;}#sk-container-id-10 div.sk-text-repr-fallback {display: none;}</style><div id=\"sk-container-id-10\" class=\"sk-top-container\"><div class=\"sk-text-repr-fallback\"><pre>DBSCAN(eps=0.85, min_samples=12)</pre><b>In a Jupyter environment, please rerun this cell to show the HTML representation or trust the notebook. <br />On GitHub, the HTML representation is unable to render, please try loading this page with nbviewer.org.</b></div><div class=\"sk-container\" hidden><div class=\"sk-item\"><div class=\"sk-estimator sk-toggleable\"><input class=\"sk-toggleable__control sk-hidden--visually\" id=\"sk-estimator-id-10\" type=\"checkbox\" checked><label for=\"sk-estimator-id-10\" class=\"sk-toggleable__label sk-toggleable__label-arrow\">DBSCAN</label><div class=\"sk-toggleable__content\"><pre>DBSCAN(eps=0.85, min_samples=12)</pre></div></div></div></div></div>"
      ],
      "text/plain": [
       "DBSCAN(eps=0.85, min_samples=12)"
      ]
     },
     "execution_count": 130,
     "metadata": {},
     "output_type": "execute_result"
    }
   ],
   "source": [
    "dbscan = DBSCAN(eps=0.85, min_samples=12)\n",
    "dbscan.fit(df_train_pca)"
   ]
  },
  {
   "cell_type": "code",
   "execution_count": 131,
   "id": "c8f2e8b6",
   "metadata": {},
   "outputs": [
    {
     "data": {
      "text/plain": [
       "(array([-1,  0]), array([  19, 1809]))"
      ]
     },
     "execution_count": 131,
     "metadata": {},
     "output_type": "execute_result"
    }
   ],
   "source": [
    "np.unique(dbscan.labels_, return_counts=True)"
   ]
  },
  {
   "cell_type": "code",
   "execution_count": 132,
   "id": "ee61ddc6",
   "metadata": {},
   "outputs": [],
   "source": [
    "indexes_dbscan = list(pd.DataFrame(df_train_pca).loc[np.where(dbscan.labels_==-1)].index)"
   ]
  },
  {
   "cell_type": "markdown",
   "id": "8bc81ef6",
   "metadata": {},
   "source": [
    "# Comparison"
   ]
  },
  {
   "cell_type": "code",
   "execution_count": 133,
   "id": "1820f23f",
   "metadata": {},
   "outputs": [],
   "source": [
    "index_dict = {\"LOF\": indexes_train_lof, \n",
    "              \"KNN\": indexes_train_knn, \n",
    "              \"DB\": indexes_train_dev, \n",
    "              \"HBOS\": indexes_hbos,\n",
    "              \"EE\": indexes_train_eenv,\n",
    "              \"DBSCAN\": indexes_dbscan}"
   ]
  },
  {
   "cell_type": "code",
   "execution_count": 134,
   "id": "00c5d552",
   "metadata": {},
   "outputs": [
    {
     "name": "stdout",
     "output_type": "stream",
     "text": [
      "19 19 19 19 19 19\n"
     ]
    }
   ],
   "source": [
    "print(len(indexes_hbos), len(indexes_train_dev), \n",
    "      len(indexes_train_lof), len(indexes_train_knn), \n",
    "      len(indexes_train_eenv), len(indexes_dbscan))"
   ]
  },
  {
   "cell_type": "code",
   "execution_count": 135,
   "id": "39ae9ab7",
   "metadata": {},
   "outputs": [],
   "source": [
    "sets = powerset([indexes_train_lof, \n",
    "                 indexes_train_knn, \n",
    "                 indexes_train_dev, \n",
    "                 indexes_hbos, \n",
    "                 indexes_train_eenv, \n",
    "                 indexes_dbscan])\n",
    "sets = [list(item) for item in sets]"
   ]
  },
  {
   "cell_type": "code",
   "execution_count": 136,
   "id": "822c63f7",
   "metadata": {},
   "outputs": [],
   "source": [
    "intersections = {}\n",
    "for item in sets:\n",
    "    if len(item) == 2:\n",
    "        intersection = inter(item[0], item[1])\n",
    "        key1 = list(index_dict.keys())[list(index_dict.values()).index(item[0])]\n",
    "        key2 = list(index_dict.keys())[list(index_dict.values()).index(item[1])]\n",
    "        key = key1 + \"-\" + key2\n",
    "        intersections[key] = round(len(intersection) / len(item[0]), 2)\n",
    "    elif len(item) == 3:\n",
    "        intersection = inter(item[0], item[1], item[2])\n",
    "        key1 = list(index_dict.keys())[list(index_dict.values()).index(item[0])]\n",
    "        key2 = list(index_dict.keys())[list(index_dict.values()).index(item[1])]\n",
    "        key3 = list(index_dict.keys())[list(index_dict.values()).index(item[2])]\n",
    "        key = key1 + \"-\" + key2 + \"-\" + key3\n",
    "        intersections[key] = round(len(intersection) / len(item[0]), 2)\n",
    "    elif len(item) == 4:\n",
    "        intersection = inter(item[0], item[1], item[2], item[3])\n",
    "        key1 = list(index_dict.keys())[list(index_dict.values()).index(item[0])]\n",
    "        key2 = list(index_dict.keys())[list(index_dict.values()).index(item[1])]\n",
    "        key3 = list(index_dict.keys())[list(index_dict.values()).index(item[2])]\n",
    "        key4 = list(index_dict.keys())[list(index_dict.values()).index(item[3])]\n",
    "        key = key1 + \"-\" + key2 + \"-\" + key3 + \"-\" + key4\n",
    "        intersections[key] = round(len(intersection) / len(item[0]), 2)\n",
    "    elif len(item) == 5:\n",
    "        intersection = inter(item[0], item[1], item[2], item[3], item[4])\n",
    "        key1 = list(index_dict.keys())[list(index_dict.values()).index(item[0])]\n",
    "        key2 = list(index_dict.keys())[list(index_dict.values()).index(item[1])]\n",
    "        key3 = list(index_dict.keys())[list(index_dict.values()).index(item[2])]\n",
    "        key4 = list(index_dict.keys())[list(index_dict.values()).index(item[3])]\n",
    "        key5 = list(index_dict.keys())[list(index_dict.values()).index(item[4])]\n",
    "        key = key1 + \"-\" + key2 + \"-\" + key3 + \"-\" + key4 + \"-\" + key5\n",
    "        intersections[key] = round(len(intersection) / len(item[0]), 2)\n",
    "    elif len(item) == 6:\n",
    "        intersection = inter(item[0], item[1], item[2], item[3], item[4], item[5])\n",
    "        key1 = list(index_dict.keys())[list(index_dict.values()).index(item[0])]\n",
    "        key2 = list(index_dict.keys())[list(index_dict.values()).index(item[1])]\n",
    "        key3 = list(index_dict.keys())[list(index_dict.values()).index(item[2])]\n",
    "        key4 = list(index_dict.keys())[list(index_dict.values()).index(item[3])]\n",
    "        key5 = list(index_dict.keys())[list(index_dict.values()).index(item[4])]\n",
    "        key6 = list(index_dict.keys())[list(index_dict.values()).index(item[5])]\n",
    "        key = key1 + \"-\" + key2 + \"-\" + key3 + \"-\" + key4 + \"-\" + key5 + \"-\" + key6\n",
    "        intersections[key] = round(len(intersection) / len(item[0]), 2)"
   ]
  },
  {
   "cell_type": "code",
   "execution_count": 137,
   "id": "40f04431",
   "metadata": {
    "scrolled": false
   },
   "outputs": [
    {
     "data": {
      "text/plain": [
       "{'LOF-KNN': 0.26,\n",
       " 'LOF-DB': 0.11,\n",
       " 'LOF-HBOS': 0.11,\n",
       " 'LOF-EE': 0.05,\n",
       " 'LOF-DBSCAN': 0.21,\n",
       " 'KNN-DB': 0.05,\n",
       " 'KNN-HBOS': 0.32,\n",
       " 'KNN-EE': 0.16,\n",
       " 'KNN-DBSCAN': 0.79,\n",
       " 'DB-HBOS': 0.05,\n",
       " 'DB-EE': 0.21,\n",
       " 'DB-DBSCAN': 0.0,\n",
       " 'HBOS-EE': 0.0,\n",
       " 'HBOS-DBSCAN': 0.32,\n",
       " 'EE-DBSCAN': 0.05,\n",
       " 'LOF-KNN-DB': 0.05,\n",
       " 'LOF-KNN-HBOS': 0.11,\n",
       " 'LOF-KNN-EE': 0.05,\n",
       " 'LOF-KNN-DBSCAN': 0.21,\n",
       " 'LOF-DB-HBOS': 0.0,\n",
       " 'LOF-DB-EE': 0.05,\n",
       " 'LOF-DB-DBSCAN': 0.0,\n",
       " 'LOF-HBOS-EE': 0.0,\n",
       " 'LOF-HBOS-DBSCAN': 0.11,\n",
       " 'LOF-EE-DBSCAN': 0.0,\n",
       " 'KNN-DB-HBOS': 0.0,\n",
       " 'KNN-DB-EE': 0.05,\n",
       " 'KNN-DB-DBSCAN': 0.0,\n",
       " 'KNN-HBOS-EE': 0.0,\n",
       " 'KNN-HBOS-DBSCAN': 0.32,\n",
       " 'KNN-EE-DBSCAN': 0.05,\n",
       " 'DB-HBOS-EE': 0.0,\n",
       " 'DB-HBOS-DBSCAN': 0.0,\n",
       " 'DB-EE-DBSCAN': 0.0,\n",
       " 'HBOS-EE-DBSCAN': 0.0,\n",
       " 'LOF-KNN-DB-HBOS': 0.0,\n",
       " 'LOF-KNN-DB-EE': 0.05,\n",
       " 'LOF-KNN-DB-DBSCAN': 0.0,\n",
       " 'LOF-KNN-HBOS-EE': 0.0,\n",
       " 'LOF-KNN-HBOS-DBSCAN': 0.11,\n",
       " 'LOF-KNN-EE-DBSCAN': 0.0,\n",
       " 'LOF-DB-HBOS-EE': 0.0,\n",
       " 'LOF-DB-HBOS-DBSCAN': 0.0,\n",
       " 'LOF-DB-EE-DBSCAN': 0.0,\n",
       " 'LOF-HBOS-EE-DBSCAN': 0.0,\n",
       " 'KNN-DB-HBOS-EE': 0.0,\n",
       " 'KNN-DB-HBOS-DBSCAN': 0.0,\n",
       " 'KNN-DB-EE-DBSCAN': 0.0,\n",
       " 'KNN-HBOS-EE-DBSCAN': 0.0,\n",
       " 'DB-HBOS-EE-DBSCAN': 0.0,\n",
       " 'LOF-KNN-DB-HBOS-EE': 0.0,\n",
       " 'LOF-KNN-DB-HBOS-DBSCAN': 0.0,\n",
       " 'LOF-KNN-DB-EE-DBSCAN': 0.0,\n",
       " 'LOF-KNN-HBOS-EE-DBSCAN': 0.0,\n",
       " 'LOF-DB-HBOS-EE-DBSCAN': 0.0,\n",
       " 'KNN-DB-HBOS-EE-DBSCAN': 0.0,\n",
       " 'LOF-KNN-DB-HBOS-EE-DBSCAN': 0.0}"
      ]
     },
     "execution_count": 137,
     "metadata": {},
     "output_type": "execute_result"
    }
   ],
   "source": [
    "intersections"
   ]
  },
  {
   "cell_type": "code",
   "execution_count": 141,
   "id": "13ee9d9a",
   "metadata": {
    "scrolled": false
   },
   "outputs": [
    {
     "data": {
      "image/png": "[encoded data removed]",
      "text/plain": [
       "<Figure size 1440x1440 with 1 Axes>"
      ]
     },
     "metadata": {
      "needs_background": "light"
     },
     "output_type": "display_data"
    }
   ],
   "source": [
    "plt.rcParams[\"figure.figsize\"] = (20, 20)\n",
    "data = pd.DataFrame(intersections, index=[0]).T.sort_values(by=0)\n",
    "ax = data.plot(kind=\"barh\")\n",
    "plt.title(\"Fraction of 1% top outliers shared by detection methods\")\n",
    "ax.get_legend().remove()\n",
    "plt.show()"
   ]
  },
  {
   "cell_type": "code",
   "execution_count": null,
   "id": "5c6abf51",
   "metadata": {},
   "outputs": [],
   "source": []
  }
 ],
 "metadata": {
  "kernelspec": {
   "display_name": "Python 3",
   "language": "python",
   "name": "python3"
  },
  "language_info": {
   "codemirror_mode": {
    "name": "ipython",
    "version": 3
   },
   "file_extension": ".py",
   "mimetype": "text/x-python",
   "name": "python",
   "nbconvert_exporter": "python",
   "pygments_lexer": "ipython3",
   "version": "3.8.8"
  }
 },
 "nbformat": 4,
 "nbformat_minor": 5
}
