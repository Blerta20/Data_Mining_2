{
 "cells": [
  {
   "cell_type": "code",
   "execution_count": 1,
   "metadata": {},
   "outputs": [],
   "source": [
    "import pandas as pd\n",
    "import numpy as np\n",
    "from scipy import stats\n",
    "import matplotlib.pyplot as plt\n",
    "import seaborn as sns\n",
    "from collections import Counter\n",
    "\n",
    "from sklearn.preprocessing import MinMaxScaler\n",
    "from sklearn.model_selection import train_test_split\n",
    "\n",
    "from sklearn.neighbors import KNeighborsClassifier\n",
    "\n",
    "\n",
    "from sklearn.metrics import classification_report\n",
    "from sklearn.metrics import accuracy_score\n",
    "from sklearn.metrics import precision_score\n",
    "from sklearn.metrics import recall_score\n",
    "from sklearn.metrics import f1_score\n",
    "\n",
    "from sklearn import preprocessing\n",
    "\n",
    "\n",
    "from sklearn.tree import DecisionTreeClassifier\n",
    "from sklearn.model_selection import RandomizedSearchCV\n",
    "\n",
    "from math import ceil\n",
    "\n",
    "import warnings\n",
    "#warnings.filterwarnings(\"ignore\")"
   ]
  },
  {
   "cell_type": "code",
   "execution_count": 2,
   "metadata": {},
   "outputs": [],
   "source": [
    "sns.set_style(\"whitegrid\", {'grid.linestyle': '--'})\n",
    "sns.set_style({'font.family':'serif', 'font.serif':'Computer Modern'})\n",
    "sns.set_context(font_scale=2, rc={\"font.size\":10,\"axes.titlesize\":20,\"axes.labelsize\":15})"
   ]
  },
  {
   "cell_type": "code",
   "execution_count": 3,
   "metadata": {},
   "outputs": [],
   "source": [
    "df_train = pd.read_csv(\"df_train_processed.csv\")"
   ]
  },
  {
   "cell_type": "code",
   "execution_count": 4,
   "metadata": {},
   "outputs": [],
   "source": [
    "df_train = df_train.drop(columns=['actor'])"
   ]
  },
  {
   "cell_type": "code",
   "execution_count": 6,
   "metadata": {},
   "outputs": [
    {
     "data": {
      "text/plain": [
       "M    936\n",
       "F    892\n",
       "Name: sex, dtype: int64"
      ]
     },
     "execution_count": 6,
     "metadata": {},
     "output_type": "execute_result"
    }
   ],
   "source": [
    "df_train['sex'].value_counts()"
   ]
  },
  {
   "cell_type": "markdown",
   "metadata": {},
   "source": [
    "## Standardization"
   ]
  },
  {
   "cell_type": "code",
   "execution_count": 7,
   "metadata": {},
   "outputs": [],
   "source": [
    "df_train_num = df_train.select_dtypes(include=\"number\")\n",
    "df_train_cat = df_train.select_dtypes(include=['object'])\n",
    "\n",
    "scaler = MinMaxScaler()\n",
    "df_train_num_scaled = pd.DataFrame(scaler.fit_transform(df_train_num), columns=df_train_num.columns)\n",
    "df_train = pd.concat([df_train_num_scaled, df_train_cat], axis=1)"
   ]
  },
  {
   "cell_type": "code",
   "execution_count": 8,
   "metadata": {},
   "outputs": [],
   "source": [
    "df_train_model = df_train"
   ]
  },
  {
   "cell_type": "code",
   "execution_count": 9,
   "metadata": {},
   "outputs": [],
   "source": [
    "label_encoder = preprocessing.LabelEncoder()\n",
    "df_train_model['sex']= label_encoder.fit_transform(df_train_model['sex'])"
   ]
  },
  {
   "cell_type": "code",
   "execution_count": 10,
   "metadata": {},
   "outputs": [],
   "source": [
    "df_train_model = pd.get_dummies(df_train_model)"
   ]
  },
  {
   "cell_type": "code",
   "execution_count": 11,
   "metadata": {},
   "outputs": [],
   "source": [
    "df_sex_train = df_train_model"
   ]
  },
  {
   "cell_type": "code",
   "execution_count": 12,
   "metadata": {},
   "outputs": [
    {
     "data": {
      "text/html": [
       "<div>\n",
       "<style scoped>\n",
       "    .dataframe tbody tr th:only-of-type {\n",
       "        vertical-align: middle;\n",
       "    }\n",
       "\n",
       "    .dataframe tbody tr th {\n",
       "        vertical-align: top;\n",
       "    }\n",
       "\n",
       "    .dataframe thead th {\n",
       "        text-align: right;\n",
       "    }\n",
       "</style>\n",
       "<table border=\"1\" class=\"dataframe\">\n",
       "  <thead>\n",
       "    <tr style=\"text-align: right;\">\n",
       "      <th></th>\n",
       "      <th>frame_count</th>\n",
       "      <th>sum</th>\n",
       "      <th>mean</th>\n",
       "      <th>std</th>\n",
       "      <th>min</th>\n",
       "      <th>max</th>\n",
       "      <th>q01</th>\n",
       "      <th>q05</th>\n",
       "      <th>q25</th>\n",
       "      <th>q50</th>\n",
       "      <th>...</th>\n",
       "      <th>emotion_happy</th>\n",
       "      <th>emotion_neutral</th>\n",
       "      <th>emotion_sad</th>\n",
       "      <th>emotion_surprised</th>\n",
       "      <th>emotional_intensity_normal</th>\n",
       "      <th>emotional_intensity_strong</th>\n",
       "      <th>statement_Dogs are sitting by the door</th>\n",
       "      <th>statement_Kids are talking by the door</th>\n",
       "      <th>repetition_1st</th>\n",
       "      <th>repetition_2nd</th>\n",
       "    </tr>\n",
       "  </thead>\n",
       "  <tbody>\n",
       "    <tr>\n",
       "      <th>0</th>\n",
       "      <td>0.107840</td>\n",
       "      <td>0.385871</td>\n",
       "      <td>0.435971</td>\n",
       "      <td>0.022102</td>\n",
       "      <td>0.967474</td>\n",
       "      <td>0.036119</td>\n",
       "      <td>0.979319</td>\n",
       "      <td>0.978418</td>\n",
       "      <td>0.998047</td>\n",
       "      <td>0.25</td>\n",
       "      <td>...</td>\n",
       "      <td>0</td>\n",
       "      <td>1</td>\n",
       "      <td>0</td>\n",
       "      <td>0</td>\n",
       "      <td>1</td>\n",
       "      <td>0</td>\n",
       "      <td>0</td>\n",
       "      <td>1</td>\n",
       "      <td>1</td>\n",
       "      <td>0</td>\n",
       "    </tr>\n",
       "    <tr>\n",
       "      <th>1</th>\n",
       "      <td>0.117646</td>\n",
       "      <td>0.385792</td>\n",
       "      <td>0.435878</td>\n",
       "      <td>0.023967</td>\n",
       "      <td>0.963262</td>\n",
       "      <td>0.043729</td>\n",
       "      <td>0.977355</td>\n",
       "      <td>0.977549</td>\n",
       "      <td>0.998047</td>\n",
       "      <td>0.25</td>\n",
       "      <td>...</td>\n",
       "      <td>0</td>\n",
       "      <td>1</td>\n",
       "      <td>0</td>\n",
       "      <td>0</td>\n",
       "      <td>1</td>\n",
       "      <td>0</td>\n",
       "      <td>0</td>\n",
       "      <td>1</td>\n",
       "      <td>0</td>\n",
       "      <td>1</td>\n",
       "    </tr>\n",
       "    <tr>\n",
       "      <th>2</th>\n",
       "      <td>0.098033</td>\n",
       "      <td>0.385883</td>\n",
       "      <td>0.435989</td>\n",
       "      <td>0.029249</td>\n",
       "      <td>0.968888</td>\n",
       "      <td>0.054101</td>\n",
       "      <td>0.972723</td>\n",
       "      <td>0.972712</td>\n",
       "      <td>1.000000</td>\n",
       "      <td>0.25</td>\n",
       "      <td>...</td>\n",
       "      <td>0</td>\n",
       "      <td>1</td>\n",
       "      <td>0</td>\n",
       "      <td>0</td>\n",
       "      <td>1</td>\n",
       "      <td>0</td>\n",
       "      <td>1</td>\n",
       "      <td>0</td>\n",
       "      <td>1</td>\n",
       "      <td>0</td>\n",
       "    </tr>\n",
       "    <tr>\n",
       "      <th>3</th>\n",
       "      <td>0.068626</td>\n",
       "      <td>0.385857</td>\n",
       "      <td>0.435972</td>\n",
       "      <td>0.027946</td>\n",
       "      <td>0.969257</td>\n",
       "      <td>0.058336</td>\n",
       "      <td>0.974555</td>\n",
       "      <td>0.975069</td>\n",
       "      <td>0.998047</td>\n",
       "      <td>0.25</td>\n",
       "      <td>...</td>\n",
       "      <td>0</td>\n",
       "      <td>1</td>\n",
       "      <td>0</td>\n",
       "      <td>0</td>\n",
       "      <td>1</td>\n",
       "      <td>0</td>\n",
       "      <td>1</td>\n",
       "      <td>0</td>\n",
       "      <td>0</td>\n",
       "      <td>1</td>\n",
       "    </tr>\n",
       "    <tr>\n",
       "      <th>4</th>\n",
       "      <td>0.176466</td>\n",
       "      <td>0.385852</td>\n",
       "      <td>0.435923</td>\n",
       "      <td>0.015209</td>\n",
       "      <td>0.979741</td>\n",
       "      <td>0.021665</td>\n",
       "      <td>0.985816</td>\n",
       "      <td>0.984619</td>\n",
       "      <td>0.998047</td>\n",
       "      <td>0.25</td>\n",
       "      <td>...</td>\n",
       "      <td>0</td>\n",
       "      <td>0</td>\n",
       "      <td>0</td>\n",
       "      <td>0</td>\n",
       "      <td>1</td>\n",
       "      <td>0</td>\n",
       "      <td>0</td>\n",
       "      <td>1</td>\n",
       "      <td>1</td>\n",
       "      <td>0</td>\n",
       "    </tr>\n",
       "    <tr>\n",
       "      <th>...</th>\n",
       "      <td>...</td>\n",
       "      <td>...</td>\n",
       "      <td>...</td>\n",
       "      <td>...</td>\n",
       "      <td>...</td>\n",
       "      <td>...</td>\n",
       "      <td>...</td>\n",
       "      <td>...</td>\n",
       "      <td>...</td>\n",
       "      <td>...</td>\n",
       "      <td>...</td>\n",
       "      <td>...</td>\n",
       "      <td>...</td>\n",
       "      <td>...</td>\n",
       "      <td>...</td>\n",
       "      <td>...</td>\n",
       "      <td>...</td>\n",
       "      <td>...</td>\n",
       "      <td>...</td>\n",
       "      <td>...</td>\n",
       "      <td>...</td>\n",
       "    </tr>\n",
       "    <tr>\n",
       "      <th>1823</th>\n",
       "      <td>0.166666</td>\n",
       "      <td>0.385107</td>\n",
       "      <td>0.435124</td>\n",
       "      <td>0.031328</td>\n",
       "      <td>0.972209</td>\n",
       "      <td>0.030257</td>\n",
       "      <td>0.965099</td>\n",
       "      <td>0.963285</td>\n",
       "      <td>1.000000</td>\n",
       "      <td>0.25</td>\n",
       "      <td>...</td>\n",
       "      <td>0</td>\n",
       "      <td>0</td>\n",
       "      <td>0</td>\n",
       "      <td>1</td>\n",
       "      <td>1</td>\n",
       "      <td>0</td>\n",
       "      <td>1</td>\n",
       "      <td>0</td>\n",
       "      <td>0</td>\n",
       "      <td>1</td>\n",
       "    </tr>\n",
       "    <tr>\n",
       "      <th>1824</th>\n",
       "      <td>0.205885</td>\n",
       "      <td>0.385144</td>\n",
       "      <td>0.435179</td>\n",
       "      <td>0.053698</td>\n",
       "      <td>0.933749</td>\n",
       "      <td>0.068678</td>\n",
       "      <td>0.942827</td>\n",
       "      <td>0.946540</td>\n",
       "      <td>0.998047</td>\n",
       "      <td>0.25</td>\n",
       "      <td>...</td>\n",
       "      <td>0</td>\n",
       "      <td>0</td>\n",
       "      <td>0</td>\n",
       "      <td>1</td>\n",
       "      <td>0</td>\n",
       "      <td>1</td>\n",
       "      <td>0</td>\n",
       "      <td>1</td>\n",
       "      <td>1</td>\n",
       "      <td>0</td>\n",
       "    </tr>\n",
       "    <tr>\n",
       "      <th>1825</th>\n",
       "      <td>0.176472</td>\n",
       "      <td>0.384963</td>\n",
       "      <td>0.434975</td>\n",
       "      <td>0.061256</td>\n",
       "      <td>0.949551</td>\n",
       "      <td>0.065302</td>\n",
       "      <td>0.938908</td>\n",
       "      <td>0.926198</td>\n",
       "      <td>1.000000</td>\n",
       "      <td>0.25</td>\n",
       "      <td>...</td>\n",
       "      <td>0</td>\n",
       "      <td>0</td>\n",
       "      <td>0</td>\n",
       "      <td>1</td>\n",
       "      <td>0</td>\n",
       "      <td>1</td>\n",
       "      <td>0</td>\n",
       "      <td>1</td>\n",
       "      <td>0</td>\n",
       "      <td>1</td>\n",
       "    </tr>\n",
       "    <tr>\n",
       "      <th>1826</th>\n",
       "      <td>0.274511</td>\n",
       "      <td>0.385282</td>\n",
       "      <td>0.435335</td>\n",
       "      <td>0.076355</td>\n",
       "      <td>0.935194</td>\n",
       "      <td>0.065670</td>\n",
       "      <td>0.924723</td>\n",
       "      <td>0.911313</td>\n",
       "      <td>0.998047</td>\n",
       "      <td>0.25</td>\n",
       "      <td>...</td>\n",
       "      <td>0</td>\n",
       "      <td>0</td>\n",
       "      <td>0</td>\n",
       "      <td>1</td>\n",
       "      <td>0</td>\n",
       "      <td>1</td>\n",
       "      <td>1</td>\n",
       "      <td>0</td>\n",
       "      <td>1</td>\n",
       "      <td>0</td>\n",
       "    </tr>\n",
       "    <tr>\n",
       "      <th>1827</th>\n",
       "      <td>0.205879</td>\n",
       "      <td>0.385003</td>\n",
       "      <td>0.435032</td>\n",
       "      <td>0.059449</td>\n",
       "      <td>0.942818</td>\n",
       "      <td>0.061067</td>\n",
       "      <td>0.940339</td>\n",
       "      <td>0.929051</td>\n",
       "      <td>0.998047</td>\n",
       "      <td>0.25</td>\n",
       "      <td>...</td>\n",
       "      <td>0</td>\n",
       "      <td>0</td>\n",
       "      <td>0</td>\n",
       "      <td>1</td>\n",
       "      <td>0</td>\n",
       "      <td>1</td>\n",
       "      <td>1</td>\n",
       "      <td>0</td>\n",
       "      <td>0</td>\n",
       "      <td>1</td>\n",
       "    </tr>\n",
       "  </tbody>\n",
       "</table>\n",
       "<p>1828 rows × 391 columns</p>\n",
       "</div>"
      ],
      "text/plain": [
       "      frame_count       sum      mean       std       min       max       q01  \\\n",
       "0        0.107840  0.385871  0.435971  0.022102  0.967474  0.036119  0.979319   \n",
       "1        0.117646  0.385792  0.435878  0.023967  0.963262  0.043729  0.977355   \n",
       "2        0.098033  0.385883  0.435989  0.029249  0.968888  0.054101  0.972723   \n",
       "3        0.068626  0.385857  0.435972  0.027946  0.969257  0.058336  0.974555   \n",
       "4        0.176466  0.385852  0.435923  0.015209  0.979741  0.021665  0.985816   \n",
       "...           ...       ...       ...       ...       ...       ...       ...   \n",
       "1823     0.166666  0.385107  0.435124  0.031328  0.972209  0.030257  0.965099   \n",
       "1824     0.205885  0.385144  0.435179  0.053698  0.933749  0.068678  0.942827   \n",
       "1825     0.176472  0.384963  0.434975  0.061256  0.949551  0.065302  0.938908   \n",
       "1826     0.274511  0.385282  0.435335  0.076355  0.935194  0.065670  0.924723   \n",
       "1827     0.205879  0.385003  0.435032  0.059449  0.942818  0.061067  0.940339   \n",
       "\n",
       "           q05       q25   q50  ...  emotion_happy  emotion_neutral  \\\n",
       "0     0.978418  0.998047  0.25  ...              0                1   \n",
       "1     0.977549  0.998047  0.25  ...              0                1   \n",
       "2     0.972712  1.000000  0.25  ...              0                1   \n",
       "3     0.975069  0.998047  0.25  ...              0                1   \n",
       "4     0.984619  0.998047  0.25  ...              0                0   \n",
       "...        ...       ...   ...  ...            ...              ...   \n",
       "1823  0.963285  1.000000  0.25  ...              0                0   \n",
       "1824  0.946540  0.998047  0.25  ...              0                0   \n",
       "1825  0.926198  1.000000  0.25  ...              0                0   \n",
       "1826  0.911313  0.998047  0.25  ...              0                0   \n",
       "1827  0.929051  0.998047  0.25  ...              0                0   \n",
       "\n",
       "      emotion_sad  emotion_surprised  emotional_intensity_normal  \\\n",
       "0               0                  0                           1   \n",
       "1               0                  0                           1   \n",
       "2               0                  0                           1   \n",
       "3               0                  0                           1   \n",
       "4               0                  0                           1   \n",
       "...           ...                ...                         ...   \n",
       "1823            0                  1                           1   \n",
       "1824            0                  1                           0   \n",
       "1825            0                  1                           0   \n",
       "1826            0                  1                           0   \n",
       "1827            0                  1                           0   \n",
       "\n",
       "      emotional_intensity_strong  statement_Dogs are sitting by the door  \\\n",
       "0                              0                                       0   \n",
       "1                              0                                       0   \n",
       "2                              0                                       1   \n",
       "3                              0                                       1   \n",
       "4                              0                                       0   \n",
       "...                          ...                                     ...   \n",
       "1823                           0                                       1   \n",
       "1824                           1                                       0   \n",
       "1825                           1                                       0   \n",
       "1826                           1                                       1   \n",
       "1827                           1                                       1   \n",
       "\n",
       "      statement_Kids are talking by the door  repetition_1st  repetition_2nd  \n",
       "0                                          1               1               0  \n",
       "1                                          1               0               1  \n",
       "2                                          0               1               0  \n",
       "3                                          0               0               1  \n",
       "4                                          1               1               0  \n",
       "...                                      ...             ...             ...  \n",
       "1823                                       0               0               1  \n",
       "1824                                       1               1               0  \n",
       "1825                                       1               0               1  \n",
       "1826                                       0               1               0  \n",
       "1827                                       0               0               1  \n",
       "\n",
       "[1828 rows x 391 columns]"
      ]
     },
     "execution_count": 12,
     "metadata": {},
     "output_type": "execute_result"
    }
   ],
   "source": [
    "df_sex_train"
   ]
  },
  {
   "cell_type": "markdown",
   "metadata": {},
   "source": [
    "## Rendere training dataset imbalanced"
   ]
  },
  {
   "cell_type": "code",
   "execution_count": 13,
   "metadata": {},
   "outputs": [],
   "source": [
    "def dip_indp_variables(data,target):\n",
    "    \n",
    "    X = np.array(data.loc[:, data.columns != target])\n",
    "    \n",
    "    y = np.array(data.loc[:, data.columns == target])\n",
    "    \n",
    "    result = np.unique(y, return_counts=True)\n",
    "    \n",
    "    return  {'X': X,\n",
    "             'y': y,\n",
    "             'result': { result[0][0] : result[1][0],\n",
    "                       result[0][1] : result[1][1]}\n",
    "           }"
   ]
  },
  {
   "cell_type": "code",
   "execution_count": 14,
   "metadata": {},
   "outputs": [],
   "source": [
    "dip_indp_variables_train = dip_indp_variables(df_sex_train,\"sex\")"
   ]
  },
  {
   "cell_type": "code",
   "execution_count": 15,
   "metadata": {},
   "outputs": [
    {
     "data": {
      "text/plain": [
       "{0: 892, 1: 936}"
      ]
     },
     "execution_count": 15,
     "metadata": {},
     "output_type": "execute_result"
    }
   ],
   "source": [
    "dip_indp_variables_train['result']"
   ]
  },
  {
   "cell_type": "code",
   "execution_count": 117,
   "metadata": {},
   "outputs": [
    {
     "data": {
      "image/png": "[encoded data removed]",
      "text/plain": [
       "<Figure size 432x288 with 1 Axes>"
      ]
     },
     "metadata": {},
     "output_type": "display_data"
    }
   ],
   "source": [
    "labels = ['F','M']\n",
    "ax=sns.countplot(x=df_sex_train['sex'], palette=['#2478b4','#ff0000'])\n",
    "ax.set_xticklabels(labels)\n",
    "ax.set(xlabel=None)\n",
    "img_name = 'Before_Imbalancing_Sex' + '.png'\n",
    "plt.savefig(img_name,dpi=300, bbox_inches='tight')\n",
    "plt.show()"
   ]
  },
  {
   "cell_type": "code",
   "execution_count": 16,
   "metadata": {},
   "outputs": [],
   "source": [
    "def rows_to_remove(data,target,num, dataset):\n",
    "    \n",
    "    y = dataset['y']\n",
    "    \n",
    "    majority_class = list(dataset['result'].keys())[1]\n",
    "    \n",
    "    total_majority_class = dataset['result'][majority_class]\n",
    "    \n",
    "    rows_remove = np.random.choice((data[y == majority_class]).index, total_majority_class-num, replace=False)\n",
    "    \n",
    "    df_target = data.drop(index=rows_remove, axis=0)\n",
    "    \n",
    "    return {'df_target': df_target,\n",
    "            'rows_remove': rows_remove}"
   ]
  },
  {
   "cell_type": "code",
   "execution_count": 17,
   "metadata": {},
   "outputs": [],
   "source": [
    "rows_remove_train = rows_to_remove(df_sex_train,\"sex\", 37, dip_indp_variables_train)"
   ]
  },
  {
   "cell_type": "code",
   "execution_count": 18,
   "metadata": {},
   "outputs": [],
   "source": [
    "def drop_rows(data, rows_dataset):\n",
    "    \n",
    "    df_after_remove = data.drop(index=rows_dataset['rows_remove'], axis=0)\n",
    "    \n",
    "    return {'df_after_remove': df_after_remove}"
   ]
  },
  {
   "cell_type": "code",
   "execution_count": 19,
   "metadata": {},
   "outputs": [],
   "source": [
    "drop_rows_train = drop_rows(df_sex_train, rows_remove_train)"
   ]
  },
  {
   "cell_type": "code",
   "execution_count": 118,
   "metadata": {},
   "outputs": [
    {
     "data": {
      "image/png": "[encoded data removed]",
      "text/plain": [
       "<Figure size 432x288 with 1 Axes>"
      ]
     },
     "metadata": {},
     "output_type": "display_data"
    }
   ],
   "source": [
    "labels = ['F','M']\n",
    "ax=sns.countplot(x=drop_rows_train['df_after_remove']['sex'], palette=['#2478b4','#ff0000'])\n",
    "ax.set_xticklabels(labels)\n",
    "ax.set(xlabel=None)\n",
    "img_name = 'After_Imbalancing_Sex' + '.png'\n",
    "plt.savefig(img_name,dpi=300, bbox_inches='tight')\n",
    "plt.show()"
   ]
  },
  {
   "cell_type": "code",
   "execution_count": 20,
   "metadata": {},
   "outputs": [],
   "source": [
    "def dip_indip_after_remove(data, target, rows, dip_indp_variables_dataset):\n",
    "    \n",
    "    X2 = data.loc[:, data.columns != target]\n",
    "    \n",
    "    y2 = np.array([dip_indp_variables_dataset['y'][i] for i in range(len(dip_indp_variables_dataset['y'])) if i not in rows])\n",
    "    \n",
    "    result = np.unique(y2, return_counts=True)\n",
    "    \n",
    "    return {'X2': X2,\n",
    "            'y2': y2,\n",
    "            'result': { result[0][0] : result[1][0],\n",
    "                      result[0][1] : result[1][1]}\n",
    "           }"
   ]
  },
  {
   "cell_type": "code",
   "execution_count": 21,
   "metadata": {},
   "outputs": [],
   "source": [
    "dip_indip_after_remove_train = dip_indip_after_remove(drop_rows_train['df_after_remove'], \n",
    "                                                'sex',\n",
    "                                                rows_remove_train['rows_remove'], dip_indp_variables_train)"
   ]
  },
  {
   "cell_type": "code",
   "execution_count": 22,
   "metadata": {},
   "outputs": [],
   "source": [
    "X2 = np.array(dip_indip_after_remove_train['X2'])\n",
    "y2 = np.array(dip_indip_after_remove_train['y2'].ravel())\n"
   ]
  },
  {
   "cell_type": "code",
   "execution_count": 23,
   "metadata": {},
   "outputs": [
    {
     "data": {
      "text/plain": [
       "(array([0, 1]), array([892,  37]))"
      ]
     },
     "execution_count": 23,
     "metadata": {},
     "output_type": "execute_result"
    }
   ],
   "source": [
    "np.unique(y2, return_counts=True)"
   ]
  },
  {
   "cell_type": "code",
   "execution_count": 24,
   "metadata": {},
   "outputs": [],
   "source": [
    "X_train, X_test, y_train, y_test = train_test_split(X2, y2, test_size=0.3, random_state=100)"
   ]
  },
  {
   "cell_type": "code",
   "execution_count": 25,
   "metadata": {},
   "outputs": [
    {
     "data": {
      "text/plain": [
       "(650, 390)"
      ]
     },
     "execution_count": 25,
     "metadata": {},
     "output_type": "execute_result"
    }
   ],
   "source": [
    "X_train.shape"
   ]
  },
  {
   "cell_type": "code",
   "execution_count": 26,
   "metadata": {},
   "outputs": [],
   "source": [
    "from sklearn.manifold import TSNE"
   ]
  },
  {
   "cell_type": "code",
   "execution_count": 111,
   "metadata": {},
   "outputs": [],
   "source": [
    "def perform_tsne(X_data, y_data,img_name_prefix):\n",
    "        \n",
    "        X_reduced = TSNE(random_state=42).fit_transform(X_data)\n",
    "     \n",
    "\n",
    "        df = pd.DataFrame({'Dim 1':X_reduced[:,0], 'Dim 2':X_reduced[:,1] ,'label':y_data})\n",
    "        \n",
    "   \n",
    "        \n",
    "        sns.lmplot(data=df, x='Dim 1', y='Dim 2', hue='label', fit_reg=False, height=8,\\\n",
    "                   palette=\"Set1\",legend=False)\n",
    " \n",
    "        plt.legend( loc='upper right', labels=['F', 'M'])\n",
    "        img_name = img_name_prefix + '.png'\n",
    "        \n",
    "       \n",
    "        plt.savefig(img_name,dpi=300, bbox_inches='tight')\n",
    "        plt.show()\n",
    "        "
   ]
  },
  {
   "cell_type": "code",
   "execution_count": 112,
   "metadata": {},
   "outputs": [
    {
     "data": {
      "image/png": "[encoded data removed]",
      "text/plain": [
       "<Figure size 576x576 with 1 Axes>"
      ]
     },
     "metadata": {},
     "output_type": "display_data"
    }
   ],
   "source": [
    "perform_tsne(X_train,y_train, 'Imbalance_Sex')"
   ]
  },
  {
   "cell_type": "code",
   "execution_count": null,
   "metadata": {},
   "outputs": [],
   "source": []
  },
  {
   "cell_type": "markdown",
   "metadata": {},
   "source": [
    "## Decision Tree before Undersampling/Oversampling"
   ]
  },
  {
   "cell_type": "code",
   "execution_count": 29,
   "metadata": {},
   "outputs": [],
   "source": [
    "from scipy.stats import uniform, randint, loguniform\n",
    "from sklearn.model_selection import RepeatedStratifiedKFold"
   ]
  },
  {
   "cell_type": "code",
   "execution_count": 30,
   "metadata": {},
   "outputs": [],
   "source": [
    "def Decision_tree(X_train_array, y_train_array):\n",
    "    param_grid = {\n",
    "        \"min_samples_split\": loguniform(1e-2, 1e0),\n",
    "        \"min_samples_leaf\": uniform(0.001, 0.2),\n",
    "        \"max_depth\": randint(2, 200),\n",
    "        \"criterion\": [\"gini\", \"entropy\", \"log_loss\"],\n",
    "    }\n",
    "    \n",
    "    tree = DecisionTreeClassifier(random_state=42)\n",
    "    \n",
    "    tree_cv = RandomizedSearchCV(tree, param_grid, cv=RepeatedStratifiedKFold(n_splits=10,random_state=42),\n",
    "            n_jobs=-1,\n",
    "            n_iter=200, error_score='raise')\n",
    "    \n",
    "    \n",
    "    tree_cv.fit(X_train_array,y_train_array)\n",
    "\n",
    "    return tree_cv"
   ]
  },
  {
   "cell_type": "code",
   "execution_count": 31,
   "metadata": {},
   "outputs": [
    {
     "name": "stdout",
     "output_type": "stream",
     "text": [
      "1.2.2\n"
     ]
    }
   ],
   "source": [
    "import sklearn\n",
    "print(sklearn.__version__)"
   ]
  },
  {
   "cell_type": "code",
   "execution_count": 32,
   "metadata": {},
   "outputs": [],
   "source": [
    "decision_tree = Decision_tree(X_train, y_train)"
   ]
  },
  {
   "cell_type": "code",
   "execution_count": 33,
   "metadata": {},
   "outputs": [
    {
     "name": "stdout",
     "output_type": "stream",
     "text": [
      "Tuned Decision Tree Parameters: {'criterion': 'gini', 'max_depth': 17, 'min_samples_leaf': 0.0020516072980657266, 'min_samples_split': 0.8417535807687364}\n"
     ]
    }
   ],
   "source": [
    "print(\"Tuned Decision Tree Parameters: {}\".format(decision_tree.best_params_))"
   ]
  },
  {
   "cell_type": "code",
   "execution_count": 34,
   "metadata": {},
   "outputs": [],
   "source": [
    "y_pred_decision_tree = decision_tree.predict(X_test)"
   ]
  },
  {
   "cell_type": "code",
   "execution_count": 35,
   "metadata": {},
   "outputs": [],
   "source": [
    "def metrics_model(test, predict, majority_class, minority_class):\n",
    "    new_dic = {}\n",
    "    new_dic['accuracy'] = accuracy_score(predict, test)\n",
    "    #new_dic['precision (' + majority_class + ')'] = precision_score(test, predict, average=None)[0]\n",
    "    #new_dic['precision (' + minority_class + ')'] = precision_score(test, predict, average=None)[1]\n",
    "    #new_dic['recall (' + majority_class + ')'] = recall_score(test, predict, average=None)[0]\n",
    "    #new_dic['recall (' + minority_class + ')'] = recall_score(test, predict, average=None)[1]\n",
    "    new_dic['f1_score (' + majority_class + ')'] = f1_score(test, predict,average=None)[0]\n",
    "    new_dic['f1_score (' + minority_class + ')'] = f1_score(test, predict,average=None)[1]\n",
    "    \n",
    "    return new_dic"
   ]
  },
  {
   "cell_type": "code",
   "execution_count": 36,
   "metadata": {},
   "outputs": [
    {
     "data": {
      "text/plain": [
       "{'accuracy': 0.974910394265233,\n",
       " 'f1_score (F)': 0.9870609981515711,\n",
       " 'f1_score (M)': 0.588235294117647}"
      ]
     },
     "execution_count": 36,
     "metadata": {},
     "output_type": "execute_result"
    }
   ],
   "source": [
    "data_decision_tree = metrics_model(y_test, y_pred_decision_tree, 'F', 'M')\n",
    "data_decision_tree"
   ]
  },
  {
   "cell_type": "code",
   "execution_count": 37,
   "metadata": {},
   "outputs": [
    {
     "name": "stdout",
     "output_type": "stream",
     "text": [
      "              precision    recall  f1-score   support\n",
      "\n",
      "           0       0.98      0.99      0.99       269\n",
      "           1       0.71      0.50      0.59        10\n",
      "\n",
      "    accuracy                           0.97       279\n",
      "   macro avg       0.85      0.75      0.79       279\n",
      "weighted avg       0.97      0.97      0.97       279\n",
      "\n"
     ]
    }
   ],
   "source": [
    "print(classification_report(y_test, y_pred_decision_tree))"
   ]
  },
  {
   "cell_type": "code",
   "execution_count": null,
   "metadata": {},
   "outputs": [],
   "source": []
  },
  {
   "cell_type": "code",
   "execution_count": null,
   "metadata": {},
   "outputs": [],
   "source": []
  },
  {
   "cell_type": "markdown",
   "metadata": {},
   "source": [
    "## KNN before Undersampling/Oversampling"
   ]
  },
  {
   "cell_type": "code",
   "execution_count": 38,
   "metadata": {},
   "outputs": [],
   "source": [
    "def spearman_selector(target, df, k):\n",
    "    \"\"\"Returns a df comprising all the features highly correlated (above k and below -k)\n",
    "    with the binary target according Spearman coefficient. Target must be a pd Series\"\"\"\n",
    "    df = df.select_dtypes(include=\"number\")\n",
    "    target = target.map({target.unique()[0]:0, target.unique()[1]:1})\n",
    "    new_df = pd.DataFrame()\n",
    "    for col in df:\n",
    "        spearman = stats.spearmanr(df[col], target)[0]\n",
    "        if spearman > k or spearman < -k:\n",
    "            new_df[col] = df[col]\n",
    "    return new_df"
   ]
  },
  {
   "cell_type": "code",
   "execution_count": 39,
   "metadata": {},
   "outputs": [],
   "source": [
    "df_sex_train_knn = spearman_selector(df_train['sex'], df_train, 0.7)"
   ]
  },
  {
   "cell_type": "code",
   "execution_count": 40,
   "metadata": {},
   "outputs": [],
   "source": [
    "df_train_cat_knn = df_train.select_dtypes(include=['object'])\n",
    "df_sex_train = pd.concat([df_sex_train_knn, df_train_cat_knn], axis=1)"
   ]
  },
  {
   "cell_type": "code",
   "execution_count": 41,
   "metadata": {},
   "outputs": [],
   "source": [
    "df_sex_train = pd.get_dummies(df_sex_train)"
   ]
  },
  {
   "cell_type": "code",
   "execution_count": 42,
   "metadata": {},
   "outputs": [],
   "source": [
    "dip_indp_variables_knn = dip_indp_variables(df_sex_train,\"sex\")"
   ]
  },
  {
   "cell_type": "code",
   "execution_count": 43,
   "metadata": {},
   "outputs": [
    {
     "data": {
      "text/plain": [
       "(1828, 24)"
      ]
     },
     "execution_count": 43,
     "metadata": {},
     "output_type": "execute_result"
    }
   ],
   "source": [
    "dip_indp_variables_knn['X'].shape"
   ]
  },
  {
   "cell_type": "code",
   "execution_count": 44,
   "metadata": {},
   "outputs": [],
   "source": [
    "rows_remove_knn = rows_to_remove(df_sex_train,\"sex\", 37, dip_indp_variables_knn)"
   ]
  },
  {
   "cell_type": "code",
   "execution_count": 45,
   "metadata": {},
   "outputs": [],
   "source": [
    "drop_rows_knn = drop_rows(df_sex_train, rows_remove_knn)"
   ]
  },
  {
   "cell_type": "code",
   "execution_count": 46,
   "metadata": {},
   "outputs": [],
   "source": [
    "dip_indip_after_remove_knn = dip_indip_after_remove(drop_rows_knn['df_after_remove'], \n",
    "                                                'sex',\n",
    "                                                rows_remove_knn['rows_remove'], dip_indp_variables_knn)"
   ]
  },
  {
   "cell_type": "code",
   "execution_count": 47,
   "metadata": {},
   "outputs": [],
   "source": [
    "X2_knn = np.array(dip_indip_after_remove_knn['X2'])\n",
    "y2_knn = np.array(dip_indip_after_remove_knn['y2'].ravel())"
   ]
  },
  {
   "cell_type": "code",
   "execution_count": 48,
   "metadata": {},
   "outputs": [
    {
     "data": {
      "text/plain": [
       "(array([0, 1]), array([892,  37]))"
      ]
     },
     "execution_count": 48,
     "metadata": {},
     "output_type": "execute_result"
    }
   ],
   "source": [
    "np.unique(y2_knn, return_counts=True)"
   ]
  },
  {
   "cell_type": "code",
   "execution_count": 49,
   "metadata": {},
   "outputs": [],
   "source": [
    "X_train_knn, X_test_knn, y_train_knn, y_test_knn = train_test_split(X2_knn, y2_knn, test_size=0.3, random_state=100)"
   ]
  },
  {
   "cell_type": "code",
   "execution_count": 50,
   "metadata": {},
   "outputs": [
    {
     "data": {
      "text/plain": [
       "(650, 24)"
      ]
     },
     "execution_count": 50,
     "metadata": {},
     "output_type": "execute_result"
    }
   ],
   "source": [
    "X_train_knn.shape"
   ]
  },
  {
   "cell_type": "code",
   "execution_count": 51,
   "metadata": {},
   "outputs": [],
   "source": [
    "def Knn(X_train_array, y_train_array):   \n",
    "    \n",
    "    knn = KNeighborsClassifier()\n",
    "    \n",
    "    parameters = {\n",
    "        'n_neighbors': np.arange(2,  X_train_array.shape[0]//2),\n",
    "        'weights': ['uniform', 'distance'],\n",
    "        'metric': ['euclidean', 'cityblock', 'cosine', 'chebyshev']\n",
    "        }\n",
    "    \n",
    "    knn_cv = RandomizedSearchCV(knn,\n",
    "                     parameters,\n",
    "                    cv=RepeatedStratifiedKFold(n_splits=10,random_state=42),\n",
    "                    n_jobs=None,\n",
    "                    refit=True,error_score='raise')\n",
    "    \n",
    "    knn_cv.fit(X_train_array, y_train_array)\n",
    "    \n",
    "    return knn_cv"
   ]
  },
  {
   "cell_type": "code",
   "execution_count": 52,
   "metadata": {},
   "outputs": [],
   "source": [
    "knn = Knn(X_train_knn, y_train_knn)"
   ]
  },
  {
   "cell_type": "code",
   "execution_count": 53,
   "metadata": {},
   "outputs": [
    {
     "name": "stdout",
     "output_type": "stream",
     "text": [
      "{'weights': 'uniform', 'n_neighbors': 237, 'metric': 'cityblock'}\n"
     ]
    }
   ],
   "source": [
    "print(knn.best_params_)"
   ]
  },
  {
   "cell_type": "code",
   "execution_count": 54,
   "metadata": {},
   "outputs": [],
   "source": [
    "y_pred_knn = knn.predict(X_test_knn)"
   ]
  },
  {
   "cell_type": "code",
   "execution_count": 55,
   "metadata": {},
   "outputs": [
    {
     "data": {
      "text/plain": [
       "{'accuracy': 0.946236559139785,\n",
       " 'f1_score (F)': 0.9723756906077349,\n",
       " 'f1_score (M)': 0.0}"
      ]
     },
     "execution_count": 55,
     "metadata": {},
     "output_type": "execute_result"
    }
   ],
   "source": [
    "data_knn = metrics_model( y_test_knn, y_pred_knn, 'F', 'M')\n",
    "data_knn"
   ]
  },
  {
   "cell_type": "code",
   "execution_count": 56,
   "metadata": {},
   "outputs": [
    {
     "name": "stdout",
     "output_type": "stream",
     "text": [
      "              precision    recall  f1-score   support\n",
      "\n",
      "           0       0.95      1.00      0.97       264\n",
      "           1       0.00      0.00      0.00        15\n",
      "\n",
      "    accuracy                           0.95       279\n",
      "   macro avg       0.47      0.50      0.49       279\n",
      "weighted avg       0.90      0.95      0.92       279\n",
      "\n"
     ]
    },
    {
     "name": "stderr",
     "output_type": "stream",
     "text": [
      "/Users/blertalleshi/opt/anaconda3/lib/python3.8/site-packages/sklearn/metrics/_classification.py:1344: UndefinedMetricWarning: Precision and F-score are ill-defined and being set to 0.0 in labels with no predicted samples. Use `zero_division` parameter to control this behavior.\n",
      "  _warn_prf(average, modifier, msg_start, len(result))\n",
      "/Users/blertalleshi/opt/anaconda3/lib/python3.8/site-packages/sklearn/metrics/_classification.py:1344: UndefinedMetricWarning: Precision and F-score are ill-defined and being set to 0.0 in labels with no predicted samples. Use `zero_division` parameter to control this behavior.\n",
      "  _warn_prf(average, modifier, msg_start, len(result))\n",
      "/Users/blertalleshi/opt/anaconda3/lib/python3.8/site-packages/sklearn/metrics/_classification.py:1344: UndefinedMetricWarning: Precision and F-score are ill-defined and being set to 0.0 in labels with no predicted samples. Use `zero_division` parameter to control this behavior.\n",
      "  _warn_prf(average, modifier, msg_start, len(result))\n"
     ]
    }
   ],
   "source": [
    "print(classification_report(y_test_knn, y_pred_knn))"
   ]
  },
  {
   "cell_type": "code",
   "execution_count": null,
   "metadata": {},
   "outputs": [],
   "source": []
  },
  {
   "cell_type": "code",
   "execution_count": 57,
   "metadata": {},
   "outputs": [],
   "source": [
    "def combined_results(data,data1):\n",
    "    combined_dic = {'Decision_tree': data, 'Knn': data1}\n",
    "    \n",
    "    return combined_dic"
   ]
  },
  {
   "cell_type": "code",
   "execution_count": 113,
   "metadata": {},
   "outputs": [
    {
     "data": {
      "image/png": "[encoded data removed]",
      "text/plain": [
       "<Figure size 432x288 with 1 Axes>"
      ]
     },
     "metadata": {},
     "output_type": "display_data"
    }
   ],
   "source": [
    "combined_dic = combined_results(data_decision_tree,data_knn)\n",
    "df = pd.DataFrame(combined_dic)\n",
    "df.plot(kind='barh', color=['#2478b4','red'])\n",
    "plt.savefig('Imbalanced_Sex_Result',dpi=300, bbox_inches='tight')\n",
    "plt.show()"
   ]
  },
  {
   "cell_type": "code",
   "execution_count": null,
   "metadata": {},
   "outputs": [],
   "source": []
  },
  {
   "cell_type": "code",
   "execution_count": null,
   "metadata": {},
   "outputs": [],
   "source": []
  },
  {
   "cell_type": "markdown",
   "metadata": {},
   "source": [
    "## Undersampling"
   ]
  },
  {
   "cell_type": "code",
   "execution_count": 59,
   "metadata": {},
   "outputs": [],
   "source": [
    "from imblearn.under_sampling import RandomUnderSampler\n",
    "from imblearn.under_sampling import EditedNearestNeighbours"
   ]
  },
  {
   "cell_type": "markdown",
   "metadata": {},
   "source": [
    "## Random Undersampling"
   ]
  },
  {
   "cell_type": "code",
   "execution_count": 60,
   "metadata": {},
   "outputs": [],
   "source": [
    "def randomUnderSampler(X_train_array, y_train_array):\n",
    "    \n",
    "    \n",
    "    rus = RandomUnderSampler(random_state=42)\n",
    "    \n",
    "    X_res_rus, y_res_rus = rus.fit_resample(X_train_array, y_train_array)\n",
    "    \n",
    "    return X_res_rus, y_res_rus"
   ]
  },
  {
   "cell_type": "code",
   "execution_count": 61,
   "metadata": {},
   "outputs": [],
   "source": [
    "X_res_rus, y_res_rus = randomUnderSampler(X_train, y_train)"
   ]
  },
  {
   "cell_type": "code",
   "execution_count": 62,
   "metadata": {},
   "outputs": [],
   "source": [
    "X_res_rus_knn, y_res_rus_knn = randomUnderSampler(X_train_knn, y_train_knn)"
   ]
  },
  {
   "cell_type": "code",
   "execution_count": 63,
   "metadata": {},
   "outputs": [
    {
     "name": "stdout",
     "output_type": "stream",
     "text": [
      "Resampled dataset shape Counter({0: 27, 1: 27})\n"
     ]
    }
   ],
   "source": [
    "print('Resampled dataset shape %s' % Counter(y_res_rus))"
   ]
  },
  {
   "cell_type": "code",
   "execution_count": 64,
   "metadata": {},
   "outputs": [
    {
     "data": {
      "text/plain": [
       "54"
      ]
     },
     "execution_count": 64,
     "metadata": {},
     "output_type": "execute_result"
    }
   ],
   "source": [
    "len(X_res_rus)"
   ]
  },
  {
   "cell_type": "code",
   "execution_count": 65,
   "metadata": {},
   "outputs": [
    {
     "data": {
      "image/png": "[encoded data removed]",
      "text/plain": [
       "<Figure size 432x288 with 1 Axes>"
      ]
     },
     "metadata": {},
     "output_type": "display_data"
    }
   ],
   "source": [
    "labels = ['F','M']\n",
    "ax=sns.countplot(x=y_res_rus, palette=['#2478b4','#ff0000'])\n",
    "ax.set_xticklabels(labels)\n",
    "img_name = 'RandomUndersampling_Sex' + '.png'\n",
    "plt.savefig(img_name,dpi=300, bbox_inches='tight')\n",
    "plt.show()"
   ]
  },
  {
   "cell_type": "markdown",
   "metadata": {},
   "source": [
    "## KNN dopo RandomUndersampling"
   ]
  },
  {
   "cell_type": "code",
   "execution_count": 66,
   "metadata": {},
   "outputs": [],
   "source": [
    "knn_under_rus = Knn(X_res_rus_knn, y_res_rus_knn)"
   ]
  },
  {
   "cell_type": "code",
   "execution_count": 68,
   "metadata": {},
   "outputs": [
    {
     "name": "stdout",
     "output_type": "stream",
     "text": [
      "{'weights': 'uniform', 'n_neighbors': 19, 'metric': 'euclidean'}\n"
     ]
    }
   ],
   "source": [
    "print(knn_under_rus.best_params_)"
   ]
  },
  {
   "cell_type": "code",
   "execution_count": 69,
   "metadata": {},
   "outputs": [],
   "source": [
    "y_pred_knn_under_rus = knn_under_rus.predict(X_test_knn)"
   ]
  },
  {
   "cell_type": "code",
   "execution_count": 70,
   "metadata": {},
   "outputs": [
    {
     "data": {
      "text/plain": [
       "{'accuracy': 0.8602150537634409,\n",
       " 'f1_score (F)': 0.9221556886227545,\n",
       " 'f1_score (M)': 0.3157894736842105}"
      ]
     },
     "execution_count": 70,
     "metadata": {},
     "output_type": "execute_result"
    }
   ],
   "source": [
    "knn_rus = metrics_model(y_test_knn, y_pred_knn_under_rus, 'F', 'M')\n",
    "knn_rus"
   ]
  },
  {
   "cell_type": "code",
   "execution_count": 71,
   "metadata": {},
   "outputs": [
    {
     "name": "stdout",
     "output_type": "stream",
     "text": [
      "              precision    recall  f1-score   support\n",
      "\n",
      "           0       0.97      0.88      0.92       264\n",
      "           1       0.21      0.60      0.32        15\n",
      "\n",
      "    accuracy                           0.86       279\n",
      "   macro avg       0.59      0.74      0.62       279\n",
      "weighted avg       0.93      0.86      0.89       279\n",
      "\n"
     ]
    }
   ],
   "source": [
    "print(classification_report(y_test_knn, y_pred_knn_under_rus))"
   ]
  },
  {
   "cell_type": "code",
   "execution_count": null,
   "metadata": {},
   "outputs": [],
   "source": []
  },
  {
   "cell_type": "markdown",
   "metadata": {},
   "source": [
    "## Decision Tree dopo RandomUndersampling"
   ]
  },
  {
   "cell_type": "code",
   "execution_count": 72,
   "metadata": {},
   "outputs": [],
   "source": [
    "decision_tree_under_rus = Decision_tree(X_res_rus, y_res_rus)"
   ]
  },
  {
   "cell_type": "code",
   "execution_count": 73,
   "metadata": {},
   "outputs": [
    {
     "name": "stdout",
     "output_type": "stream",
     "text": [
      "Tuned Decision Tree Parameters: {'criterion': 'gini', 'max_depth': 7, 'min_samples_leaf': 0.16521362639900566, 'min_samples_split': 0.08486292994106737}\n"
     ]
    }
   ],
   "source": [
    "print(\"Tuned Decision Tree Parameters: {}\".format(decision_tree_under_rus.best_params_))"
   ]
  },
  {
   "cell_type": "code",
   "execution_count": 74,
   "metadata": {},
   "outputs": [],
   "source": [
    "y_pred_decision_tree_under_rus = decision_tree_under_rus.predict(X_test)"
   ]
  },
  {
   "cell_type": "code",
   "execution_count": 75,
   "metadata": {},
   "outputs": [
    {
     "data": {
      "text/plain": [
       "{'accuracy': 0.9283154121863799,\n",
       " 'f1_score (F)': 0.9616858237547893,\n",
       " 'f1_score (M)': 0.4444444444444444}"
      ]
     },
     "execution_count": 75,
     "metadata": {},
     "output_type": "execute_result"
    }
   ],
   "source": [
    "decision_tree_rus = metrics_model(y_test, y_pred_decision_tree_under_rus, 'F', 'M')\n",
    "decision_tree_rus"
   ]
  },
  {
   "cell_type": "code",
   "execution_count": 76,
   "metadata": {},
   "outputs": [
    {
     "name": "stdout",
     "output_type": "stream",
     "text": [
      "              precision    recall  f1-score   support\n",
      "\n",
      "           0       0.99      0.93      0.96       269\n",
      "           1       0.31      0.80      0.44        10\n",
      "\n",
      "    accuracy                           0.93       279\n",
      "   macro avg       0.65      0.87      0.70       279\n",
      "weighted avg       0.97      0.93      0.94       279\n",
      "\n"
     ]
    }
   ],
   "source": [
    "print(classification_report(y_test, y_pred_decision_tree_under_rus))"
   ]
  },
  {
   "cell_type": "code",
   "execution_count": null,
   "metadata": {},
   "outputs": [],
   "source": []
  },
  {
   "cell_type": "code",
   "execution_count": null,
   "metadata": {},
   "outputs": [],
   "source": []
  },
  {
   "cell_type": "code",
   "execution_count": 77,
   "metadata": {},
   "outputs": [
    {
     "data": {
      "image/png": "[encoded data removed]",
      "text/plain": [
       "<Figure size 432x288 with 1 Axes>"
      ]
     },
     "metadata": {},
     "output_type": "display_data"
    }
   ],
   "source": [
    "combined_dic_rus = combined_results(decision_tree_rus,knn_rus)\n",
    "df = pd.DataFrame(combined_dic_rus)\n",
    "df.plot(kind='barh', color=['#2478b4','red'])\n",
    "plt.savefig('RandomUndersampling_Sex_Result',dpi=300, bbox_inches='tight')\n",
    "plt.show()"
   ]
  },
  {
   "cell_type": "code",
   "execution_count": null,
   "metadata": {},
   "outputs": [],
   "source": []
  },
  {
   "cell_type": "markdown",
   "metadata": {},
   "source": [
    "## Edited Nearest Neighbors"
   ]
  },
  {
   "cell_type": "code",
   "execution_count": 78,
   "metadata": {},
   "outputs": [],
   "source": [
    "def enn(X_train_array, y_train_array):\n",
    "    \n",
    "    enn = EditedNearestNeighbours()\n",
    "    \n",
    "    X_res_enn, y_res_enn = enn.fit_resample(X_train_array, y_train_array)\n",
    "    \n",
    "    return X_res_enn, y_res_enn"
   ]
  },
  {
   "cell_type": "code",
   "execution_count": 79,
   "metadata": {},
   "outputs": [],
   "source": [
    "X_res_enn, y_res_enn = enn(X_train, y_train)"
   ]
  },
  {
   "cell_type": "code",
   "execution_count": 80,
   "metadata": {},
   "outputs": [],
   "source": [
    "X_res_enn_knn, y_res_enn_knn = enn(X_train_knn, y_train_knn)"
   ]
  },
  {
   "cell_type": "code",
   "execution_count": 81,
   "metadata": {},
   "outputs": [
    {
     "name": "stdout",
     "output_type": "stream",
     "text": [
      "Resampled dataset shape Counter({0: 619, 1: 27})\n"
     ]
    }
   ],
   "source": [
    "print('Resampled dataset shape %s' % Counter(y_res_enn))"
   ]
  },
  {
   "cell_type": "code",
   "execution_count": 82,
   "metadata": {},
   "outputs": [
    {
     "name": "stdout",
     "output_type": "stream",
     "text": [
      "Resampled dataset shape Counter({0: 618, 1: 22})\n"
     ]
    }
   ],
   "source": [
    "print('Resampled dataset shape %s' % Counter(y_res_enn_knn))"
   ]
  },
  {
   "cell_type": "code",
   "execution_count": null,
   "metadata": {},
   "outputs": [],
   "source": []
  },
  {
   "cell_type": "code",
   "execution_count": null,
   "metadata": {},
   "outputs": [],
   "source": []
  },
  {
   "cell_type": "code",
   "execution_count": 83,
   "metadata": {},
   "outputs": [],
   "source": [
    "knn_under_enn = Knn(X_res_enn_knn, y_res_enn_knn)"
   ]
  },
  {
   "cell_type": "code",
   "execution_count": 84,
   "metadata": {},
   "outputs": [
    {
     "name": "stdout",
     "output_type": "stream",
     "text": [
      "{'weights': 'distance', 'n_neighbors': 37, 'metric': 'cosine'}\n"
     ]
    }
   ],
   "source": [
    "print(knn_under_enn.best_params_)"
   ]
  },
  {
   "cell_type": "code",
   "execution_count": 85,
   "metadata": {},
   "outputs": [],
   "source": [
    "y_pred_knn_under_enn = knn_under_enn.predict(X_test_knn)"
   ]
  },
  {
   "cell_type": "code",
   "execution_count": 86,
   "metadata": {},
   "outputs": [
    {
     "data": {
      "text/plain": [
       "{'accuracy': 0.9498207885304659,\n",
       " 'f1_score (F)': 0.974169741697417,\n",
       " 'f1_score (M)': 0.125}"
      ]
     },
     "execution_count": 86,
     "metadata": {},
     "output_type": "execute_result"
    }
   ],
   "source": [
    "knn_enn = metrics_model(y_test_knn, y_pred_knn_under_enn, 'F', 'M')\n",
    "knn_enn"
   ]
  },
  {
   "cell_type": "code",
   "execution_count": 87,
   "metadata": {},
   "outputs": [
    {
     "name": "stdout",
     "output_type": "stream",
     "text": [
      "              precision    recall  f1-score   support\n",
      "\n",
      "           0       0.95      1.00      0.97       264\n",
      "           1       1.00      0.07      0.12        15\n",
      "\n",
      "    accuracy                           0.95       279\n",
      "   macro avg       0.97      0.53      0.55       279\n",
      "weighted avg       0.95      0.95      0.93       279\n",
      "\n"
     ]
    }
   ],
   "source": [
    "print(classification_report(y_test_knn, y_pred_knn_under_enn))"
   ]
  },
  {
   "cell_type": "code",
   "execution_count": null,
   "metadata": {},
   "outputs": [],
   "source": []
  },
  {
   "cell_type": "code",
   "execution_count": null,
   "metadata": {},
   "outputs": [],
   "source": []
  },
  {
   "cell_type": "markdown",
   "metadata": {},
   "source": [
    "## Decision Tree after EditedNearestNeighbors"
   ]
  },
  {
   "cell_type": "code",
   "execution_count": 88,
   "metadata": {},
   "outputs": [],
   "source": [
    "decision_tree_under_enn = Decision_tree(X_res_enn, y_res_enn)"
   ]
  },
  {
   "cell_type": "code",
   "execution_count": 89,
   "metadata": {},
   "outputs": [
    {
     "name": "stdout",
     "output_type": "stream",
     "text": [
      "Tuned Decision Tree Parameters: {'criterion': 'gini', 'max_depth': 7, 'min_samples_leaf': 0.00967513851987627, 'min_samples_split': 0.20929838137739068}\n"
     ]
    }
   ],
   "source": [
    "print(\"Tuned Decision Tree Parameters: {}\".format(decision_tree_under_enn.best_params_))"
   ]
  },
  {
   "cell_type": "code",
   "execution_count": 90,
   "metadata": {},
   "outputs": [],
   "source": [
    "y_pred_decision_tree_under_enn = decision_tree_under_enn.predict(X_test)"
   ]
  },
  {
   "cell_type": "code",
   "execution_count": 91,
   "metadata": {},
   "outputs": [
    {
     "data": {
      "text/plain": [
       "{'accuracy': 0.974910394265233,\n",
       " 'f1_score (F)': 0.9870609981515711,\n",
       " 'f1_score (M)': 0.588235294117647}"
      ]
     },
     "execution_count": 91,
     "metadata": {},
     "output_type": "execute_result"
    }
   ],
   "source": [
    "decision_tree_enn = metrics_model(y_test,y_pred_decision_tree_under_enn, 'F', 'M')\n",
    "decision_tree_enn"
   ]
  },
  {
   "cell_type": "code",
   "execution_count": 92,
   "metadata": {},
   "outputs": [
    {
     "name": "stdout",
     "output_type": "stream",
     "text": [
      "              precision    recall  f1-score   support\n",
      "\n",
      "           0       0.98      0.99      0.99       269\n",
      "           1       0.71      0.50      0.59        10\n",
      "\n",
      "    accuracy                           0.97       279\n",
      "   macro avg       0.85      0.75      0.79       279\n",
      "weighted avg       0.97      0.97      0.97       279\n",
      "\n"
     ]
    }
   ],
   "source": [
    "print(classification_report(y_test, y_pred_decision_tree_under_enn))"
   ]
  },
  {
   "cell_type": "code",
   "execution_count": null,
   "metadata": {},
   "outputs": [],
   "source": []
  },
  {
   "cell_type": "code",
   "execution_count": 93,
   "metadata": {},
   "outputs": [
    {
     "data": {
      "image/png": "[encoded data removed]",
      "text/plain": [
       "<Figure size 432x288 with 1 Axes>"
      ]
     },
     "metadata": {},
     "output_type": "display_data"
    }
   ],
   "source": [
    "combined_dic_enn = combined_results(decision_tree_enn,knn_enn)\n",
    "df = pd.DataFrame(combined_dic_enn)\n",
    "df.plot(kind='barh', color=['#2478b4','red'])\n",
    "#plt.savefig('RandomUndersampling_Result',dpi=300, bbox_inches='tight')\n",
    "plt.show()"
   ]
  },
  {
   "cell_type": "code",
   "execution_count": null,
   "metadata": {},
   "outputs": [],
   "source": []
  },
  {
   "cell_type": "markdown",
   "metadata": {},
   "source": [
    "## Oversampling"
   ]
  },
  {
   "cell_type": "code",
   "execution_count": 94,
   "metadata": {},
   "outputs": [],
   "source": [
    "from imblearn.over_sampling import SMOTE"
   ]
  },
  {
   "cell_type": "markdown",
   "metadata": {},
   "source": [
    "## SMOTE"
   ]
  },
  {
   "cell_type": "code",
   "execution_count": 95,
   "metadata": {},
   "outputs": [],
   "source": [
    "def smote(X_train_array, y_train_array):\n",
    "    \n",
    "    sm = SMOTE(random_state=42)\n",
    "    \n",
    "    X_res_sm, y_res_sm = sm.fit_resample(X_train_array, y_train_array)\n",
    "    \n",
    "    return X_res_sm, y_res_sm"
   ]
  },
  {
   "cell_type": "code",
   "execution_count": 96,
   "metadata": {},
   "outputs": [],
   "source": [
    "X_res_sm, y_res_sm = smote(X_train, y_train)"
   ]
  },
  {
   "cell_type": "code",
   "execution_count": 97,
   "metadata": {},
   "outputs": [],
   "source": [
    "X_res_sm_knn, y_res_sm_knn = smote(X_train_knn, y_train_knn)"
   ]
  },
  {
   "cell_type": "code",
   "execution_count": 98,
   "metadata": {},
   "outputs": [
    {
     "name": "stdout",
     "output_type": "stream",
     "text": [
      "Resampled dataset shape Counter({0: 623, 1: 623})\n"
     ]
    }
   ],
   "source": [
    "print('Resampled dataset shape %s' % Counter(y_res_sm))"
   ]
  },
  {
   "cell_type": "code",
   "execution_count": 99,
   "metadata": {},
   "outputs": [
    {
     "data": {
      "image/png": "[encoded data removed]",
      "text/plain": [
       "<Figure size 432x288 with 1 Axes>"
      ]
     },
     "metadata": {},
     "output_type": "display_data"
    }
   ],
   "source": [
    "labels = ['F','M']\n",
    "ax=sns.countplot(x=y_res_sm, palette=['#2478b4','#ff0000'])\n",
    "ax.set_xticklabels(labels)\n",
    "img_name = 'RandomUndersampling_Sex' + '.png'\n",
    "plt.savefig(img_name,dpi=300, bbox_inches='tight')\n",
    "plt.show()"
   ]
  },
  {
   "cell_type": "code",
   "execution_count": null,
   "metadata": {},
   "outputs": [],
   "source": []
  },
  {
   "cell_type": "code",
   "execution_count": null,
   "metadata": {},
   "outputs": [],
   "source": []
  },
  {
   "cell_type": "code",
   "execution_count": null,
   "metadata": {},
   "outputs": [],
   "source": []
  },
  {
   "cell_type": "markdown",
   "metadata": {},
   "source": [
    "## KNN after SMOTE"
   ]
  },
  {
   "cell_type": "code",
   "execution_count": 100,
   "metadata": {},
   "outputs": [],
   "source": [
    "knn_over_sm = Knn(X_res_sm_knn, y_res_sm_knn)"
   ]
  },
  {
   "cell_type": "code",
   "execution_count": 101,
   "metadata": {},
   "outputs": [
    {
     "name": "stdout",
     "output_type": "stream",
     "text": [
      "{'weights': 'distance', 'n_neighbors': 8, 'metric': 'cityblock'}\n"
     ]
    }
   ],
   "source": [
    "print(knn_over_sm.best_params_)"
   ]
  },
  {
   "cell_type": "code",
   "execution_count": 102,
   "metadata": {},
   "outputs": [],
   "source": [
    "y_pred_knn_over_sm = knn_over_sm.predict(X_test_knn)"
   ]
  },
  {
   "cell_type": "code",
   "execution_count": 103,
   "metadata": {},
   "outputs": [
    {
     "data": {
      "text/plain": [
       "{'accuracy': 0.953405017921147,\n",
       " 'f1_score (F)': 0.9758812615955473,\n",
       " 'f1_score (M)': 0.31578947368421056}"
      ]
     },
     "execution_count": 103,
     "metadata": {},
     "output_type": "execute_result"
    }
   ],
   "source": [
    "knn_smote = metrics_model(y_test_knn, y_pred_knn_over_sm, 'F', 'M')\n",
    "knn_smote"
   ]
  },
  {
   "cell_type": "code",
   "execution_count": 104,
   "metadata": {},
   "outputs": [
    {
     "name": "stdout",
     "output_type": "stream",
     "text": [
      "              precision    recall  f1-score   support\n",
      "\n",
      "           0       0.96      1.00      0.98       264\n",
      "           1       0.75      0.20      0.32        15\n",
      "\n",
      "    accuracy                           0.95       279\n",
      "   macro avg       0.85      0.60      0.65       279\n",
      "weighted avg       0.95      0.95      0.94       279\n",
      "\n"
     ]
    }
   ],
   "source": [
    "print(classification_report(y_test_knn, y_pred_knn_over_sm))"
   ]
  },
  {
   "cell_type": "code",
   "execution_count": null,
   "metadata": {},
   "outputs": [],
   "source": []
  },
  {
   "cell_type": "code",
   "execution_count": null,
   "metadata": {},
   "outputs": [],
   "source": []
  },
  {
   "cell_type": "markdown",
   "metadata": {},
   "source": [
    "## Decision Tree after SMOTE\n"
   ]
  },
  {
   "cell_type": "code",
   "execution_count": 105,
   "metadata": {},
   "outputs": [],
   "source": [
    "decision_tree_over_sm = Decision_tree(X_res_sm, y_res_sm)"
   ]
  },
  {
   "cell_type": "code",
   "execution_count": 106,
   "metadata": {},
   "outputs": [
    {
     "name": "stdout",
     "output_type": "stream",
     "text": [
      "Tuned Decision Tree Parameters: {'criterion': 'log_loss', 'max_depth': 135, 'min_samples_leaf': 0.004158064296999297, 'min_samples_split': 0.02005175185915313}\n"
     ]
    }
   ],
   "source": [
    "print(\"Tuned Decision Tree Parameters: {}\".format(decision_tree_over_sm.best_params_))"
   ]
  },
  {
   "cell_type": "code",
   "execution_count": 107,
   "metadata": {},
   "outputs": [],
   "source": [
    "y_pred_decision_tree_over_sm = decision_tree_over_sm.predict(X_test)"
   ]
  },
  {
   "cell_type": "code",
   "execution_count": 108,
   "metadata": {},
   "outputs": [
    {
     "data": {
      "text/plain": [
       "{'accuracy': 0.978494623655914,\n",
       " 'f1_score (F)': 0.9888888888888889,\n",
       " 'f1_score (M)': 0.6666666666666665}"
      ]
     },
     "execution_count": 108,
     "metadata": {},
     "output_type": "execute_result"
    }
   ],
   "source": [
    "decision_tree_smote = metrics_model( y_test, y_pred_decision_tree_over_sm,'F', 'M')\n",
    "decision_tree_smote"
   ]
  },
  {
   "cell_type": "code",
   "execution_count": 109,
   "metadata": {},
   "outputs": [
    {
     "name": "stdout",
     "output_type": "stream",
     "text": [
      "              precision    recall  f1-score   support\n",
      "\n",
      "           0       0.99      0.99      0.99       269\n",
      "           1       0.75      0.60      0.67        10\n",
      "\n",
      "    accuracy                           0.98       279\n",
      "   macro avg       0.87      0.80      0.83       279\n",
      "weighted avg       0.98      0.98      0.98       279\n",
      "\n"
     ]
    }
   ],
   "source": [
    "print(classification_report(y_test, y_pred_decision_tree_over_sm))"
   ]
  },
  {
   "cell_type": "code",
   "execution_count": null,
   "metadata": {},
   "outputs": [],
   "source": []
  },
  {
   "cell_type": "code",
   "execution_count": null,
   "metadata": {},
   "outputs": [],
   "source": []
  },
  {
   "cell_type": "code",
   "execution_count": 110,
   "metadata": {},
   "outputs": [
    {
     "data": {
      "image/png": "[encoded data removed]",
      "text/plain": [
       "<Figure size 432x288 with 1 Axes>"
      ]
     },
     "metadata": {},
     "output_type": "display_data"
    }
   ],
   "source": [
    "combined_dic = combined_results(decision_tree_smote,knn_smote)\n",
    "df = pd.DataFrame(combined_dic)\n",
    "df.plot(kind='barh', color=['#2478b4','red'])\n",
    "plt.savefig('SMOTE_Sex_Result',dpi=300, bbox_inches='tight')\n",
    "plt.show()"
   ]
  },
  {
   "cell_type": "code",
   "execution_count": null,
   "metadata": {},
   "outputs": [],
   "source": []
  }
 ],
 "metadata": {
  "kernelspec": {
   "display_name": "Python 3",
   "language": "python",
   "name": "python3"
  },
  "language_info": {
   "codemirror_mode": {
    "name": "ipython",
    "version": 3
   },
   "file_extension": ".py",
   "mimetype": "text/x-python",
   "name": "python",
   "nbconvert_exporter": "python",
   "pygments_lexer": "ipython3",
   "version": "3.8.3"
  }
 },
 "nbformat": 4,
 "nbformat_minor": 4
}
