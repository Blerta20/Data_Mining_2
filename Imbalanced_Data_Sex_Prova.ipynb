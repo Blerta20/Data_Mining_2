{
 "cells": [
  {
   "cell_type": "code",
   "execution_count": 1,
   "metadata": {},
   "outputs": [],
   "source": [
    "import pandas as pd\n",
    "import numpy as np\n",
    "import scipy.stats as sp\n",
    "import matplotlib.pyplot as plt\n",
    "import seaborn as sns"
   ]
  },
  {
   "cell_type": "code",
   "execution_count": 2,
   "metadata": {},
   "outputs": [],
   "source": [
    "# remember to change the path!\n",
    "\n",
    "df_train = pd.read_csv(\"RavdessAudioOnlyFeatures_TRAIN.csv\")\n",
    "df_test = pd.read_csv(\"RavdessAudioOnlyFeatures_TEST.csv\")"
   ]
  },
  {
   "cell_type": "code",
   "execution_count": 3,
   "metadata": {},
   "outputs": [
    {
     "data": {
      "text/html": [
       "<div>\n",
       "<style scoped>\n",
       "    .dataframe tbody tr th:only-of-type {\n",
       "        vertical-align: middle;\n",
       "    }\n",
       "\n",
       "    .dataframe tbody tr th {\n",
       "        vertical-align: top;\n",
       "    }\n",
       "\n",
       "    .dataframe thead th {\n",
       "        text-align: right;\n",
       "    }\n",
       "</style>\n",
       "<table border=\"1\" class=\"dataframe\">\n",
       "  <thead>\n",
       "    <tr style=\"text-align: right;\">\n",
       "      <th></th>\n",
       "      <th>modality</th>\n",
       "      <th>vocal_channel</th>\n",
       "      <th>emotion</th>\n",
       "      <th>emotional_intensity</th>\n",
       "      <th>statement</th>\n",
       "      <th>repetition</th>\n",
       "      <th>actor</th>\n",
       "      <th>sex</th>\n",
       "      <th>filename</th>\n",
       "      <th>frame_count</th>\n",
       "      <th>...</th>\n",
       "      <th>stft_max_w4</th>\n",
       "      <th>stft_q01_w4</th>\n",
       "      <th>stft_q05_w4</th>\n",
       "      <th>stft_q25_w4</th>\n",
       "      <th>stft_q50_w4</th>\n",
       "      <th>stft_q75_w4</th>\n",
       "      <th>stft_q95_w4</th>\n",
       "      <th>stft_q99_w4</th>\n",
       "      <th>stft_kur_w4</th>\n",
       "      <th>stft_skew_w4</th>\n",
       "    </tr>\n",
       "  </thead>\n",
       "  <tbody>\n",
       "    <tr>\n",
       "      <th>0</th>\n",
       "      <td>audio-only</td>\n",
       "      <td>speech</td>\n",
       "      <td>neutral</td>\n",
       "      <td>normal</td>\n",
       "      <td>Kids are talking by the door</td>\n",
       "      <td>1st</td>\n",
       "      <td>1</td>\n",
       "      <td>M</td>\n",
       "      <td>03-01-01-01-01-01-01.wav</td>\n",
       "      <td>158558</td>\n",
       "      <td>...</td>\n",
       "      <td>1.0</td>\n",
       "      <td>0.000000</td>\n",
       "      <td>0.566462</td>\n",
       "      <td>0.709962</td>\n",
       "      <td>0.799141</td>\n",
       "      <td>0.896606</td>\n",
       "      <td>1.0</td>\n",
       "      <td>1.0</td>\n",
       "      <td>6.742190</td>\n",
       "      <td>-1.706215</td>\n",
       "    </tr>\n",
       "    <tr>\n",
       "      <th>1</th>\n",
       "      <td>audio-only</td>\n",
       "      <td>speech</td>\n",
       "      <td>neutral</td>\n",
       "      <td>normal</td>\n",
       "      <td>Kids are talking by the door</td>\n",
       "      <td>2nd</td>\n",
       "      <td>1</td>\n",
       "      <td>M</td>\n",
       "      <td>03-01-01-01-01-02-01.wav</td>\n",
       "      <td>160160</td>\n",
       "      <td>...</td>\n",
       "      <td>1.0</td>\n",
       "      <td>0.368623</td>\n",
       "      <td>0.472736</td>\n",
       "      <td>0.623183</td>\n",
       "      <td>0.744908</td>\n",
       "      <td>0.874713</td>\n",
       "      <td>1.0</td>\n",
       "      <td>1.0</td>\n",
       "      <td>-0.700420</td>\n",
       "      <td>-0.201495</td>\n",
       "    </tr>\n",
       "    <tr>\n",
       "      <th>2</th>\n",
       "      <td>audio-only</td>\n",
       "      <td>speech</td>\n",
       "      <td>neutral</td>\n",
       "      <td>normal</td>\n",
       "      <td>Dogs are sitting by the door</td>\n",
       "      <td>1st</td>\n",
       "      <td>1</td>\n",
       "      <td>M</td>\n",
       "      <td>03-01-01-01-02-01-01.wav</td>\n",
       "      <td>156956</td>\n",
       "      <td>...</td>\n",
       "      <td>1.0</td>\n",
       "      <td>0.000000</td>\n",
       "      <td>0.417919</td>\n",
       "      <td>0.643636</td>\n",
       "      <td>0.774253</td>\n",
       "      <td>0.899156</td>\n",
       "      <td>1.0</td>\n",
       "      <td>1.0</td>\n",
       "      <td>1.688986</td>\n",
       "      <td>-1.024773</td>\n",
       "    </tr>\n",
       "    <tr>\n",
       "      <th>3</th>\n",
       "      <td>audio-only</td>\n",
       "      <td>speech</td>\n",
       "      <td>neutral</td>\n",
       "      <td>normal</td>\n",
       "      <td>Dogs are sitting by the door</td>\n",
       "      <td>2nd</td>\n",
       "      <td>1</td>\n",
       "      <td>M</td>\n",
       "      <td>03-01-01-01-02-02-01.wav</td>\n",
       "      <td>152152</td>\n",
       "      <td>...</td>\n",
       "      <td>1.0</td>\n",
       "      <td>0.306280</td>\n",
       "      <td>0.399641</td>\n",
       "      <td>0.606910</td>\n",
       "      <td>0.755213</td>\n",
       "      <td>0.886474</td>\n",
       "      <td>1.0</td>\n",
       "      <td>1.0</td>\n",
       "      <td>-0.594111</td>\n",
       "      <td>-0.412871</td>\n",
       "    </tr>\n",
       "    <tr>\n",
       "      <th>4</th>\n",
       "      <td>audio-only</td>\n",
       "      <td>speech</td>\n",
       "      <td>calm</td>\n",
       "      <td>normal</td>\n",
       "      <td>Kids are talking by the door</td>\n",
       "      <td>1st</td>\n",
       "      <td>1</td>\n",
       "      <td>M</td>\n",
       "      <td>03-01-02-01-01-01-01.wav</td>\n",
       "      <td>169769</td>\n",
       "      <td>...</td>\n",
       "      <td>1.0</td>\n",
       "      <td>0.248765</td>\n",
       "      <td>0.428202</td>\n",
       "      <td>0.634815</td>\n",
       "      <td>0.759914</td>\n",
       "      <td>0.878014</td>\n",
       "      <td>1.0</td>\n",
       "      <td>1.0</td>\n",
       "      <td>0.126535</td>\n",
       "      <td>-0.620782</td>\n",
       "    </tr>\n",
       "  </tbody>\n",
       "</table>\n",
       "<p>5 rows × 434 columns</p>\n",
       "</div>"
      ],
      "text/plain": [
       "     modality vocal_channel  emotion emotional_intensity  \\\n",
       "0  audio-only        speech  neutral              normal   \n",
       "1  audio-only        speech  neutral              normal   \n",
       "2  audio-only        speech  neutral              normal   \n",
       "3  audio-only        speech  neutral              normal   \n",
       "4  audio-only        speech     calm              normal   \n",
       "\n",
       "                      statement repetition  actor sex  \\\n",
       "0  Kids are talking by the door        1st      1   M   \n",
       "1  Kids are talking by the door        2nd      1   M   \n",
       "2  Dogs are sitting by the door        1st      1   M   \n",
       "3  Dogs are sitting by the door        2nd      1   M   \n",
       "4  Kids are talking by the door        1st      1   M   \n",
       "\n",
       "                   filename  frame_count  ...  stft_max_w4  stft_q01_w4  \\\n",
       "0  03-01-01-01-01-01-01.wav       158558  ...          1.0     0.000000   \n",
       "1  03-01-01-01-01-02-01.wav       160160  ...          1.0     0.368623   \n",
       "2  03-01-01-01-02-01-01.wav       156956  ...          1.0     0.000000   \n",
       "3  03-01-01-01-02-02-01.wav       152152  ...          1.0     0.306280   \n",
       "4  03-01-02-01-01-01-01.wav       169769  ...          1.0     0.248765   \n",
       "\n",
       "   stft_q05_w4  stft_q25_w4  stft_q50_w4  stft_q75_w4  stft_q95_w4  \\\n",
       "0     0.566462     0.709962     0.799141     0.896606          1.0   \n",
       "1     0.472736     0.623183     0.744908     0.874713          1.0   \n",
       "2     0.417919     0.643636     0.774253     0.899156          1.0   \n",
       "3     0.399641     0.606910     0.755213     0.886474          1.0   \n",
       "4     0.428202     0.634815     0.759914     0.878014          1.0   \n",
       "\n",
       "   stft_q99_w4  stft_kur_w4  stft_skew_w4  \n",
       "0          1.0     6.742190     -1.706215  \n",
       "1          1.0    -0.700420     -0.201495  \n",
       "2          1.0     1.688986     -1.024773  \n",
       "3          1.0    -0.594111     -0.412871  \n",
       "4          1.0     0.126535     -0.620782  \n",
       "\n",
       "[5 rows x 434 columns]"
      ]
     },
     "execution_count": 3,
     "metadata": {},
     "output_type": "execute_result"
    }
   ],
   "source": [
    "df_train.head()"
   ]
  },
  {
   "cell_type": "code",
   "execution_count": 4,
   "metadata": {},
   "outputs": [],
   "source": [
    "def spearman_selector(target, df, k):\n",
    "    \"\"\"Returns a df comprising all the features highly correlated (above k and below -k)\n",
    "    with the binary target according Spearman coefficient. Target must be a pd Series\"\"\"\n",
    "    df = df.select_dtypes(include=\"number\")\n",
    "    target = target.map({target.unique()[0]:0, target.unique()[1]:1})\n",
    "    new_df = pd.DataFrame()\n",
    "    for col in df:\n",
    "        spearman = sp.spearmanr(df[col], target)[0]\n",
    "        if spearman > k or spearman < -k:\n",
    "            new_df[col] = df[col]\n",
    "    return new_df "
   ]
  },
  {
   "cell_type": "code",
   "execution_count": 6,
   "metadata": {},
   "outputs": [],
   "source": [
    "df_sex = spearman_selector(df_train[\"sex\"], df_train, 0.5)"
   ]
  },
  {
   "cell_type": "code",
   "execution_count": 8,
   "metadata": {},
   "outputs": [],
   "source": [
    "#aggiungere la colonna sex al dataframe\n",
    "df_sex[\"sex\"] = df_train[\"sex\"]"
   ]
  },
  {
   "cell_type": "code",
   "execution_count": 9,
   "metadata": {},
   "outputs": [],
   "source": [
    "X = df_sex.drop(['sex'], axis = 1)\n",
    "y = np.array(df_sex[['sex']])"
   ]
  },
  {
   "cell_type": "code",
   "execution_count": 10,
   "metadata": {},
   "outputs": [
    {
     "data": {
      "text/plain": [
       "(array(['F', 'M'], dtype=object), array([892, 936]))"
      ]
     },
     "execution_count": 10,
     "metadata": {},
     "output_type": "execute_result"
    }
   ],
   "source": [
    "np.unique(y, return_counts=True)"
   ]
  },
  {
   "cell_type": "markdown",
   "metadata": {},
   "source": [
    "#### Vogliamo che la minority class (F) sia il 96%. Avendo 892 casi di F, di conseguenza il totale è pari a 929. Quindi la majority class (M) sarà rappresentata al 4% e avrà 37 casi"
   ]
  },
  {
   "cell_type": "code",
   "execution_count": 11,
   "metadata": {},
   "outputs": [],
   "source": [
    "rows_remove = np.random.choice(df_sex[y == 'M'].index, 936-37, replace=False)"
   ]
  },
  {
   "cell_type": "code",
   "execution_count": 12,
   "metadata": {},
   "outputs": [
    {
     "name": "stdout",
     "output_type": "stream",
     "text": [
      "929\n"
     ]
    }
   ],
   "source": [
    "df2_sex = df_sex.drop(index=rows_remove, axis=0)\n",
    "print(len(df2_sex))"
   ]
  },
  {
   "cell_type": "code",
   "execution_count": 13,
   "metadata": {},
   "outputs": [],
   "source": [
    "X2 = df2_sex.loc[:, df2_sex.columns != 'sex']\n",
    "y2 = np.array([y[i] for i in range(len(y)) if i not in rows_remove])"
   ]
  },
  {
   "cell_type": "code",
   "execution_count": 14,
   "metadata": {},
   "outputs": [
    {
     "data": {
      "text/plain": [
       "(array(['F', 'M'], dtype=object), array([892,  37]))"
      ]
     },
     "execution_count": 14,
     "metadata": {},
     "output_type": "execute_result"
    }
   ],
   "source": [
    "np.unique(y2, return_counts=True)"
   ]
  },
  {
   "cell_type": "code",
   "execution_count": 15,
   "metadata": {},
   "outputs": [
    {
     "data": {
      "text/plain": [
       "(929, 45)"
      ]
     },
     "execution_count": 15,
     "metadata": {},
     "output_type": "execute_result"
    }
   ],
   "source": [
    "df2_sex.shape"
   ]
  },
  {
   "cell_type": "markdown",
   "metadata": {},
   "source": [
    "#### Train and Test dataset for application of oversampling"
   ]
  },
  {
   "cell_type": "code",
   "execution_count": 16,
   "metadata": {},
   "outputs": [],
   "source": [
    "from sklearn.model_selection import train_test_split\n",
    "X_train, X_test, y_train, y_test = train_test_split(X2, y2, test_size = 0.25, random_state=42)"
   ]
  },
  {
   "cell_type": "code",
   "execution_count": null,
   "metadata": {},
   "outputs": [],
   "source": []
  },
  {
   "cell_type": "code",
   "execution_count": null,
   "metadata": {},
   "outputs": [],
   "source": []
  },
  {
   "cell_type": "code",
   "execution_count": null,
   "metadata": {},
   "outputs": [],
   "source": []
  },
  {
   "cell_type": "code",
   "execution_count": null,
   "metadata": {},
   "outputs": [],
   "source": []
  },
  {
   "cell_type": "code",
   "execution_count": null,
   "metadata": {},
   "outputs": [],
   "source": []
  },
  {
   "cell_type": "code",
   "execution_count": null,
   "metadata": {},
   "outputs": [],
   "source": []
  },
  {
   "cell_type": "markdown",
   "metadata": {},
   "source": [
    "#### Procediamo ad aumentare le istanze della majority class (M) in modo tale quando applichiamo i metodi di undersampling non avremo classi contenenti meno di 100 valori, in quanto troppo pocchi per fare il training di un modello"
   ]
  },
  {
   "cell_type": "code",
   "execution_count": 18,
   "metadata": {},
   "outputs": [],
   "source": [
    "#individuare le righe da aggiungere per avere il dataset sbilanciato per i metodi di undersampling\n",
    "rows_add = np.random.choice(df_sex[y == 'M'].index, 936*8)\n",
    "rows_add_frame = df_sex.loc[rows_add]"
   ]
  },
  {
   "cell_type": "code",
   "execution_count": 19,
   "metadata": {},
   "outputs": [],
   "source": [
    "df3_sex = df_sex.append(rows_add_frame)"
   ]
  },
  {
   "cell_type": "code",
   "execution_count": 20,
   "metadata": {},
   "outputs": [],
   "source": [
    "X3 = df3_sex.loc[:, df3_sex.columns != 'sex']\n",
    "y3 = np.array(df3_sex.loc[:, df3_sex.columns == 'sex'])"
   ]
  },
  {
   "cell_type": "code",
   "execution_count": 21,
   "metadata": {},
   "outputs": [
    {
     "data": {
      "text/plain": [
       "(array(['F', 'M'], dtype=object), array([ 892, 8424]))"
      ]
     },
     "execution_count": 21,
     "metadata": {},
     "output_type": "execute_result"
    }
   ],
   "source": [
    "np.unique(y3, return_counts=True)"
   ]
  },
  {
   "cell_type": "markdown",
   "metadata": {},
   "source": [
    "#### Train and Test dataset for application of undersampling"
   ]
  },
  {
   "cell_type": "code",
   "execution_count": null,
   "metadata": {},
   "outputs": [],
   "source": []
  }
 ],
 "metadata": {
  "kernelspec": {
   "display_name": "Python 3",
   "language": "python",
   "name": "python3"
  },
  "language_info": {
   "codemirror_mode": {
    "name": "ipython",
    "version": 3
   },
   "file_extension": ".py",
   "mimetype": "text/x-python",
   "name": "python",
   "nbconvert_exporter": "python",
   "pygments_lexer": "ipython3",
   "version": "3.8.3"
  }
 },
 "nbformat": 4,
 "nbformat_minor": 4
}
