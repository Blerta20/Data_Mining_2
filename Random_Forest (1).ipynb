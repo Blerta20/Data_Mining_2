{
 "cells": [
  {
   "cell_type": "code",
   "execution_count": 3,
   "metadata": {},
   "outputs": [],
   "source": [
    "import pandas as pd\n",
    "import numpy as np\n",
    "from scipy import stats\n",
    "import matplotlib.pyplot as plt\n",
    "import seaborn as sns\n",
    "from collections import Counter\n",
    "\n",
    "from sklearn import preprocessing\n",
    "from sklearn.preprocessing import MinMaxScaler\n",
    "\n",
    "from sklearn.metrics import classification_report\n",
    "from sklearn.metrics import accuracy_score\n",
    "from sklearn.metrics import precision_score\n",
    "from sklearn.metrics import recall_score\n",
    "from sklearn.metrics import f1_score\n",
    "from sklearn.metrics import confusion_matrix\n",
    "from sklearn.metrics import roc_curve, auc, roc_auc_score\n",
    "\n",
    "\n",
    "from sklearn.model_selection import GridSearchCV\n",
    "from sklearn.model_selection import RandomizedSearchCV\n",
    "from sklearn.model_selection import train_test_split\n",
    "from sklearn.model_selection import StratifiedKFold\n",
    "\n",
    "from sklearn.ensemble import RandomForestClassifier\n",
    "\n",
    "from scipy.stats import uniform, randint, loguniform\n",
    "from sklearn.model_selection import RepeatedStratifiedKFold"
   ]
  },
  {
   "cell_type": "code",
   "execution_count": 4,
   "metadata": {},
   "outputs": [],
   "source": [
    "sns.set_style(\"whitegrid\", {'grid.linestyle': '--'})\n",
    "sns.set_style({'font.family':'serif', 'font.serif':'Computer Modern'})\n",
    "sns.set_context(font_scale=2, rc={\"font.size\":10,\"axes.titlesize\":20,\"axes.labelsize\":15})"
   ]
  },
  {
   "cell_type": "code",
   "execution_count": 5,
   "metadata": {},
   "outputs": [],
   "source": [
    "df_train = pd.read_csv(\"df_train_processed.csv\")\n",
    "df_test = pd.read_csv(\"df_test_processed.csv\")"
   ]
  },
  {
   "cell_type": "code",
   "execution_count": 6,
   "metadata": {},
   "outputs": [
    {
     "data": {
      "text/html": [
       "<div>\n",
       "<style scoped>\n",
       "    .dataframe tbody tr th:only-of-type {\n",
       "        vertical-align: middle;\n",
       "    }\n",
       "\n",
       "    .dataframe tbody tr th {\n",
       "        vertical-align: top;\n",
       "    }\n",
       "\n",
       "    .dataframe thead th {\n",
       "        text-align: right;\n",
       "    }\n",
       "</style>\n",
       "<table border=\"1\" class=\"dataframe\">\n",
       "  <thead>\n",
       "    <tr style=\"text-align: right;\">\n",
       "      <th></th>\n",
       "      <th>vocal_channel</th>\n",
       "      <th>emotion</th>\n",
       "      <th>emotional_intensity</th>\n",
       "      <th>statement</th>\n",
       "      <th>repetition</th>\n",
       "      <th>actor</th>\n",
       "      <th>sex</th>\n",
       "      <th>frame_count</th>\n",
       "      <th>sum</th>\n",
       "      <th>mean</th>\n",
       "      <th>...</th>\n",
       "      <th>stft_std_w4</th>\n",
       "      <th>stft_min_w4</th>\n",
       "      <th>stft_q01_w4</th>\n",
       "      <th>stft_q05_w4</th>\n",
       "      <th>stft_q25_w4</th>\n",
       "      <th>stft_q50_w4</th>\n",
       "      <th>stft_q75_w4</th>\n",
       "      <th>stft_q95_w4</th>\n",
       "      <th>stft_kur_w4</th>\n",
       "      <th>stft_skew_w4</th>\n",
       "    </tr>\n",
       "  </thead>\n",
       "  <tbody>\n",
       "    <tr>\n",
       "      <th>0</th>\n",
       "      <td>speech</td>\n",
       "      <td>neutral</td>\n",
       "      <td>normal</td>\n",
       "      <td>Kids are talking by the door</td>\n",
       "      <td>1st</td>\n",
       "      <td>1</td>\n",
       "      <td>M</td>\n",
       "      <td>158558</td>\n",
       "      <td>0.145081</td>\n",
       "      <td>9.150000e-07</td>\n",
       "      <td>...</td>\n",
       "      <td>0.155455</td>\n",
       "      <td>0.000000</td>\n",
       "      <td>0.000000</td>\n",
       "      <td>0.566462</td>\n",
       "      <td>0.709962</td>\n",
       "      <td>0.799141</td>\n",
       "      <td>0.896606</td>\n",
       "      <td>1.0</td>\n",
       "      <td>6.742190</td>\n",
       "      <td>-1.706215</td>\n",
       "    </tr>\n",
       "    <tr>\n",
       "      <th>1</th>\n",
       "      <td>speech</td>\n",
       "      <td>neutral</td>\n",
       "      <td>normal</td>\n",
       "      <td>Kids are talking by the door</td>\n",
       "      <td>2nd</td>\n",
       "      <td>1</td>\n",
       "      <td>M</td>\n",
       "      <td>160160</td>\n",
       "      <td>0.114319</td>\n",
       "      <td>7.137790e-07</td>\n",
       "      <td>...</td>\n",
       "      <td>0.163183</td>\n",
       "      <td>0.270133</td>\n",
       "      <td>0.368623</td>\n",
       "      <td>0.472736</td>\n",
       "      <td>0.623183</td>\n",
       "      <td>0.744908</td>\n",
       "      <td>0.874713</td>\n",
       "      <td>1.0</td>\n",
       "      <td>-0.700420</td>\n",
       "      <td>-0.201495</td>\n",
       "    </tr>\n",
       "    <tr>\n",
       "      <th>2</th>\n",
       "      <td>speech</td>\n",
       "      <td>neutral</td>\n",
       "      <td>normal</td>\n",
       "      <td>Dogs are sitting by the door</td>\n",
       "      <td>1st</td>\n",
       "      <td>1</td>\n",
       "      <td>M</td>\n",
       "      <td>156956</td>\n",
       "      <td>0.149963</td>\n",
       "      <td>9.554485e-07</td>\n",
       "      <td>...</td>\n",
       "      <td>0.190634</td>\n",
       "      <td>0.000000</td>\n",
       "      <td>0.000000</td>\n",
       "      <td>0.417919</td>\n",
       "      <td>0.643636</td>\n",
       "      <td>0.774253</td>\n",
       "      <td>0.899156</td>\n",
       "      <td>1.0</td>\n",
       "      <td>1.688986</td>\n",
       "      <td>-1.024773</td>\n",
       "    </tr>\n",
       "    <tr>\n",
       "      <th>3</th>\n",
       "      <td>speech</td>\n",
       "      <td>neutral</td>\n",
       "      <td>normal</td>\n",
       "      <td>Dogs are sitting by the door</td>\n",
       "      <td>2nd</td>\n",
       "      <td>1</td>\n",
       "      <td>M</td>\n",
       "      <td>152152</td>\n",
       "      <td>0.139618</td>\n",
       "      <td>9.176213e-07</td>\n",
       "      <td>...</td>\n",
       "      <td>0.182551</td>\n",
       "      <td>0.205616</td>\n",
       "      <td>0.306280</td>\n",
       "      <td>0.399641</td>\n",
       "      <td>0.606910</td>\n",
       "      <td>0.755213</td>\n",
       "      <td>0.886474</td>\n",
       "      <td>1.0</td>\n",
       "      <td>-0.594111</td>\n",
       "      <td>-0.412871</td>\n",
       "    </tr>\n",
       "    <tr>\n",
       "      <th>4</th>\n",
       "      <td>speech</td>\n",
       "      <td>calm</td>\n",
       "      <td>normal</td>\n",
       "      <td>Kids are talking by the door</td>\n",
       "      <td>1st</td>\n",
       "      <td>1</td>\n",
       "      <td>M</td>\n",
       "      <td>169769</td>\n",
       "      <td>0.137665</td>\n",
       "      <td>8.108948e-07</td>\n",
       "      <td>...</td>\n",
       "      <td>0.177069</td>\n",
       "      <td>0.177847</td>\n",
       "      <td>0.248765</td>\n",
       "      <td>0.428202</td>\n",
       "      <td>0.634815</td>\n",
       "      <td>0.759914</td>\n",
       "      <td>0.878014</td>\n",
       "      <td>1.0</td>\n",
       "      <td>0.126535</td>\n",
       "      <td>-0.620782</td>\n",
       "    </tr>\n",
       "  </tbody>\n",
       "</table>\n",
       "<p>5 rows × 383 columns</p>\n",
       "</div>"
      ],
      "text/plain": [
       "  vocal_channel  emotion emotional_intensity                     statement  \\\n",
       "0        speech  neutral              normal  Kids are talking by the door   \n",
       "1        speech  neutral              normal  Kids are talking by the door   \n",
       "2        speech  neutral              normal  Dogs are sitting by the door   \n",
       "3        speech  neutral              normal  Dogs are sitting by the door   \n",
       "4        speech     calm              normal  Kids are talking by the door   \n",
       "\n",
       "  repetition  actor sex  frame_count       sum          mean  ...  \\\n",
       "0        1st      1   M       158558  0.145081  9.150000e-07  ...   \n",
       "1        2nd      1   M       160160  0.114319  7.137790e-07  ...   \n",
       "2        1st      1   M       156956  0.149963  9.554485e-07  ...   \n",
       "3        2nd      1   M       152152  0.139618  9.176213e-07  ...   \n",
       "4        1st      1   M       169769  0.137665  8.108948e-07  ...   \n",
       "\n",
       "   stft_std_w4  stft_min_w4  stft_q01_w4  stft_q05_w4  stft_q25_w4  \\\n",
       "0     0.155455     0.000000     0.000000     0.566462     0.709962   \n",
       "1     0.163183     0.270133     0.368623     0.472736     0.623183   \n",
       "2     0.190634     0.000000     0.000000     0.417919     0.643636   \n",
       "3     0.182551     0.205616     0.306280     0.399641     0.606910   \n",
       "4     0.177069     0.177847     0.248765     0.428202     0.634815   \n",
       "\n",
       "   stft_q50_w4  stft_q75_w4  stft_q95_w4  stft_kur_w4  stft_skew_w4  \n",
       "0     0.799141     0.896606          1.0     6.742190     -1.706215  \n",
       "1     0.744908     0.874713          1.0    -0.700420     -0.201495  \n",
       "2     0.774253     0.899156          1.0     1.688986     -1.024773  \n",
       "3     0.755213     0.886474          1.0    -0.594111     -0.412871  \n",
       "4     0.759914     0.878014          1.0     0.126535     -0.620782  \n",
       "\n",
       "[5 rows x 383 columns]"
      ]
     },
     "execution_count": 6,
     "metadata": {},
     "output_type": "execute_result"
    }
   ],
   "source": [
    "df_train.head()"
   ]
  },
  {
   "cell_type": "code",
   "execution_count": 7,
   "metadata": {},
   "outputs": [
    {
     "data": {
      "text/html": [
       "<div>\n",
       "<style scoped>\n",
       "    .dataframe tbody tr th:only-of-type {\n",
       "        vertical-align: middle;\n",
       "    }\n",
       "\n",
       "    .dataframe tbody tr th {\n",
       "        vertical-align: top;\n",
       "    }\n",
       "\n",
       "    .dataframe thead th {\n",
       "        text-align: right;\n",
       "    }\n",
       "</style>\n",
       "<table border=\"1\" class=\"dataframe\">\n",
       "  <thead>\n",
       "    <tr style=\"text-align: right;\">\n",
       "      <th></th>\n",
       "      <th>vocal_channel</th>\n",
       "      <th>emotion</th>\n",
       "      <th>emotional_intensity</th>\n",
       "      <th>statement</th>\n",
       "      <th>repetition</th>\n",
       "      <th>actor</th>\n",
       "      <th>sex</th>\n",
       "      <th>frame_count</th>\n",
       "      <th>sum</th>\n",
       "      <th>mean</th>\n",
       "      <th>...</th>\n",
       "      <th>stft_std_w4</th>\n",
       "      <th>stft_min_w4</th>\n",
       "      <th>stft_q01_w4</th>\n",
       "      <th>stft_q05_w4</th>\n",
       "      <th>stft_q25_w4</th>\n",
       "      <th>stft_q50_w4</th>\n",
       "      <th>stft_q75_w4</th>\n",
       "      <th>stft_q95_w4</th>\n",
       "      <th>stft_kur_w4</th>\n",
       "      <th>stft_skew_w4</th>\n",
       "    </tr>\n",
       "  </thead>\n",
       "  <tbody>\n",
       "    <tr>\n",
       "      <th>0</th>\n",
       "      <td>speech</td>\n",
       "      <td>neutral</td>\n",
       "      <td>normal</td>\n",
       "      <td>Kids are talking by the door</td>\n",
       "      <td>1st</td>\n",
       "      <td>19</td>\n",
       "      <td>M</td>\n",
       "      <td>161762</td>\n",
       "      <td>0.475616</td>\n",
       "      <td>2.940224e-06</td>\n",
       "      <td>...</td>\n",
       "      <td>0.169929</td>\n",
       "      <td>0.222808</td>\n",
       "      <td>0.306697</td>\n",
       "      <td>0.466157</td>\n",
       "      <td>0.645931</td>\n",
       "      <td>0.789123</td>\n",
       "      <td>0.908316</td>\n",
       "      <td>1.0</td>\n",
       "      <td>-0.260279</td>\n",
       "      <td>-0.566556</td>\n",
       "    </tr>\n",
       "    <tr>\n",
       "      <th>1</th>\n",
       "      <td>speech</td>\n",
       "      <td>neutral</td>\n",
       "      <td>normal</td>\n",
       "      <td>Kids are talking by the door</td>\n",
       "      <td>2nd</td>\n",
       "      <td>19</td>\n",
       "      <td>M</td>\n",
       "      <td>155355</td>\n",
       "      <td>0.120148</td>\n",
       "      <td>7.733752e-07</td>\n",
       "      <td>...</td>\n",
       "      <td>0.216928</td>\n",
       "      <td>0.114567</td>\n",
       "      <td>0.170786</td>\n",
       "      <td>0.279347</td>\n",
       "      <td>0.557524</td>\n",
       "      <td>0.733053</td>\n",
       "      <td>0.866973</td>\n",
       "      <td>1.0</td>\n",
       "      <td>-0.428900</td>\n",
       "      <td>-0.587210</td>\n",
       "    </tr>\n",
       "    <tr>\n",
       "      <th>2</th>\n",
       "      <td>speech</td>\n",
       "      <td>neutral</td>\n",
       "      <td>normal</td>\n",
       "      <td>Dogs are sitting by the door</td>\n",
       "      <td>1st</td>\n",
       "      <td>19</td>\n",
       "      <td>M</td>\n",
       "      <td>160160</td>\n",
       "      <td>-0.599304</td>\n",
       "      <td>-3.741909e-06</td>\n",
       "      <td>...</td>\n",
       "      <td>0.227178</td>\n",
       "      <td>0.010295</td>\n",
       "      <td>0.023285</td>\n",
       "      <td>0.305395</td>\n",
       "      <td>0.577750</td>\n",
       "      <td>0.741576</td>\n",
       "      <td>0.889984</td>\n",
       "      <td>1.0</td>\n",
       "      <td>0.626916</td>\n",
       "      <td>-0.883317</td>\n",
       "    </tr>\n",
       "    <tr>\n",
       "      <th>3</th>\n",
       "      <td>speech</td>\n",
       "      <td>neutral</td>\n",
       "      <td>normal</td>\n",
       "      <td>Dogs are sitting by the door</td>\n",
       "      <td>2nd</td>\n",
       "      <td>19</td>\n",
       "      <td>M</td>\n",
       "      <td>158558</td>\n",
       "      <td>-0.080383</td>\n",
       "      <td>-5.069646e-07</td>\n",
       "      <td>...</td>\n",
       "      <td>0.179467</td>\n",
       "      <td>0.241405</td>\n",
       "      <td>0.368081</td>\n",
       "      <td>0.434591</td>\n",
       "      <td>0.620144</td>\n",
       "      <td>0.776419</td>\n",
       "      <td>0.904668</td>\n",
       "      <td>1.0</td>\n",
       "      <td>-0.825144</td>\n",
       "      <td>-0.383701</td>\n",
       "    </tr>\n",
       "    <tr>\n",
       "      <th>4</th>\n",
       "      <td>speech</td>\n",
       "      <td>calm</td>\n",
       "      <td>normal</td>\n",
       "      <td>Kids are talking by the door</td>\n",
       "      <td>1st</td>\n",
       "      <td>19</td>\n",
       "      <td>M</td>\n",
       "      <td>176176</td>\n",
       "      <td>0.152222</td>\n",
       "      <td>8.640319e-07</td>\n",
       "      <td>...</td>\n",
       "      <td>0.189124</td>\n",
       "      <td>0.217860</td>\n",
       "      <td>0.298851</td>\n",
       "      <td>0.393112</td>\n",
       "      <td>0.623309</td>\n",
       "      <td>0.772964</td>\n",
       "      <td>0.907035</td>\n",
       "      <td>1.0</td>\n",
       "      <td>-0.536669</td>\n",
       "      <td>-0.547354</td>\n",
       "    </tr>\n",
       "  </tbody>\n",
       "</table>\n",
       "<p>5 rows × 383 columns</p>\n",
       "</div>"
      ],
      "text/plain": [
       "  vocal_channel  emotion emotional_intensity                     statement  \\\n",
       "0        speech  neutral              normal  Kids are talking by the door   \n",
       "1        speech  neutral              normal  Kids are talking by the door   \n",
       "2        speech  neutral              normal  Dogs are sitting by the door   \n",
       "3        speech  neutral              normal  Dogs are sitting by the door   \n",
       "4        speech     calm              normal  Kids are talking by the door   \n",
       "\n",
       "  repetition  actor sex  frame_count       sum          mean  ...  \\\n",
       "0        1st     19   M       161762  0.475616  2.940224e-06  ...   \n",
       "1        2nd     19   M       155355  0.120148  7.733752e-07  ...   \n",
       "2        1st     19   M       160160 -0.599304 -3.741909e-06  ...   \n",
       "3        2nd     19   M       158558 -0.080383 -5.069646e-07  ...   \n",
       "4        1st     19   M       176176  0.152222  8.640319e-07  ...   \n",
       "\n",
       "   stft_std_w4  stft_min_w4  stft_q01_w4  stft_q05_w4  stft_q25_w4  \\\n",
       "0     0.169929     0.222808     0.306697     0.466157     0.645931   \n",
       "1     0.216928     0.114567     0.170786     0.279347     0.557524   \n",
       "2     0.227178     0.010295     0.023285     0.305395     0.577750   \n",
       "3     0.179467     0.241405     0.368081     0.434591     0.620144   \n",
       "4     0.189124     0.217860     0.298851     0.393112     0.623309   \n",
       "\n",
       "   stft_q50_w4  stft_q75_w4  stft_q95_w4  stft_kur_w4  stft_skew_w4  \n",
       "0     0.789123     0.908316          1.0    -0.260279     -0.566556  \n",
       "1     0.733053     0.866973          1.0    -0.428900     -0.587210  \n",
       "2     0.741576     0.889984          1.0     0.626916     -0.883317  \n",
       "3     0.776419     0.904668          1.0    -0.825144     -0.383701  \n",
       "4     0.772964     0.907035          1.0    -0.536669     -0.547354  \n",
       "\n",
       "[5 rows x 383 columns]"
      ]
     },
     "execution_count": 7,
     "metadata": {},
     "output_type": "execute_result"
    }
   ],
   "source": [
    "df_test.head()"
   ]
  },
  {
   "cell_type": "code",
   "execution_count": null,
   "metadata": {},
   "outputs": [],
   "source": []
  },
  {
   "cell_type": "code",
   "execution_count": null,
   "metadata": {},
   "outputs": [],
   "source": []
  },
  {
   "cell_type": "markdown",
   "metadata": {},
   "source": [
    "## Standardization\n"
   ]
  },
  {
   "cell_type": "markdown",
   "metadata": {},
   "source": [
    "## Train"
   ]
  },
  {
   "cell_type": "code",
   "execution_count": 8,
   "metadata": {},
   "outputs": [],
   "source": [
    "df_train_num = df_train.select_dtypes(include=\"number\").drop('actor', axis=1)\n",
    "df_train_cat = df_train.select_dtypes(include=['object'])\n",
    "\n",
    "scaler = MinMaxScaler()\n",
    "df_train_num_scaled = pd.DataFrame(scaler.fit_transform(df_train_num), columns=df_train_num.columns)\n",
    "df_train = pd.concat([df_train_num_scaled, df_train_cat], axis=1)"
   ]
  },
  {
   "cell_type": "code",
   "execution_count": null,
   "metadata": {},
   "outputs": [],
   "source": []
  },
  {
   "cell_type": "markdown",
   "metadata": {},
   "source": [
    "## Test"
   ]
  },
  {
   "cell_type": "code",
   "execution_count": 9,
   "metadata": {},
   "outputs": [],
   "source": [
    "df_test_num = df_test.select_dtypes(include=\"number\").drop('actor', axis=1)\n",
    "df_test_cat = df_test.select_dtypes(include=['object'])\n",
    "\n",
    "scaler = MinMaxScaler()\n",
    "df_test_num_scaled = pd.DataFrame(scaler.fit_transform(df_test_num), columns=df_test_num.columns)\n",
    "df_test = pd.concat([df_test_num_scaled, df_test_cat], axis=1)"
   ]
  },
  {
   "cell_type": "code",
   "execution_count": null,
   "metadata": {},
   "outputs": [],
   "source": []
  },
  {
   "cell_type": "code",
   "execution_count": null,
   "metadata": {},
   "outputs": [],
   "source": []
  },
  {
   "cell_type": "code",
   "execution_count": 10,
   "metadata": {},
   "outputs": [],
   "source": [
    "def label_Encoder(array, label):\n",
    "    new_array = np.zeros(len(array))\n",
    "    for i in range(len(array)):\n",
    "        if array[i] == label:\n",
    "            new_array[i] = 1\n",
    "    return new_array"
   ]
  },
  {
   "cell_type": "markdown",
   "metadata": {},
   "source": [
    "## Vocal Channel\n"
   ]
  },
  {
   "cell_type": "code",
   "execution_count": 11,
   "metadata": {},
   "outputs": [],
   "source": [
    "df_train_model_vc = df_train.copy()"
   ]
  },
  {
   "cell_type": "code",
   "execution_count": 12,
   "metadata": {},
   "outputs": [],
   "source": [
    "df_test_model_vc = df_test.copy()"
   ]
  },
  {
   "cell_type": "code",
   "execution_count": null,
   "metadata": {},
   "outputs": [],
   "source": []
  },
  {
   "cell_type": "code",
   "execution_count": 13,
   "metadata": {},
   "outputs": [],
   "source": [
    "label_encoder = preprocessing.LabelEncoder()\n",
    "df_train_model_vc_fi = df_train_model_vc.drop(\"vocal_channel\", axis=1)\n",
    "df_train_model_vc_fi = pd.get_dummies(df_train_model_vc_fi)\n",
    "df_train_model_vc_fi[\"vocal_channel\"] = df_train[\"vocal_channel\"]\n",
    "df_train_model_vc_fi[\"vocal_channel\"] = label_encoder.fit_transform(df_train_model_vc_fi['vocal_channel'])"
   ]
  },
  {
   "cell_type": "code",
   "execution_count": 14,
   "metadata": {},
   "outputs": [],
   "source": [
    "label_encoder = preprocessing.LabelEncoder()\n",
    "df_test_model_vc_fi = df_test_model_vc.drop(\"vocal_channel\", axis=1)\n",
    "df_test_model_vc_fi = pd.get_dummies(df_test_model_vc_fi)\n",
    "df_test_model_vc_fi[\"vocal_channel\"] = df_test[\"vocal_channel\"]\n",
    "df_test_model_vc_fi[\"vocal_channel\"] = label_encoder.fit_transform(df_test_model_vc_fi['vocal_channel'])"
   ]
  },
  {
   "cell_type": "code",
   "execution_count": null,
   "metadata": {},
   "outputs": [],
   "source": []
  },
  {
   "cell_type": "code",
   "execution_count": 15,
   "metadata": {},
   "outputs": [],
   "source": [
    "X_train_vc = df_train_model_vc.drop(\"vocal_channel\", axis=1)\n",
    "X_train_vc = np.array(pd.get_dummies(X_train_vc))\n",
    "y_train_vc = label_Encoder(df_train_model_vc[\"vocal_channel\"], 'speech')"
   ]
  },
  {
   "cell_type": "code",
   "execution_count": null,
   "metadata": {},
   "outputs": [],
   "source": []
  },
  {
   "cell_type": "code",
   "execution_count": 16,
   "metadata": {},
   "outputs": [],
   "source": [
    "X_test_vc = df_test_model_vc.drop(\"vocal_channel\", axis=1)\n",
    "X_test_vc = np.array(pd.get_dummies(X_test_vc))\n",
    "y_test_vc = label_Encoder(df_test_model_vc[\"vocal_channel\"], 'speech')"
   ]
  },
  {
   "cell_type": "code",
   "execution_count": null,
   "metadata": {},
   "outputs": [],
   "source": []
  },
  {
   "cell_type": "code",
   "execution_count": null,
   "metadata": {},
   "outputs": [],
   "source": []
  },
  {
   "cell_type": "code",
   "execution_count": 17,
   "metadata": {},
   "outputs": [],
   "source": [
    "def random_forest(X_train_array, y_train_array):\n",
    "    \n",
    "    \n",
    "    param_grid = {\"min_samples_split\": loguniform(1e-2, 1e0),\n",
    "                  \"min_samples_leaf\": uniform(0.001, 0.2),\n",
    "                   \"max_depth\": list(range(2,200)),\n",
    "                   \"criterion\": [\"gini\", \"entropy\", \"log_loss\"],\n",
    "                  'max_features': ['sqrt', 'log2', None],\n",
    "    }\n",
    "\n",
    "\n",
    "    clf=RandomForestClassifier(random_state=42,n_estimators = 100,)\n",
    "\n",
    "\n",
    "    randomforest=RandomizedSearchCV(clf,\n",
    "                                    param_grid,\n",
    "                                    cv=3,\n",
    "                                    verbose=1,\n",
    "                                    n_jobs=None,\n",
    "                                    n_iter = 100,\n",
    "                                    error_score='raise'\n",
    "                      )\n",
    "\n",
    "\n",
    "    randomforest.fit(X_train_array,y_train_array)\n",
    "\n",
    "    return randomforest"
   ]
  },
  {
   "cell_type": "code",
   "execution_count": 18,
   "metadata": {},
   "outputs": [
    {
     "name": "stdout",
     "output_type": "stream",
     "text": [
      "Fitting 3 folds for each of 100 candidates, totalling 300 fits\n"
     ]
    }
   ],
   "source": [
    "randomforest_vocal_channel = random_forest(X_train_vc, y_train_vc)"
   ]
  },
  {
   "cell_type": "code",
   "execution_count": 19,
   "metadata": {},
   "outputs": [
    {
     "name": "stdout",
     "output_type": "stream",
     "text": [
      "Tuned Random Forest Parameters: {'criterion': 'entropy', 'max_depth': 75, 'max_features': 'log2', 'min_samples_leaf': 0.0013264089747867516, 'min_samples_split': 0.030356999418816324}\n"
     ]
    }
   ],
   "source": [
    "print(\"Tuned Random Forest Parameters: {}\".format(randomforest_vocal_channel.best_params_))"
   ]
  },
  {
   "cell_type": "code",
   "execution_count": 20,
   "metadata": {},
   "outputs": [
    {
     "data": {
      "text/html": [
       "<style>#sk-container-id-1 {color: black;background-color: white;}#sk-container-id-1 pre{padding: 0;}#sk-container-id-1 div.sk-toggleable {background-color: white;}#sk-container-id-1 label.sk-toggleable__label {cursor: pointer;display: block;width: 100%;margin-bottom: 0;padding: 0.3em;box-sizing: border-box;text-align: center;}#sk-container-id-1 label.sk-toggleable__label-arrow:before {content: \"▸\";float: left;margin-right: 0.25em;color: #696969;}#sk-container-id-1 label.sk-toggleable__label-arrow:hover:before {color: black;}#sk-container-id-1 div.sk-estimator:hover label.sk-toggleable__label-arrow:before {color: black;}#sk-container-id-1 div.sk-toggleable__content {max-height: 0;max-width: 0;overflow: hidden;text-align: left;background-color: #f0f8ff;}#sk-container-id-1 div.sk-toggleable__content pre {margin: 0.2em;color: black;border-radius: 0.25em;background-color: #f0f8ff;}#sk-container-id-1 input.sk-toggleable__control:checked~div.sk-toggleable__content {max-height: 200px;max-width: 100%;overflow: auto;}#sk-container-id-1 input.sk-toggleable__control:checked~label.sk-toggleable__label-arrow:before {content: \"▾\";}#sk-container-id-1 div.sk-estimator input.sk-toggleable__control:checked~label.sk-toggleable__label {background-color: #d4ebff;}#sk-container-id-1 div.sk-label input.sk-toggleable__control:checked~label.sk-toggleable__label {background-color: #d4ebff;}#sk-container-id-1 input.sk-hidden--visually {border: 0;clip: rect(1px 1px 1px 1px);clip: rect(1px, 1px, 1px, 1px);height: 1px;margin: -1px;overflow: hidden;padding: 0;position: absolute;width: 1px;}#sk-container-id-1 div.sk-estimator {font-family: monospace;background-color: #f0f8ff;border: 1px dotted black;border-radius: 0.25em;box-sizing: border-box;margin-bottom: 0.5em;}#sk-container-id-1 div.sk-estimator:hover {background-color: #d4ebff;}#sk-container-id-1 div.sk-parallel-item::after {content: \"\";width: 100%;border-bottom: 1px solid gray;flex-grow: 1;}#sk-container-id-1 div.sk-label:hover label.sk-toggleable__label {background-color: #d4ebff;}#sk-container-id-1 div.sk-serial::before {content: \"\";position: absolute;border-left: 1px solid gray;box-sizing: border-box;top: 0;bottom: 0;left: 50%;z-index: 0;}#sk-container-id-1 div.sk-serial {display: flex;flex-direction: column;align-items: center;background-color: white;padding-right: 0.2em;padding-left: 0.2em;position: relative;}#sk-container-id-1 div.sk-item {position: relative;z-index: 1;}#sk-container-id-1 div.sk-parallel {display: flex;align-items: stretch;justify-content: center;background-color: white;position: relative;}#sk-container-id-1 div.sk-item::before, #sk-container-id-1 div.sk-parallel-item::before {content: \"\";position: absolute;border-left: 1px solid gray;box-sizing: border-box;top: 0;bottom: 0;left: 50%;z-index: -1;}#sk-container-id-1 div.sk-parallel-item {display: flex;flex-direction: column;z-index: 1;position: relative;background-color: white;}#sk-container-id-1 div.sk-parallel-item:first-child::after {align-self: flex-end;width: 50%;}#sk-container-id-1 div.sk-parallel-item:last-child::after {align-self: flex-start;width: 50%;}#sk-container-id-1 div.sk-parallel-item:only-child::after {width: 0;}#sk-container-id-1 div.sk-dashed-wrapped {border: 1px dashed gray;margin: 0 0.4em 0.5em 0.4em;box-sizing: border-box;padding-bottom: 0.4em;background-color: white;}#sk-container-id-1 div.sk-label label {font-family: monospace;font-weight: bold;display: inline-block;line-height: 1.2em;}#sk-container-id-1 div.sk-label-container {text-align: center;}#sk-container-id-1 div.sk-container {/* jupyter's `normalize.less` sets `[hidden] { display: none; }` but bootstrap.min.css set `[hidden] { display: none !important; }` so we also need the `!important` here to be able to override the default hidden behavior on the sphinx rendered scikit-learn.org. See: https://github.com/scikit-learn/scikit-learn/issues/21755 */display: inline-block !important;position: relative;}#sk-container-id-1 div.sk-text-repr-fallback {display: none;}</style><div id=\"sk-container-id-1\" class=\"sk-top-container\"><div class=\"sk-text-repr-fallback\"><pre>RandomForestClassifier(criterion=&#x27;entropy&#x27;, max_depth=75, max_features=&#x27;log2&#x27;,\n",
       "                       min_samples_leaf=0.0013264089747867516,\n",
       "                       min_samples_split=0.030356999418816324)</pre><b>In a Jupyter environment, please rerun this cell to show the HTML representation or trust the notebook. <br />On GitHub, the HTML representation is unable to render, please try loading this page with nbviewer.org.</b></div><div class=\"sk-container\" hidden><div class=\"sk-item\"><div class=\"sk-estimator sk-toggleable\"><input class=\"sk-toggleable__control sk-hidden--visually\" id=\"sk-estimator-id-1\" type=\"checkbox\" checked><label for=\"sk-estimator-id-1\" class=\"sk-toggleable__label sk-toggleable__label-arrow\">RandomForestClassifier</label><div class=\"sk-toggleable__content\"><pre>RandomForestClassifier(criterion=&#x27;entropy&#x27;, max_depth=75, max_features=&#x27;log2&#x27;,\n",
       "                       min_samples_leaf=0.0013264089747867516,\n",
       "                       min_samples_split=0.030356999418816324)</pre></div></div></div></div></div>"
      ],
      "text/plain": [
       "RandomForestClassifier(criterion='entropy', max_depth=75, max_features='log2',\n",
       "                       min_samples_leaf=0.0013264089747867516,\n",
       "                       min_samples_split=0.030356999418816324)"
      ]
     },
     "execution_count": 20,
     "metadata": {},
     "output_type": "execute_result"
    }
   ],
   "source": [
    "model_vocal_channel = RandomForestClassifier( \n",
    "                                    min_samples_split = 0.030356999418816324, \n",
    "                                    min_samples_leaf = 0.0013264089747867516, \n",
    "                                    max_features = 'log2', \n",
    "                                    max_depth = 75,\n",
    "                                    criterion = 'entropy'\n",
    "                                    )\n",
    "model_vocal_channel.fit(X_train_vc,y_train_vc)"
   ]
  },
  {
   "cell_type": "code",
   "execution_count": 21,
   "metadata": {},
   "outputs": [],
   "source": [
    "y_pred_rf_vc = model_vocal_channel.predict(X_test_vc)"
   ]
  },
  {
   "cell_type": "code",
   "execution_count": 22,
   "metadata": {},
   "outputs": [
    {
     "name": "stdout",
     "output_type": "stream",
     "text": [
      "              precision    recall  f1-score   support\n",
      "\n",
      "         0.0       0.93      0.98      0.96       264\n",
      "         1.0       0.99      0.95      0.97       360\n",
      "\n",
      "    accuracy                           0.96       624\n",
      "   macro avg       0.96      0.97      0.96       624\n",
      "weighted avg       0.96      0.96      0.96       624\n",
      "\n"
     ]
    }
   ],
   "source": [
    "print(classification_report(y_test_vc, y_pred_rf_vc))"
   ]
  },
  {
   "cell_type": "code",
   "execution_count": null,
   "metadata": {},
   "outputs": [],
   "source": []
  },
  {
   "cell_type": "code",
   "execution_count": 23,
   "metadata": {},
   "outputs": [],
   "source": [
    "accuracy_vc = accuracy_score(y_test_vc, y_pred_rf_vc)\n",
    "f1_score_vc = f1_score(y_test_vc, y_pred_rf_vc, average = 'weighted')"
   ]
  },
  {
   "cell_type": "code",
   "execution_count": null,
   "metadata": {},
   "outputs": [],
   "source": []
  },
  {
   "cell_type": "code",
   "execution_count": null,
   "metadata": {},
   "outputs": [],
   "source": []
  },
  {
   "cell_type": "code",
   "execution_count": 24,
   "metadata": {},
   "outputs": [],
   "source": [
    "def feature_importance(model, train_dataset):\n",
    "\n",
    "    most_important = model.feature_importances_.argsort()[-10:] \n",
    "    imps = model.feature_importances_[most_important]\n",
    "    vars_ = train_dataset.columns[most_important]\n",
    "    [print(f\"Feature: {var}, Importance: {imp}\") for var, imp in zip(vars_, imps)]\n",
    "    return imps, vars_"
   ]
  },
  {
   "cell_type": "code",
   "execution_count": 25,
   "metadata": {},
   "outputs": [
    {
     "data": {
      "image/png": "[encoded data removed]",
      "text/plain": [
       "<Figure size 432x288 with 1 Axes>"
      ]
     },
     "metadata": {},
     "output_type": "display_data"
    }
   ],
   "source": [
    "nbr_features = 10\n",
    "tree_feature_importances = model_vocal_channel.feature_importances_\n",
    "sorted_idx = tree_feature_importances.argsort()[-nbr_features:]\n",
    "y_ticks = np.arange(0, len(sorted_idx))\n",
    "fig, ax = plt.subplots()\n",
    "plt.barh(y_ticks, tree_feature_importances[sorted_idx])\n",
    "plt.yticks(y_ticks, np.array(df_train_model_vc_fi.columns)[sorted_idx])\n",
    "plt.title(\"Random Forest Feature Importances\")\n",
    "plt.show()"
   ]
  },
  {
   "cell_type": "code",
   "execution_count": null,
   "metadata": {},
   "outputs": [],
   "source": []
  },
  {
   "cell_type": "code",
   "execution_count": 31,
   "metadata": {},
   "outputs": [
    {
     "name": "stdout",
     "output_type": "stream",
     "text": [
      "Feature: sc_mean_w2, Importance: 0.02012559570113128\n",
      "Feature: q01_w1, Importance: 0.020843006833846763\n",
      "Feature: lag1_skew_w4, Importance: 0.022522093295647864\n",
      "Feature: stft_q01_w4, Importance: 0.023451195089353623\n",
      "Feature: length_w2, Importance: 0.027207192260308818\n",
      "Feature: length_w3, Importance: 0.02731632002758339\n",
      "Feature: stft_q50_w2, Importance: 0.02864894258087342\n",
      "Feature: length_w1, Importance: 0.03031574716591688\n",
      "Feature: stft_min_w4, Importance: 0.033244008946741996\n",
      "Feature: frame_count, Importance: 0.03542858440931193\n"
     ]
    }
   ],
   "source": [
    "imps, vars_ = feature_importance(model_vocal_channel, df_train_model_vc)"
   ]
  },
  {
   "cell_type": "code",
   "execution_count": 34,
   "metadata": {},
   "outputs": [],
   "source": [
    "X_train_vc_fi = np.array(df_train_model_vc_fi[vars_])\n",
    "X_test_vc_fi = np.array(df_test_model_vc_fi[vars_])"
   ]
  },
  {
   "cell_type": "code",
   "execution_count": 35,
   "metadata": {},
   "outputs": [
    {
     "name": "stdout",
     "output_type": "stream",
     "text": [
      "Fitting 3 folds for each of 100 candidates, totalling 300 fits\n"
     ]
    }
   ],
   "source": [
    "randomforest_vocal_channel_fi = random_forest(X_train_vc_fi, y_train_vc)"
   ]
  },
  {
   "cell_type": "code",
   "execution_count": 36,
   "metadata": {},
   "outputs": [
    {
     "name": "stdout",
     "output_type": "stream",
     "text": [
      "Tuned Random Forest Parameters after Feature Importance: {'criterion': 'log_loss', 'max_depth': 32, 'max_features': 'sqrt', 'min_samples_leaf': 0.0013212609025101676, 'min_samples_split': 0.03928095055628569}\n"
     ]
    }
   ],
   "source": [
    "print(\"Tuned Random Forest Parameters after Feature Importance: {}\".format(randomforest_vocal_channel_fi.best_params_))\n",
    "\n"
   ]
  },
  {
   "cell_type": "code",
   "execution_count": 37,
   "metadata": {},
   "outputs": [
    {
     "data": {
      "text/html": [
       "<style>#sk-container-id-2 {color: black;background-color: white;}#sk-container-id-2 pre{padding: 0;}#sk-container-id-2 div.sk-toggleable {background-color: white;}#sk-container-id-2 label.sk-toggleable__label {cursor: pointer;display: block;width: 100%;margin-bottom: 0;padding: 0.3em;box-sizing: border-box;text-align: center;}#sk-container-id-2 label.sk-toggleable__label-arrow:before {content: \"▸\";float: left;margin-right: 0.25em;color: #696969;}#sk-container-id-2 label.sk-toggleable__label-arrow:hover:before {color: black;}#sk-container-id-2 div.sk-estimator:hover label.sk-toggleable__label-arrow:before {color: black;}#sk-container-id-2 div.sk-toggleable__content {max-height: 0;max-width: 0;overflow: hidden;text-align: left;background-color: #f0f8ff;}#sk-container-id-2 div.sk-toggleable__content pre {margin: 0.2em;color: black;border-radius: 0.25em;background-color: #f0f8ff;}#sk-container-id-2 input.sk-toggleable__control:checked~div.sk-toggleable__content {max-height: 200px;max-width: 100%;overflow: auto;}#sk-container-id-2 input.sk-toggleable__control:checked~label.sk-toggleable__label-arrow:before {content: \"▾\";}#sk-container-id-2 div.sk-estimator input.sk-toggleable__control:checked~label.sk-toggleable__label {background-color: #d4ebff;}#sk-container-id-2 div.sk-label input.sk-toggleable__control:checked~label.sk-toggleable__label {background-color: #d4ebff;}#sk-container-id-2 input.sk-hidden--visually {border: 0;clip: rect(1px 1px 1px 1px);clip: rect(1px, 1px, 1px, 1px);height: 1px;margin: -1px;overflow: hidden;padding: 0;position: absolute;width: 1px;}#sk-container-id-2 div.sk-estimator {font-family: monospace;background-color: #f0f8ff;border: 1px dotted black;border-radius: 0.25em;box-sizing: border-box;margin-bottom: 0.5em;}#sk-container-id-2 div.sk-estimator:hover {background-color: #d4ebff;}#sk-container-id-2 div.sk-parallel-item::after {content: \"\";width: 100%;border-bottom: 1px solid gray;flex-grow: 1;}#sk-container-id-2 div.sk-label:hover label.sk-toggleable__label {background-color: #d4ebff;}#sk-container-id-2 div.sk-serial::before {content: \"\";position: absolute;border-left: 1px solid gray;box-sizing: border-box;top: 0;bottom: 0;left: 50%;z-index: 0;}#sk-container-id-2 div.sk-serial {display: flex;flex-direction: column;align-items: center;background-color: white;padding-right: 0.2em;padding-left: 0.2em;position: relative;}#sk-container-id-2 div.sk-item {position: relative;z-index: 1;}#sk-container-id-2 div.sk-parallel {display: flex;align-items: stretch;justify-content: center;background-color: white;position: relative;}#sk-container-id-2 div.sk-item::before, #sk-container-id-2 div.sk-parallel-item::before {content: \"\";position: absolute;border-left: 1px solid gray;box-sizing: border-box;top: 0;bottom: 0;left: 50%;z-index: -1;}#sk-container-id-2 div.sk-parallel-item {display: flex;flex-direction: column;z-index: 1;position: relative;background-color: white;}#sk-container-id-2 div.sk-parallel-item:first-child::after {align-self: flex-end;width: 50%;}#sk-container-id-2 div.sk-parallel-item:last-child::after {align-self: flex-start;width: 50%;}#sk-container-id-2 div.sk-parallel-item:only-child::after {width: 0;}#sk-container-id-2 div.sk-dashed-wrapped {border: 1px dashed gray;margin: 0 0.4em 0.5em 0.4em;box-sizing: border-box;padding-bottom: 0.4em;background-color: white;}#sk-container-id-2 div.sk-label label {font-family: monospace;font-weight: bold;display: inline-block;line-height: 1.2em;}#sk-container-id-2 div.sk-label-container {text-align: center;}#sk-container-id-2 div.sk-container {/* jupyter's `normalize.less` sets `[hidden] { display: none; }` but bootstrap.min.css set `[hidden] { display: none !important; }` so we also need the `!important` here to be able to override the default hidden behavior on the sphinx rendered scikit-learn.org. See: https://github.com/scikit-learn/scikit-learn/issues/21755 */display: inline-block !important;position: relative;}#sk-container-id-2 div.sk-text-repr-fallback {display: none;}</style><div id=\"sk-container-id-2\" class=\"sk-top-container\"><div class=\"sk-text-repr-fallback\"><pre>RandomForestClassifier(criterion=&#x27;log_loss&#x27;, max_depth=32,\n",
       "                       min_samples_leaf=0.0013212609025101676,\n",
       "                       min_samples_split=0.03928095055628569)</pre><b>In a Jupyter environment, please rerun this cell to show the HTML representation or trust the notebook. <br />On GitHub, the HTML representation is unable to render, please try loading this page with nbviewer.org.</b></div><div class=\"sk-container\" hidden><div class=\"sk-item\"><div class=\"sk-estimator sk-toggleable\"><input class=\"sk-toggleable__control sk-hidden--visually\" id=\"sk-estimator-id-2\" type=\"checkbox\" checked><label for=\"sk-estimator-id-2\" class=\"sk-toggleable__label sk-toggleable__label-arrow\">RandomForestClassifier</label><div class=\"sk-toggleable__content\"><pre>RandomForestClassifier(criterion=&#x27;log_loss&#x27;, max_depth=32,\n",
       "                       min_samples_leaf=0.0013212609025101676,\n",
       "                       min_samples_split=0.03928095055628569)</pre></div></div></div></div></div>"
      ],
      "text/plain": [
       "RandomForestClassifier(criterion='log_loss', max_depth=32,\n",
       "                       min_samples_leaf=0.0013212609025101676,\n",
       "                       min_samples_split=0.03928095055628569)"
      ]
     },
     "execution_count": 37,
     "metadata": {},
     "output_type": "execute_result"
    }
   ],
   "source": [
    "model_vocal_channel_fi = RandomForestClassifier(min_samples_split = 0.03928095055628569, \n",
    "                                    min_samples_leaf = 0.0013212609025101676, \n",
    "                                    max_features = 'sqrt', \n",
    "                                    max_depth = 32,\n",
    "                                    criterion = 'log_loss'\n",
    "                                    )\n",
    "model_vocal_channel_fi.fit(X_train_vc_fi,y_train_vc)"
   ]
  },
  {
   "cell_type": "code",
   "execution_count": 38,
   "metadata": {},
   "outputs": [],
   "source": [
    "y_pred_rf_vc_fi = model_vocal_channel_fi.predict(X_test_vc_fi)"
   ]
  },
  {
   "cell_type": "code",
   "execution_count": 39,
   "metadata": {},
   "outputs": [
    {
     "name": "stdout",
     "output_type": "stream",
     "text": [
      "              precision    recall  f1-score   support\n",
      "\n",
      "         0.0       0.89      0.98      0.94       264\n",
      "         1.0       0.99      0.91      0.95       360\n",
      "\n",
      "    accuracy                           0.94       624\n",
      "   macro avg       0.94      0.95      0.94       624\n",
      "weighted avg       0.95      0.94      0.94       624\n",
      "\n"
     ]
    }
   ],
   "source": [
    "print(classification_report(y_test_vc, y_pred_rf_vc_fi))"
   ]
  },
  {
   "cell_type": "code",
   "execution_count": null,
   "metadata": {},
   "outputs": [],
   "source": []
  },
  {
   "cell_type": "code",
   "execution_count": null,
   "metadata": {},
   "outputs": [],
   "source": []
  },
  {
   "cell_type": "markdown",
   "metadata": {},
   "source": [
    "## Sex"
   ]
  },
  {
   "cell_type": "code",
   "execution_count": 40,
   "metadata": {},
   "outputs": [],
   "source": [
    "df_train_model_s = df_train.copy()"
   ]
  },
  {
   "cell_type": "code",
   "execution_count": 41,
   "metadata": {},
   "outputs": [],
   "source": [
    "df_test_model_s = df_test.copy()"
   ]
  },
  {
   "cell_type": "code",
   "execution_count": null,
   "metadata": {},
   "outputs": [],
   "source": []
  },
  {
   "cell_type": "code",
   "execution_count": 42,
   "metadata": {},
   "outputs": [],
   "source": [
    "label_encoder = preprocessing.LabelEncoder()\n",
    "df_train_model_s_fi = df_train_model_s.drop(\"sex\", axis=1)\n",
    "df_train_model_s_fi = pd.get_dummies(df_train_model_s_fi)\n",
    "df_train_model_s_fi[\"sex\"] = df_train[\"sex\"]\n",
    "df_train_model_s_fi[\"sex\"] = label_encoder.fit_transform(df_train_model_s_fi['sex'])"
   ]
  },
  {
   "cell_type": "code",
   "execution_count": null,
   "metadata": {},
   "outputs": [],
   "source": []
  },
  {
   "cell_type": "code",
   "execution_count": 43,
   "metadata": {},
   "outputs": [],
   "source": [
    "label_encoder = preprocessing.LabelEncoder()\n",
    "df_test_model_s_fi = df_test_model_s.drop(\"sex\", axis=1)\n",
    "df_test_model_s_fi = pd.get_dummies(df_test_model_s_fi)\n",
    "df_test_model_s_fi[\"sex\"] = df_test[\"sex\"]\n",
    "df_test_model_s_fi[\"sex\"] = label_encoder.fit_transform(df_test_model_s_fi['sex'])"
   ]
  },
  {
   "cell_type": "code",
   "execution_count": null,
   "metadata": {},
   "outputs": [],
   "source": []
  },
  {
   "cell_type": "code",
   "execution_count": 44,
   "metadata": {},
   "outputs": [],
   "source": [
    "X_train_s = df_train_model_s.drop(\"sex\", axis=1)\n",
    "X_train_s = np.array(pd.get_dummies(X_train_s))\n",
    "y_train_s = label_Encoder(df_train_model_s[\"sex\"], 'M')"
   ]
  },
  {
   "cell_type": "code",
   "execution_count": null,
   "metadata": {},
   "outputs": [],
   "source": []
  },
  {
   "cell_type": "code",
   "execution_count": 45,
   "metadata": {},
   "outputs": [],
   "source": [
    "X_test_s = df_test_model_s.drop(\"sex\", axis=1)\n",
    "X_test_s = np.array(pd.get_dummies(X_test_s))\n",
    "y_test_s = label_Encoder(df_test_model_s[\"sex\"], 'M')"
   ]
  },
  {
   "cell_type": "code",
   "execution_count": null,
   "metadata": {},
   "outputs": [],
   "source": []
  },
  {
   "cell_type": "code",
   "execution_count": 46,
   "metadata": {},
   "outputs": [
    {
     "name": "stdout",
     "output_type": "stream",
     "text": [
      "Fitting 3 folds for each of 100 candidates, totalling 300 fits\n"
     ]
    }
   ],
   "source": [
    "randomforest_sex = random_forest(X_train_s, y_train_s)"
   ]
  },
  {
   "cell_type": "code",
   "execution_count": 47,
   "metadata": {},
   "outputs": [
    {
     "name": "stdout",
     "output_type": "stream",
     "text": [
      "Tuned Random Forest Parameters: {'criterion': 'gini', 'max_depth': 80, 'max_features': None, 'min_samples_leaf': 0.013275947799821042, 'min_samples_split': 0.02243106610904931}\n"
     ]
    }
   ],
   "source": [
    "print(\"Tuned Random Forest Parameters: {}\".format(randomforest_sex.best_params_))"
   ]
  },
  {
   "cell_type": "code",
   "execution_count": 48,
   "metadata": {},
   "outputs": [
    {
     "data": {
      "text/html": [
       "<style>#sk-container-id-3 {color: black;background-color: white;}#sk-container-id-3 pre{padding: 0;}#sk-container-id-3 div.sk-toggleable {background-color: white;}#sk-container-id-3 label.sk-toggleable__label {cursor: pointer;display: block;width: 100%;margin-bottom: 0;padding: 0.3em;box-sizing: border-box;text-align: center;}#sk-container-id-3 label.sk-toggleable__label-arrow:before {content: \"▸\";float: left;margin-right: 0.25em;color: #696969;}#sk-container-id-3 label.sk-toggleable__label-arrow:hover:before {color: black;}#sk-container-id-3 div.sk-estimator:hover label.sk-toggleable__label-arrow:before {color: black;}#sk-container-id-3 div.sk-toggleable__content {max-height: 0;max-width: 0;overflow: hidden;text-align: left;background-color: #f0f8ff;}#sk-container-id-3 div.sk-toggleable__content pre {margin: 0.2em;color: black;border-radius: 0.25em;background-color: #f0f8ff;}#sk-container-id-3 input.sk-toggleable__control:checked~div.sk-toggleable__content {max-height: 200px;max-width: 100%;overflow: auto;}#sk-container-id-3 input.sk-toggleable__control:checked~label.sk-toggleable__label-arrow:before {content: \"▾\";}#sk-container-id-3 div.sk-estimator input.sk-toggleable__control:checked~label.sk-toggleable__label {background-color: #d4ebff;}#sk-container-id-3 div.sk-label input.sk-toggleable__control:checked~label.sk-toggleable__label {background-color: #d4ebff;}#sk-container-id-3 input.sk-hidden--visually {border: 0;clip: rect(1px 1px 1px 1px);clip: rect(1px, 1px, 1px, 1px);height: 1px;margin: -1px;overflow: hidden;padding: 0;position: absolute;width: 1px;}#sk-container-id-3 div.sk-estimator {font-family: monospace;background-color: #f0f8ff;border: 1px dotted black;border-radius: 0.25em;box-sizing: border-box;margin-bottom: 0.5em;}#sk-container-id-3 div.sk-estimator:hover {background-color: #d4ebff;}#sk-container-id-3 div.sk-parallel-item::after {content: \"\";width: 100%;border-bottom: 1px solid gray;flex-grow: 1;}#sk-container-id-3 div.sk-label:hover label.sk-toggleable__label {background-color: #d4ebff;}#sk-container-id-3 div.sk-serial::before {content: \"\";position: absolute;border-left: 1px solid gray;box-sizing: border-box;top: 0;bottom: 0;left: 50%;z-index: 0;}#sk-container-id-3 div.sk-serial {display: flex;flex-direction: column;align-items: center;background-color: white;padding-right: 0.2em;padding-left: 0.2em;position: relative;}#sk-container-id-3 div.sk-item {position: relative;z-index: 1;}#sk-container-id-3 div.sk-parallel {display: flex;align-items: stretch;justify-content: center;background-color: white;position: relative;}#sk-container-id-3 div.sk-item::before, #sk-container-id-3 div.sk-parallel-item::before {content: \"\";position: absolute;border-left: 1px solid gray;box-sizing: border-box;top: 0;bottom: 0;left: 50%;z-index: -1;}#sk-container-id-3 div.sk-parallel-item {display: flex;flex-direction: column;z-index: 1;position: relative;background-color: white;}#sk-container-id-3 div.sk-parallel-item:first-child::after {align-self: flex-end;width: 50%;}#sk-container-id-3 div.sk-parallel-item:last-child::after {align-self: flex-start;width: 50%;}#sk-container-id-3 div.sk-parallel-item:only-child::after {width: 0;}#sk-container-id-3 div.sk-dashed-wrapped {border: 1px dashed gray;margin: 0 0.4em 0.5em 0.4em;box-sizing: border-box;padding-bottom: 0.4em;background-color: white;}#sk-container-id-3 div.sk-label label {font-family: monospace;font-weight: bold;display: inline-block;line-height: 1.2em;}#sk-container-id-3 div.sk-label-container {text-align: center;}#sk-container-id-3 div.sk-container {/* jupyter's `normalize.less` sets `[hidden] { display: none; }` but bootstrap.min.css set `[hidden] { display: none !important; }` so we also need the `!important` here to be able to override the default hidden behavior on the sphinx rendered scikit-learn.org. See: https://github.com/scikit-learn/scikit-learn/issues/21755 */display: inline-block !important;position: relative;}#sk-container-id-3 div.sk-text-repr-fallback {display: none;}</style><div id=\"sk-container-id-3\" class=\"sk-top-container\"><div class=\"sk-text-repr-fallback\"><pre>RandomForestClassifier(max_depth=80, max_features=None,\n",
       "                       min_samples_leaf=0.013275947799821042,\n",
       "                       min_samples_split=0.02243106610904931)</pre><b>In a Jupyter environment, please rerun this cell to show the HTML representation or trust the notebook. <br />On GitHub, the HTML representation is unable to render, please try loading this page with nbviewer.org.</b></div><div class=\"sk-container\" hidden><div class=\"sk-item\"><div class=\"sk-estimator sk-toggleable\"><input class=\"sk-toggleable__control sk-hidden--visually\" id=\"sk-estimator-id-3\" type=\"checkbox\" checked><label for=\"sk-estimator-id-3\" class=\"sk-toggleable__label sk-toggleable__label-arrow\">RandomForestClassifier</label><div class=\"sk-toggleable__content\"><pre>RandomForestClassifier(max_depth=80, max_features=None,\n",
       "                       min_samples_leaf=0.013275947799821042,\n",
       "                       min_samples_split=0.02243106610904931)</pre></div></div></div></div></div>"
      ],
      "text/plain": [
       "RandomForestClassifier(max_depth=80, max_features=None,\n",
       "                       min_samples_leaf=0.013275947799821042,\n",
       "                       min_samples_split=0.02243106610904931)"
      ]
     },
     "execution_count": 48,
     "metadata": {},
     "output_type": "execute_result"
    }
   ],
   "source": [
    "model_sex = RandomForestClassifier(min_samples_split = 0.02243106610904931, \n",
    "                                    min_samples_leaf = 0.013275947799821042, \n",
    "                                    max_features = None, \n",
    "                                    max_depth = 80,\n",
    "                                   criterion = 'gini'\n",
    "                                   )\n",
    "model_sex.fit(X_train_s,y_train_s)"
   ]
  },
  {
   "cell_type": "code",
   "execution_count": 49,
   "metadata": {},
   "outputs": [],
   "source": [
    "y_pred_rf_s = model_sex.predict(X_test_s)"
   ]
  },
  {
   "cell_type": "code",
   "execution_count": 50,
   "metadata": {},
   "outputs": [
    {
     "name": "stdout",
     "output_type": "stream",
     "text": [
      "              precision    recall  f1-score   support\n",
      "\n",
      "         0.0       0.99      0.66      0.79       312\n",
      "         1.0       0.75      0.99      0.85       312\n",
      "\n",
      "    accuracy                           0.83       624\n",
      "   macro avg       0.87      0.83      0.82       624\n",
      "weighted avg       0.87      0.83      0.82       624\n",
      "\n"
     ]
    }
   ],
   "source": [
    "print(classification_report(y_test_s, y_pred_rf_s))"
   ]
  },
  {
   "cell_type": "code",
   "execution_count": null,
   "metadata": {},
   "outputs": [],
   "source": []
  },
  {
   "cell_type": "code",
   "execution_count": 51,
   "metadata": {},
   "outputs": [],
   "source": [
    "accuracy_s = accuracy_score(y_test_s, y_pred_rf_s)\n",
    "f1_score_s = f1_score(y_test_s, y_pred_rf_s, average = 'weighted')"
   ]
  },
  {
   "cell_type": "code",
   "execution_count": null,
   "metadata": {},
   "outputs": [],
   "source": []
  },
  {
   "cell_type": "code",
   "execution_count": null,
   "metadata": {},
   "outputs": [],
   "source": []
  },
  {
   "cell_type": "code",
   "execution_count": 52,
   "metadata": {},
   "outputs": [
    {
     "data": {
      "image/png": "[encoded data removed]",
      "text/plain": [
       "<Figure size 432x288 with 1 Axes>"
      ]
     },
     "metadata": {},
     "output_type": "display_data"
    }
   ],
   "source": [
    "nbr_features = 10\n",
    "tree_feature_importances = model_sex.feature_importances_\n",
    "sorted_idx = tree_feature_importances.argsort()[-nbr_features:]\n",
    "y_ticks = np.arange(0, len(sorted_idx))\n",
    "fig, ax = plt.subplots()\n",
    "plt.barh(y_ticks, tree_feature_importances[sorted_idx])\n",
    "plt.yticks(y_ticks, np.array(df_train_model_s_fi.columns)[sorted_idx])\n",
    "plt.title(\"Random Forest Feature Importances\")\n",
    "plt.show()"
   ]
  },
  {
   "cell_type": "code",
   "execution_count": null,
   "metadata": {},
   "outputs": [],
   "source": []
  },
  {
   "cell_type": "code",
   "execution_count": 78,
   "metadata": {},
   "outputs": [
    {
     "name": "stdout",
     "output_type": "stream",
     "text": [
      "Feature: stft_q01_w2, Importance: 0.024113982231367587\n",
      "Feature: stft_q05, Importance: 0.02419864039292833\n",
      "Feature: mfcc_mean_w3, Importance: 0.024354767220603913\n",
      "Feature: mfcc_sum_w3, Importance: 0.02438964764533788\n",
      "Feature: mfcc_q99, Importance: 0.025100682871504566\n",
      "Feature: stft_q05_w2, Importance: 0.026568823628983846\n",
      "Feature: sc_max_w2, Importance: 0.027346280715680005\n",
      "Feature: stft_min_w3, Importance: 0.06759019576379542\n",
      "Feature: mfcc_mean_w2, Importance: 0.07282658742228648\n",
      "Feature: stft_q01_w3, Importance: 0.6034928925042794\n"
     ]
    }
   ],
   "source": [
    "imps_s, vars_s = feature_importance(model_sex, df_train_model_s_fi)"
   ]
  },
  {
   "cell_type": "code",
   "execution_count": 55,
   "metadata": {},
   "outputs": [],
   "source": [
    "X_train_s_fi = np.array(df_train_model_s_fi[vars_s])\n",
    "X_test_s_fi = np.array(df_test_model_s_fi[vars_s])"
   ]
  },
  {
   "cell_type": "code",
   "execution_count": 56,
   "metadata": {},
   "outputs": [
    {
     "name": "stdout",
     "output_type": "stream",
     "text": [
      "Fitting 3 folds for each of 100 candidates, totalling 300 fits\n"
     ]
    }
   ],
   "source": [
    "randomforest_sex_fi = random_forest(X_train_s_fi, y_train_s)"
   ]
  },
  {
   "cell_type": "code",
   "execution_count": 57,
   "metadata": {},
   "outputs": [
    {
     "name": "stdout",
     "output_type": "stream",
     "text": [
      "Tuned Random Forest Parameters after Feature Importance: {'criterion': 'gini', 'max_depth': 89, 'max_features': 'log2', 'min_samples_leaf': 0.0060756113178670685, 'min_samples_split': 0.022739550148113703}\n"
     ]
    }
   ],
   "source": [
    "print(\"Tuned Random Forest Parameters after Feature Importance: {}\".format(randomforest_sex_fi.best_params_))\n",
    "\n",
    "\n"
   ]
  },
  {
   "cell_type": "code",
   "execution_count": 58,
   "metadata": {},
   "outputs": [
    {
     "data": {
      "text/html": [
       "<style>#sk-container-id-4 {color: black;background-color: white;}#sk-container-id-4 pre{padding: 0;}#sk-container-id-4 div.sk-toggleable {background-color: white;}#sk-container-id-4 label.sk-toggleable__label {cursor: pointer;display: block;width: 100%;margin-bottom: 0;padding: 0.3em;box-sizing: border-box;text-align: center;}#sk-container-id-4 label.sk-toggleable__label-arrow:before {content: \"▸\";float: left;margin-right: 0.25em;color: #696969;}#sk-container-id-4 label.sk-toggleable__label-arrow:hover:before {color: black;}#sk-container-id-4 div.sk-estimator:hover label.sk-toggleable__label-arrow:before {color: black;}#sk-container-id-4 div.sk-toggleable__content {max-height: 0;max-width: 0;overflow: hidden;text-align: left;background-color: #f0f8ff;}#sk-container-id-4 div.sk-toggleable__content pre {margin: 0.2em;color: black;border-radius: 0.25em;background-color: #f0f8ff;}#sk-container-id-4 input.sk-toggleable__control:checked~div.sk-toggleable__content {max-height: 200px;max-width: 100%;overflow: auto;}#sk-container-id-4 input.sk-toggleable__control:checked~label.sk-toggleable__label-arrow:before {content: \"▾\";}#sk-container-id-4 div.sk-estimator input.sk-toggleable__control:checked~label.sk-toggleable__label {background-color: #d4ebff;}#sk-container-id-4 div.sk-label input.sk-toggleable__control:checked~label.sk-toggleable__label {background-color: #d4ebff;}#sk-container-id-4 input.sk-hidden--visually {border: 0;clip: rect(1px 1px 1px 1px);clip: rect(1px, 1px, 1px, 1px);height: 1px;margin: -1px;overflow: hidden;padding: 0;position: absolute;width: 1px;}#sk-container-id-4 div.sk-estimator {font-family: monospace;background-color: #f0f8ff;border: 1px dotted black;border-radius: 0.25em;box-sizing: border-box;margin-bottom: 0.5em;}#sk-container-id-4 div.sk-estimator:hover {background-color: #d4ebff;}#sk-container-id-4 div.sk-parallel-item::after {content: \"\";width: 100%;border-bottom: 1px solid gray;flex-grow: 1;}#sk-container-id-4 div.sk-label:hover label.sk-toggleable__label {background-color: #d4ebff;}#sk-container-id-4 div.sk-serial::before {content: \"\";position: absolute;border-left: 1px solid gray;box-sizing: border-box;top: 0;bottom: 0;left: 50%;z-index: 0;}#sk-container-id-4 div.sk-serial {display: flex;flex-direction: column;align-items: center;background-color: white;padding-right: 0.2em;padding-left: 0.2em;position: relative;}#sk-container-id-4 div.sk-item {position: relative;z-index: 1;}#sk-container-id-4 div.sk-parallel {display: flex;align-items: stretch;justify-content: center;background-color: white;position: relative;}#sk-container-id-4 div.sk-item::before, #sk-container-id-4 div.sk-parallel-item::before {content: \"\";position: absolute;border-left: 1px solid gray;box-sizing: border-box;top: 0;bottom: 0;left: 50%;z-index: -1;}#sk-container-id-4 div.sk-parallel-item {display: flex;flex-direction: column;z-index: 1;position: relative;background-color: white;}#sk-container-id-4 div.sk-parallel-item:first-child::after {align-self: flex-end;width: 50%;}#sk-container-id-4 div.sk-parallel-item:last-child::after {align-self: flex-start;width: 50%;}#sk-container-id-4 div.sk-parallel-item:only-child::after {width: 0;}#sk-container-id-4 div.sk-dashed-wrapped {border: 1px dashed gray;margin: 0 0.4em 0.5em 0.4em;box-sizing: border-box;padding-bottom: 0.4em;background-color: white;}#sk-container-id-4 div.sk-label label {font-family: monospace;font-weight: bold;display: inline-block;line-height: 1.2em;}#sk-container-id-4 div.sk-label-container {text-align: center;}#sk-container-id-4 div.sk-container {/* jupyter's `normalize.less` sets `[hidden] { display: none; }` but bootstrap.min.css set `[hidden] { display: none !important; }` so we also need the `!important` here to be able to override the default hidden behavior on the sphinx rendered scikit-learn.org. See: https://github.com/scikit-learn/scikit-learn/issues/21755 */display: inline-block !important;position: relative;}#sk-container-id-4 div.sk-text-repr-fallback {display: none;}</style><div id=\"sk-container-id-4\" class=\"sk-top-container\"><div class=\"sk-text-repr-fallback\"><pre>RandomForestClassifier(max_depth=89, max_features=&#x27;log2&#x27;,\n",
       "                       min_samples_leaf=0.0060756113178670685,\n",
       "                       min_samples_split=0.022739550148113703)</pre><b>In a Jupyter environment, please rerun this cell to show the HTML representation or trust the notebook. <br />On GitHub, the HTML representation is unable to render, please try loading this page with nbviewer.org.</b></div><div class=\"sk-container\" hidden><div class=\"sk-item\"><div class=\"sk-estimator sk-toggleable\"><input class=\"sk-toggleable__control sk-hidden--visually\" id=\"sk-estimator-id-4\" type=\"checkbox\" checked><label for=\"sk-estimator-id-4\" class=\"sk-toggleable__label sk-toggleable__label-arrow\">RandomForestClassifier</label><div class=\"sk-toggleable__content\"><pre>RandomForestClassifier(max_depth=89, max_features=&#x27;log2&#x27;,\n",
       "                       min_samples_leaf=0.0060756113178670685,\n",
       "                       min_samples_split=0.022739550148113703)</pre></div></div></div></div></div>"
      ],
      "text/plain": [
       "RandomForestClassifier(max_depth=89, max_features='log2',\n",
       "                       min_samples_leaf=0.0060756113178670685,\n",
       "                       min_samples_split=0.022739550148113703)"
      ]
     },
     "execution_count": 58,
     "metadata": {},
     "output_type": "execute_result"
    }
   ],
   "source": [
    "model_sex_fi = RandomForestClassifier(min_samples_split = 0.022739550148113703, \n",
    "                                    min_samples_leaf = 0.0060756113178670685, \n",
    "                                    max_features = 'log2', \n",
    "                                    max_depth = 89, \n",
    "                                    criterion = 'gini'\n",
    "                                    )\n",
    "model_sex_fi.fit(X_train_s_fi,y_train_s)"
   ]
  },
  {
   "cell_type": "code",
   "execution_count": 59,
   "metadata": {},
   "outputs": [],
   "source": [
    "y_pred_rf_s_fi = model_sex_fi.predict(X_test_s_fi)"
   ]
  },
  {
   "cell_type": "code",
   "execution_count": 60,
   "metadata": {},
   "outputs": [
    {
     "name": "stdout",
     "output_type": "stream",
     "text": [
      "              precision    recall  f1-score   support\n",
      "\n",
      "         0.0       0.99      0.73      0.84       312\n",
      "         1.0       0.79      0.99      0.88       312\n",
      "\n",
      "    accuracy                           0.86       624\n",
      "   macro avg       0.89      0.86      0.86       624\n",
      "weighted avg       0.89      0.86      0.86       624\n",
      "\n"
     ]
    }
   ],
   "source": [
    "print(classification_report(y_test_s, y_pred_rf_s_fi))"
   ]
  },
  {
   "cell_type": "code",
   "execution_count": null,
   "metadata": {},
   "outputs": [],
   "source": []
  },
  {
   "cell_type": "code",
   "execution_count": null,
   "metadata": {},
   "outputs": [],
   "source": []
  },
  {
   "cell_type": "markdown",
   "metadata": {},
   "source": [
    "## Emotional Intensity"
   ]
  },
  {
   "cell_type": "code",
   "execution_count": 61,
   "metadata": {},
   "outputs": [],
   "source": [
    "df_train_model_ei = df_train.copy()"
   ]
  },
  {
   "cell_type": "code",
   "execution_count": 62,
   "metadata": {},
   "outputs": [],
   "source": [
    "df_test_model_ei = df_test.copy()"
   ]
  },
  {
   "cell_type": "code",
   "execution_count": null,
   "metadata": {},
   "outputs": [],
   "source": []
  },
  {
   "cell_type": "code",
   "execution_count": 63,
   "metadata": {},
   "outputs": [],
   "source": [
    "label_encoder = preprocessing.LabelEncoder()\n",
    "df_train_model_ei_fi = df_train_model_ei.drop(\"emotional_intensity\", axis=1)\n",
    "df_train_model_ei_fi = pd.get_dummies(df_train_model_ei_fi)\n",
    "df_train_model_ei_fi[\"emotional_intensity\"] = df_train[\"emotional_intensity\"]\n",
    "df_train_model_ei_fi[\"emotional_intensity\"] = label_encoder.fit_transform(df_train_model_ei_fi['emotional_intensity'])"
   ]
  },
  {
   "cell_type": "code",
   "execution_count": 64,
   "metadata": {},
   "outputs": [],
   "source": [
    "label_encoder = preprocessing.LabelEncoder()\n",
    "df_test_model_ei_fi = df_test_model_ei.drop(\"emotional_intensity\", axis=1)\n",
    "df_test_model_ei_fi = pd.get_dummies(df_test_model_ei_fi)\n",
    "df_test_model_ei_fi[\"emotional_intensity\"] = df_test[\"emotional_intensity\"]\n",
    "df_test_model_ei_fi[\"emotional_intensity\"] = label_encoder.fit_transform(df_test_model_ei_fi['emotional_intensity'])"
   ]
  },
  {
   "cell_type": "code",
   "execution_count": null,
   "metadata": {},
   "outputs": [],
   "source": []
  },
  {
   "cell_type": "code",
   "execution_count": null,
   "metadata": {},
   "outputs": [],
   "source": []
  },
  {
   "cell_type": "code",
   "execution_count": 65,
   "metadata": {},
   "outputs": [],
   "source": [
    "X_train_ei = df_train_model_ei.drop(\"emotional_intensity\", axis=1)\n",
    "X_train_ei = np.array(pd.get_dummies(X_train_ei))\n",
    "y_train_ei = label_Encoder(df_train_model_ei[\"emotional_intensity\"], 'normal')"
   ]
  },
  {
   "cell_type": "code",
   "execution_count": 66,
   "metadata": {},
   "outputs": [
    {
     "data": {
      "text/plain": [
       "(1828, 392)"
      ]
     },
     "execution_count": 66,
     "metadata": {},
     "output_type": "execute_result"
    }
   ],
   "source": [
    "X_train_ei.shape"
   ]
  },
  {
   "cell_type": "code",
   "execution_count": 67,
   "metadata": {},
   "outputs": [],
   "source": [
    "X_test_ei = df_test_model_ei.drop(\"emotional_intensity\", axis=1)\n",
    "X_test_ei = np.array(pd.get_dummies(X_test_ei))\n",
    "y_test_ei = label_Encoder(df_test_model_ei[\"emotional_intensity\"], 'normal')"
   ]
  },
  {
   "cell_type": "code",
   "execution_count": null,
   "metadata": {},
   "outputs": [],
   "source": []
  },
  {
   "cell_type": "code",
   "execution_count": 68,
   "metadata": {},
   "outputs": [
    {
     "name": "stdout",
     "output_type": "stream",
     "text": [
      "Fitting 3 folds for each of 100 candidates, totalling 300 fits\n"
     ]
    }
   ],
   "source": [
    "randomforest_emotional_intensity = random_forest(X_train_ei, y_train_ei)"
   ]
  },
  {
   "cell_type": "code",
   "execution_count": 69,
   "metadata": {},
   "outputs": [
    {
     "name": "stdout",
     "output_type": "stream",
     "text": [
      "Tuned Random Forest Parameters: {'criterion': 'entropy', 'max_depth': 132, 'max_features': None, 'min_samples_leaf': 0.02905679491363522, 'min_samples_split': 0.02950147423971248}\n"
     ]
    }
   ],
   "source": [
    "print(\"Tuned Random Forest Parameters: {}\".format(randomforest_emotional_intensity.best_params_))"
   ]
  },
  {
   "cell_type": "code",
   "execution_count": 70,
   "metadata": {},
   "outputs": [
    {
     "data": {
      "text/html": [
       "<style>#sk-container-id-5 {color: black;background-color: white;}#sk-container-id-5 pre{padding: 0;}#sk-container-id-5 div.sk-toggleable {background-color: white;}#sk-container-id-5 label.sk-toggleable__label {cursor: pointer;display: block;width: 100%;margin-bottom: 0;padding: 0.3em;box-sizing: border-box;text-align: center;}#sk-container-id-5 label.sk-toggleable__label-arrow:before {content: \"▸\";float: left;margin-right: 0.25em;color: #696969;}#sk-container-id-5 label.sk-toggleable__label-arrow:hover:before {color: black;}#sk-container-id-5 div.sk-estimator:hover label.sk-toggleable__label-arrow:before {color: black;}#sk-container-id-5 div.sk-toggleable__content {max-height: 0;max-width: 0;overflow: hidden;text-align: left;background-color: #f0f8ff;}#sk-container-id-5 div.sk-toggleable__content pre {margin: 0.2em;color: black;border-radius: 0.25em;background-color: #f0f8ff;}#sk-container-id-5 input.sk-toggleable__control:checked~div.sk-toggleable__content {max-height: 200px;max-width: 100%;overflow: auto;}#sk-container-id-5 input.sk-toggleable__control:checked~label.sk-toggleable__label-arrow:before {content: \"▾\";}#sk-container-id-5 div.sk-estimator input.sk-toggleable__control:checked~label.sk-toggleable__label {background-color: #d4ebff;}#sk-container-id-5 div.sk-label input.sk-toggleable__control:checked~label.sk-toggleable__label {background-color: #d4ebff;}#sk-container-id-5 input.sk-hidden--visually {border: 0;clip: rect(1px 1px 1px 1px);clip: rect(1px, 1px, 1px, 1px);height: 1px;margin: -1px;overflow: hidden;padding: 0;position: absolute;width: 1px;}#sk-container-id-5 div.sk-estimator {font-family: monospace;background-color: #f0f8ff;border: 1px dotted black;border-radius: 0.25em;box-sizing: border-box;margin-bottom: 0.5em;}#sk-container-id-5 div.sk-estimator:hover {background-color: #d4ebff;}#sk-container-id-5 div.sk-parallel-item::after {content: \"\";width: 100%;border-bottom: 1px solid gray;flex-grow: 1;}#sk-container-id-5 div.sk-label:hover label.sk-toggleable__label {background-color: #d4ebff;}#sk-container-id-5 div.sk-serial::before {content: \"\";position: absolute;border-left: 1px solid gray;box-sizing: border-box;top: 0;bottom: 0;left: 50%;z-index: 0;}#sk-container-id-5 div.sk-serial {display: flex;flex-direction: column;align-items: center;background-color: white;padding-right: 0.2em;padding-left: 0.2em;position: relative;}#sk-container-id-5 div.sk-item {position: relative;z-index: 1;}#sk-container-id-5 div.sk-parallel {display: flex;align-items: stretch;justify-content: center;background-color: white;position: relative;}#sk-container-id-5 div.sk-item::before, #sk-container-id-5 div.sk-parallel-item::before {content: \"\";position: absolute;border-left: 1px solid gray;box-sizing: border-box;top: 0;bottom: 0;left: 50%;z-index: -1;}#sk-container-id-5 div.sk-parallel-item {display: flex;flex-direction: column;z-index: 1;position: relative;background-color: white;}#sk-container-id-5 div.sk-parallel-item:first-child::after {align-self: flex-end;width: 50%;}#sk-container-id-5 div.sk-parallel-item:last-child::after {align-self: flex-start;width: 50%;}#sk-container-id-5 div.sk-parallel-item:only-child::after {width: 0;}#sk-container-id-5 div.sk-dashed-wrapped {border: 1px dashed gray;margin: 0 0.4em 0.5em 0.4em;box-sizing: border-box;padding-bottom: 0.4em;background-color: white;}#sk-container-id-5 div.sk-label label {font-family: monospace;font-weight: bold;display: inline-block;line-height: 1.2em;}#sk-container-id-5 div.sk-label-container {text-align: center;}#sk-container-id-5 div.sk-container {/* jupyter's `normalize.less` sets `[hidden] { display: none; }` but bootstrap.min.css set `[hidden] { display: none !important; }` so we also need the `!important` here to be able to override the default hidden behavior on the sphinx rendered scikit-learn.org. See: https://github.com/scikit-learn/scikit-learn/issues/21755 */display: inline-block !important;position: relative;}#sk-container-id-5 div.sk-text-repr-fallback {display: none;}</style><div id=\"sk-container-id-5\" class=\"sk-top-container\"><div class=\"sk-text-repr-fallback\"><pre>RandomForestClassifier(criterion=&#x27;entropy&#x27;, max_depth=132, max_features=None,\n",
       "                       min_samples_leaf=0.02905679491363522,\n",
       "                       min_samples_split=0.02950147423971248)</pre><b>In a Jupyter environment, please rerun this cell to show the HTML representation or trust the notebook. <br />On GitHub, the HTML representation is unable to render, please try loading this page with nbviewer.org.</b></div><div class=\"sk-container\" hidden><div class=\"sk-item\"><div class=\"sk-estimator sk-toggleable\"><input class=\"sk-toggleable__control sk-hidden--visually\" id=\"sk-estimator-id-5\" type=\"checkbox\" checked><label for=\"sk-estimator-id-5\" class=\"sk-toggleable__label sk-toggleable__label-arrow\">RandomForestClassifier</label><div class=\"sk-toggleable__content\"><pre>RandomForestClassifier(criterion=&#x27;entropy&#x27;, max_depth=132, max_features=None,\n",
       "                       min_samples_leaf=0.02905679491363522,\n",
       "                       min_samples_split=0.02950147423971248)</pre></div></div></div></div></div>"
      ],
      "text/plain": [
       "RandomForestClassifier(criterion='entropy', max_depth=132, max_features=None,\n",
       "                       min_samples_leaf=0.02905679491363522,\n",
       "                       min_samples_split=0.02950147423971248)"
      ]
     },
     "execution_count": 70,
     "metadata": {},
     "output_type": "execute_result"
    }
   ],
   "source": [
    "model_emotional_intensity = RandomForestClassifier(min_samples_split = 0.02950147423971248, \n",
    "                                    min_samples_leaf = 0.02905679491363522, \n",
    "                                    max_features = None, \n",
    "                                    max_depth = 132,\n",
    "                                    criterion = 'entropy'\n",
    "                                   )\n",
    "model_emotional_intensity.fit(X_train_ei,y_train_ei)"
   ]
  },
  {
   "cell_type": "code",
   "execution_count": 71,
   "metadata": {},
   "outputs": [],
   "source": [
    "y_pred_rf_ei = model_emotional_intensity.predict(X_test_ei)"
   ]
  },
  {
   "cell_type": "code",
   "execution_count": 72,
   "metadata": {},
   "outputs": [
    {
     "name": "stdout",
     "output_type": "stream",
     "text": [
      "              precision    recall  f1-score   support\n",
      "\n",
      "         0.0       0.71      0.72      0.71       288\n",
      "         1.0       0.76      0.74      0.75       336\n",
      "\n",
      "    accuracy                           0.73       624\n",
      "   macro avg       0.73      0.73      0.73       624\n",
      "weighted avg       0.73      0.73      0.73       624\n",
      "\n"
     ]
    }
   ],
   "source": [
    "print(classification_report(y_test_ei, y_pred_rf_ei))"
   ]
  },
  {
   "cell_type": "code",
   "execution_count": null,
   "metadata": {},
   "outputs": [],
   "source": []
  },
  {
   "cell_type": "code",
   "execution_count": 73,
   "metadata": {},
   "outputs": [],
   "source": [
    "accuracy_ei = accuracy_score(y_test_ei, y_pred_rf_ei)\n",
    "f1_score_ei = f1_score(y_test_ei, y_pred_rf_ei, average = 'weighted')"
   ]
  },
  {
   "cell_type": "code",
   "execution_count": null,
   "metadata": {},
   "outputs": [],
   "source": []
  },
  {
   "cell_type": "code",
   "execution_count": null,
   "metadata": {},
   "outputs": [],
   "source": []
  },
  {
   "cell_type": "code",
   "execution_count": 74,
   "metadata": {},
   "outputs": [
    {
     "data": {
      "image/png": "[encoded data removed]",
      "text/plain": [
       "<Figure size 432x288 with 1 Axes>"
      ]
     },
     "metadata": {},
     "output_type": "display_data"
    }
   ],
   "source": [
    "nbr_features = 10\n",
    "tree_feature_importances = model_emotional_intensity.feature_importances_\n",
    "sorted_idx = tree_feature_importances.argsort()[-nbr_features:]\n",
    "y_ticks = np.arange(0, len(sorted_idx))\n",
    "fig, ax = plt.subplots()\n",
    "plt.barh(y_ticks, tree_feature_importances[sorted_idx])\n",
    "plt.yticks(y_ticks, np.array(df_train_model_ei_fi.columns)[sorted_idx])\n",
    "plt.title(\"Random Forest Feature Importances\")\n",
    "plt.show()"
   ]
  },
  {
   "cell_type": "code",
   "execution_count": null,
   "metadata": {},
   "outputs": [],
   "source": []
  },
  {
   "cell_type": "code",
   "execution_count": 77,
   "metadata": {},
   "outputs": [
    {
     "name": "stdout",
     "output_type": "stream",
     "text": [
      "Feature: mfcc_kur, Importance: 0.017475607936111956\n",
      "Feature: min_w3, Importance: 0.020157966371677723\n",
      "Feature: sc_q50_w3, Importance: 0.027072521054046325\n",
      "Feature: max_w3, Importance: 0.02791083386090428\n",
      "Feature: min, Importance: 0.028430638489440278\n",
      "Feature: emotion_angry, Importance: 0.0552171307796946\n",
      "Feature: mfcc_std, Importance: 0.06427802530117219\n",
      "Feature: mfcc_min, Importance: 0.09442078897060764\n",
      "Feature: emotion_neutral, Importance: 0.11346992015327517\n",
      "Feature: max, Importance: 0.15435453184666342\n"
     ]
    }
   ],
   "source": [
    "imps_ei, vars_ei = feature_importance(model_emotional_intensity, df_train_model_ei_fi)"
   ]
  },
  {
   "cell_type": "code",
   "execution_count": 79,
   "metadata": {},
   "outputs": [],
   "source": [
    "X_train_ei_fi = np.array(df_train_model_ei_fi[vars_ei])\n",
    "X_test_ei_fi = np.array(df_test_model_ei_fi[vars_ei])"
   ]
  },
  {
   "cell_type": "code",
   "execution_count": 80,
   "metadata": {},
   "outputs": [
    {
     "name": "stdout",
     "output_type": "stream",
     "text": [
      "Fitting 3 folds for each of 100 candidates, totalling 300 fits\n"
     ]
    }
   ],
   "source": [
    "randomforest_emotional_intensity_fi = random_forest(X_train_ei_fi, y_train_ei)"
   ]
  },
  {
   "cell_type": "code",
   "execution_count": 81,
   "metadata": {},
   "outputs": [
    {
     "name": "stdout",
     "output_type": "stream",
     "text": [
      "Tuned Random Forest Parameters after Feature Importance: {'criterion': 'gini', 'max_depth': 149, 'max_features': None, 'min_samples_leaf': 0.014242437569569465, 'min_samples_split': 0.1520079123642632}\n"
     ]
    }
   ],
   "source": [
    "print(\"Tuned Random Forest Parameters after Feature Importance: {}\".format(randomforest_emotional_intensity_fi.best_params_))\n",
    "\n"
   ]
  },
  {
   "cell_type": "code",
   "execution_count": 82,
   "metadata": {},
   "outputs": [
    {
     "data": {
      "text/html": [
       "<style>#sk-container-id-6 {color: black;background-color: white;}#sk-container-id-6 pre{padding: 0;}#sk-container-id-6 div.sk-toggleable {background-color: white;}#sk-container-id-6 label.sk-toggleable__label {cursor: pointer;display: block;width: 100%;margin-bottom: 0;padding: 0.3em;box-sizing: border-box;text-align: center;}#sk-container-id-6 label.sk-toggleable__label-arrow:before {content: \"▸\";float: left;margin-right: 0.25em;color: #696969;}#sk-container-id-6 label.sk-toggleable__label-arrow:hover:before {color: black;}#sk-container-id-6 div.sk-estimator:hover label.sk-toggleable__label-arrow:before {color: black;}#sk-container-id-6 div.sk-toggleable__content {max-height: 0;max-width: 0;overflow: hidden;text-align: left;background-color: #f0f8ff;}#sk-container-id-6 div.sk-toggleable__content pre {margin: 0.2em;color: black;border-radius: 0.25em;background-color: #f0f8ff;}#sk-container-id-6 input.sk-toggleable__control:checked~div.sk-toggleable__content {max-height: 200px;max-width: 100%;overflow: auto;}#sk-container-id-6 input.sk-toggleable__control:checked~label.sk-toggleable__label-arrow:before {content: \"▾\";}#sk-container-id-6 div.sk-estimator input.sk-toggleable__control:checked~label.sk-toggleable__label {background-color: #d4ebff;}#sk-container-id-6 div.sk-label input.sk-toggleable__control:checked~label.sk-toggleable__label {background-color: #d4ebff;}#sk-container-id-6 input.sk-hidden--visually {border: 0;clip: rect(1px 1px 1px 1px);clip: rect(1px, 1px, 1px, 1px);height: 1px;margin: -1px;overflow: hidden;padding: 0;position: absolute;width: 1px;}#sk-container-id-6 div.sk-estimator {font-family: monospace;background-color: #f0f8ff;border: 1px dotted black;border-radius: 0.25em;box-sizing: border-box;margin-bottom: 0.5em;}#sk-container-id-6 div.sk-estimator:hover {background-color: #d4ebff;}#sk-container-id-6 div.sk-parallel-item::after {content: \"\";width: 100%;border-bottom: 1px solid gray;flex-grow: 1;}#sk-container-id-6 div.sk-label:hover label.sk-toggleable__label {background-color: #d4ebff;}#sk-container-id-6 div.sk-serial::before {content: \"\";position: absolute;border-left: 1px solid gray;box-sizing: border-box;top: 0;bottom: 0;left: 50%;z-index: 0;}#sk-container-id-6 div.sk-serial {display: flex;flex-direction: column;align-items: center;background-color: white;padding-right: 0.2em;padding-left: 0.2em;position: relative;}#sk-container-id-6 div.sk-item {position: relative;z-index: 1;}#sk-container-id-6 div.sk-parallel {display: flex;align-items: stretch;justify-content: center;background-color: white;position: relative;}#sk-container-id-6 div.sk-item::before, #sk-container-id-6 div.sk-parallel-item::before {content: \"\";position: absolute;border-left: 1px solid gray;box-sizing: border-box;top: 0;bottom: 0;left: 50%;z-index: -1;}#sk-container-id-6 div.sk-parallel-item {display: flex;flex-direction: column;z-index: 1;position: relative;background-color: white;}#sk-container-id-6 div.sk-parallel-item:first-child::after {align-self: flex-end;width: 50%;}#sk-container-id-6 div.sk-parallel-item:last-child::after {align-self: flex-start;width: 50%;}#sk-container-id-6 div.sk-parallel-item:only-child::after {width: 0;}#sk-container-id-6 div.sk-dashed-wrapped {border: 1px dashed gray;margin: 0 0.4em 0.5em 0.4em;box-sizing: border-box;padding-bottom: 0.4em;background-color: white;}#sk-container-id-6 div.sk-label label {font-family: monospace;font-weight: bold;display: inline-block;line-height: 1.2em;}#sk-container-id-6 div.sk-label-container {text-align: center;}#sk-container-id-6 div.sk-container {/* jupyter's `normalize.less` sets `[hidden] { display: none; }` but bootstrap.min.css set `[hidden] { display: none !important; }` so we also need the `!important` here to be able to override the default hidden behavior on the sphinx rendered scikit-learn.org. See: https://github.com/scikit-learn/scikit-learn/issues/21755 */display: inline-block !important;position: relative;}#sk-container-id-6 div.sk-text-repr-fallback {display: none;}</style><div id=\"sk-container-id-6\" class=\"sk-top-container\"><div class=\"sk-text-repr-fallback\"><pre>RandomForestClassifier(max_depth=149, max_features=None,\n",
       "                       min_samples_leaf=0.014242437569569465,\n",
       "                       min_samples_split=0.1520079123642632)</pre><b>In a Jupyter environment, please rerun this cell to show the HTML representation or trust the notebook. <br />On GitHub, the HTML representation is unable to render, please try loading this page with nbviewer.org.</b></div><div class=\"sk-container\" hidden><div class=\"sk-item\"><div class=\"sk-estimator sk-toggleable\"><input class=\"sk-toggleable__control sk-hidden--visually\" id=\"sk-estimator-id-6\" type=\"checkbox\" checked><label for=\"sk-estimator-id-6\" class=\"sk-toggleable__label sk-toggleable__label-arrow\">RandomForestClassifier</label><div class=\"sk-toggleable__content\"><pre>RandomForestClassifier(max_depth=149, max_features=None,\n",
       "                       min_samples_leaf=0.014242437569569465,\n",
       "                       min_samples_split=0.1520079123642632)</pre></div></div></div></div></div>"
      ],
      "text/plain": [
       "RandomForestClassifier(max_depth=149, max_features=None,\n",
       "                       min_samples_leaf=0.014242437569569465,\n",
       "                       min_samples_split=0.1520079123642632)"
      ]
     },
     "execution_count": 82,
     "metadata": {},
     "output_type": "execute_result"
    }
   ],
   "source": [
    "model_emotional_intensity_fi = RandomForestClassifier( \n",
    "                                    min_samples_split = 0.1520079123642632, \n",
    "                                    min_samples_leaf = 0.014242437569569465, \n",
    "                                    max_features = None, \n",
    "                                    max_depth = 149,\n",
    "                                    criterion = 'gini'\n",
    "                                    )\n",
    "model_emotional_intensity_fi.fit(X_train_ei_fi,y_train_ei)"
   ]
  },
  {
   "cell_type": "code",
   "execution_count": 83,
   "metadata": {},
   "outputs": [],
   "source": [
    "y_pred_rf_ei_fi = model_emotional_intensity_fi.predict(X_test_ei_fi)"
   ]
  },
  {
   "cell_type": "code",
   "execution_count": 84,
   "metadata": {},
   "outputs": [
    {
     "name": "stdout",
     "output_type": "stream",
     "text": [
      "              precision    recall  f1-score   support\n",
      "\n",
      "         0.0       0.64      0.75      0.69       288\n",
      "         1.0       0.74      0.63      0.68       336\n",
      "\n",
      "    accuracy                           0.69       624\n",
      "   macro avg       0.69      0.69      0.69       624\n",
      "weighted avg       0.69      0.69      0.69       624\n",
      "\n"
     ]
    }
   ],
   "source": [
    "print(classification_report(y_test_ei, y_pred_rf_ei_fi))"
   ]
  },
  {
   "cell_type": "code",
   "execution_count": null,
   "metadata": {},
   "outputs": [],
   "source": []
  },
  {
   "cell_type": "code",
   "execution_count": null,
   "metadata": {},
   "outputs": [],
   "source": []
  },
  {
   "cell_type": "markdown",
   "metadata": {},
   "source": [
    "## Emotion"
   ]
  },
  {
   "cell_type": "code",
   "execution_count": 85,
   "metadata": {},
   "outputs": [],
   "source": [
    "def label_encoder_e(array):\n",
    "    new_array = np.zeros(len(array))\n",
    "    for i in range(len(array)):\n",
    "        if array[i] == \"calm\":\n",
    "            new_array[i] = 1\n",
    "        elif array[i] == \"happy\":\n",
    "            new_array[i] = 2\n",
    "        elif array[i] == \"sad\":\n",
    "            new_array[i] = 3\n",
    "        elif array[i] == \"angry\":\n",
    "            new_array[i] = 4\n",
    "        elif array[i] == \"fearful\":\n",
    "            new_array[i] = 5\n",
    "        elif array[i] == \"disgust\":\n",
    "            new_array[i] = 6\n",
    "        elif array[i] == \"surprised\":\n",
    "            new_array[i] = 7\n",
    "    return new_array"
   ]
  },
  {
   "cell_type": "code",
   "execution_count": null,
   "metadata": {},
   "outputs": [],
   "source": []
  },
  {
   "cell_type": "code",
   "execution_count": 86,
   "metadata": {},
   "outputs": [],
   "source": [
    "df_train_model_e = df_train.copy()"
   ]
  },
  {
   "cell_type": "code",
   "execution_count": 87,
   "metadata": {},
   "outputs": [],
   "source": [
    "df_test_model_e = df_test.copy()"
   ]
  },
  {
   "cell_type": "code",
   "execution_count": null,
   "metadata": {},
   "outputs": [],
   "source": []
  },
  {
   "cell_type": "code",
   "execution_count": 88,
   "metadata": {},
   "outputs": [],
   "source": [
    "label_encoder = preprocessing.LabelEncoder()\n",
    "df_train_model_e_fi = df_train_model_e.drop(\"emotion\", axis=1)\n",
    "df_train_model_e_fi = pd.get_dummies(df_train_model_e_fi)\n",
    "df_train_model_e_fi[\"emotion\"] = df_train[\"emotion\"]\n",
    "df_train_model_e_fi[\"emotion\"] = label_encoder.fit_transform(df_train_model_e_fi['emotion'])"
   ]
  },
  {
   "cell_type": "code",
   "execution_count": null,
   "metadata": {},
   "outputs": [],
   "source": []
  },
  {
   "cell_type": "code",
   "execution_count": 89,
   "metadata": {},
   "outputs": [],
   "source": [
    "label_encoder = preprocessing.LabelEncoder()\n",
    "df_test_model_e_fi = df_test_model_e.drop(\"emotion\", axis=1)\n",
    "df_test_model_e_fi = pd.get_dummies(df_test_model_e_fi)\n",
    "df_test_model_e_fi[\"emotion\"] = df_test[\"emotion\"]\n",
    "df_test_model_e_fi[\"emotion\"] = label_encoder.fit_transform(df_test_model_e_fi['emotion'])"
   ]
  },
  {
   "cell_type": "code",
   "execution_count": null,
   "metadata": {},
   "outputs": [],
   "source": []
  },
  {
   "cell_type": "code",
   "execution_count": 90,
   "metadata": {},
   "outputs": [],
   "source": [
    "X_train_e = df_train_model_e.drop(\"emotion\", axis=1)\n",
    "X_train_e = np.array(pd.get_dummies(X_train_e))\n",
    "y_train_e = label_encoder_e(df_train_model_e[\"emotion\"])"
   ]
  },
  {
   "cell_type": "code",
   "execution_count": null,
   "metadata": {},
   "outputs": [],
   "source": []
  },
  {
   "cell_type": "code",
   "execution_count": 91,
   "metadata": {},
   "outputs": [],
   "source": [
    "X_test_e = df_test_model_e.drop(\"emotion\", axis=1)\n",
    "X_test_e = np.array(pd.get_dummies(X_test_e))\n",
    "y_test_e = label_encoder_e(df_test_model_ei[\"emotion\"])"
   ]
  },
  {
   "cell_type": "code",
   "execution_count": null,
   "metadata": {},
   "outputs": [],
   "source": []
  },
  {
   "cell_type": "code",
   "execution_count": 92,
   "metadata": {},
   "outputs": [
    {
     "name": "stdout",
     "output_type": "stream",
     "text": [
      "Fitting 3 folds for each of 100 candidates, totalling 300 fits\n"
     ]
    }
   ],
   "source": [
    "randomforest_emotion = random_forest(X_train_e, y_train_e)"
   ]
  },
  {
   "cell_type": "code",
   "execution_count": 93,
   "metadata": {},
   "outputs": [
    {
     "name": "stdout",
     "output_type": "stream",
     "text": [
      "Tuned Random Forest Parameters: {'criterion': 'entropy', 'max_depth': 61, 'max_features': 'sqrt', 'min_samples_leaf': 0.005694892821722552, 'min_samples_split': 0.02164909201255923}\n"
     ]
    }
   ],
   "source": [
    "print(\"Tuned Random Forest Parameters: {}\".format(randomforest_emotion.best_params_))"
   ]
  },
  {
   "cell_type": "code",
   "execution_count": 94,
   "metadata": {},
   "outputs": [
    {
     "data": {
      "text/html": [
       "<style>#sk-container-id-7 {color: black;background-color: white;}#sk-container-id-7 pre{padding: 0;}#sk-container-id-7 div.sk-toggleable {background-color: white;}#sk-container-id-7 label.sk-toggleable__label {cursor: pointer;display: block;width: 100%;margin-bottom: 0;padding: 0.3em;box-sizing: border-box;text-align: center;}#sk-container-id-7 label.sk-toggleable__label-arrow:before {content: \"▸\";float: left;margin-right: 0.25em;color: #696969;}#sk-container-id-7 label.sk-toggleable__label-arrow:hover:before {color: black;}#sk-container-id-7 div.sk-estimator:hover label.sk-toggleable__label-arrow:before {color: black;}#sk-container-id-7 div.sk-toggleable__content {max-height: 0;max-width: 0;overflow: hidden;text-align: left;background-color: #f0f8ff;}#sk-container-id-7 div.sk-toggleable__content pre {margin: 0.2em;color: black;border-radius: 0.25em;background-color: #f0f8ff;}#sk-container-id-7 input.sk-toggleable__control:checked~div.sk-toggleable__content {max-height: 200px;max-width: 100%;overflow: auto;}#sk-container-id-7 input.sk-toggleable__control:checked~label.sk-toggleable__label-arrow:before {content: \"▾\";}#sk-container-id-7 div.sk-estimator input.sk-toggleable__control:checked~label.sk-toggleable__label {background-color: #d4ebff;}#sk-container-id-7 div.sk-label input.sk-toggleable__control:checked~label.sk-toggleable__label {background-color: #d4ebff;}#sk-container-id-7 input.sk-hidden--visually {border: 0;clip: rect(1px 1px 1px 1px);clip: rect(1px, 1px, 1px, 1px);height: 1px;margin: -1px;overflow: hidden;padding: 0;position: absolute;width: 1px;}#sk-container-id-7 div.sk-estimator {font-family: monospace;background-color: #f0f8ff;border: 1px dotted black;border-radius: 0.25em;box-sizing: border-box;margin-bottom: 0.5em;}#sk-container-id-7 div.sk-estimator:hover {background-color: #d4ebff;}#sk-container-id-7 div.sk-parallel-item::after {content: \"\";width: 100%;border-bottom: 1px solid gray;flex-grow: 1;}#sk-container-id-7 div.sk-label:hover label.sk-toggleable__label {background-color: #d4ebff;}#sk-container-id-7 div.sk-serial::before {content: \"\";position: absolute;border-left: 1px solid gray;box-sizing: border-box;top: 0;bottom: 0;left: 50%;z-index: 0;}#sk-container-id-7 div.sk-serial {display: flex;flex-direction: column;align-items: center;background-color: white;padding-right: 0.2em;padding-left: 0.2em;position: relative;}#sk-container-id-7 div.sk-item {position: relative;z-index: 1;}#sk-container-id-7 div.sk-parallel {display: flex;align-items: stretch;justify-content: center;background-color: white;position: relative;}#sk-container-id-7 div.sk-item::before, #sk-container-id-7 div.sk-parallel-item::before {content: \"\";position: absolute;border-left: 1px solid gray;box-sizing: border-box;top: 0;bottom: 0;left: 50%;z-index: -1;}#sk-container-id-7 div.sk-parallel-item {display: flex;flex-direction: column;z-index: 1;position: relative;background-color: white;}#sk-container-id-7 div.sk-parallel-item:first-child::after {align-self: flex-end;width: 50%;}#sk-container-id-7 div.sk-parallel-item:last-child::after {align-self: flex-start;width: 50%;}#sk-container-id-7 div.sk-parallel-item:only-child::after {width: 0;}#sk-container-id-7 div.sk-dashed-wrapped {border: 1px dashed gray;margin: 0 0.4em 0.5em 0.4em;box-sizing: border-box;padding-bottom: 0.4em;background-color: white;}#sk-container-id-7 div.sk-label label {font-family: monospace;font-weight: bold;display: inline-block;line-height: 1.2em;}#sk-container-id-7 div.sk-label-container {text-align: center;}#sk-container-id-7 div.sk-container {/* jupyter's `normalize.less` sets `[hidden] { display: none; }` but bootstrap.min.css set `[hidden] { display: none !important; }` so we also need the `!important` here to be able to override the default hidden behavior on the sphinx rendered scikit-learn.org. See: https://github.com/scikit-learn/scikit-learn/issues/21755 */display: inline-block !important;position: relative;}#sk-container-id-7 div.sk-text-repr-fallback {display: none;}</style><div id=\"sk-container-id-7\" class=\"sk-top-container\"><div class=\"sk-text-repr-fallback\"><pre>RandomForestClassifier(criterion=&#x27;entropy&#x27;, max_depth=61,\n",
       "                       min_samples_leaf=0.005694892821722552,\n",
       "                       min_samples_split=0.02164909201255923)</pre><b>In a Jupyter environment, please rerun this cell to show the HTML representation or trust the notebook. <br />On GitHub, the HTML representation is unable to render, please try loading this page with nbviewer.org.</b></div><div class=\"sk-container\" hidden><div class=\"sk-item\"><div class=\"sk-estimator sk-toggleable\"><input class=\"sk-toggleable__control sk-hidden--visually\" id=\"sk-estimator-id-7\" type=\"checkbox\" checked><label for=\"sk-estimator-id-7\" class=\"sk-toggleable__label sk-toggleable__label-arrow\">RandomForestClassifier</label><div class=\"sk-toggleable__content\"><pre>RandomForestClassifier(criterion=&#x27;entropy&#x27;, max_depth=61,\n",
       "                       min_samples_leaf=0.005694892821722552,\n",
       "                       min_samples_split=0.02164909201255923)</pre></div></div></div></div></div>"
      ],
      "text/plain": [
       "RandomForestClassifier(criterion='entropy', max_depth=61,\n",
       "                       min_samples_leaf=0.005694892821722552,\n",
       "                       min_samples_split=0.02164909201255923)"
      ]
     },
     "execution_count": 94,
     "metadata": {},
     "output_type": "execute_result"
    }
   ],
   "source": [
    "model_emotion = RandomForestClassifier(min_samples_split = 0.02164909201255923, \n",
    "                                    min_samples_leaf = 0.005694892821722552, \n",
    "                                    max_features = 'sqrt', \n",
    "                                    max_depth = 61,\n",
    "                                    criterion = 'entropy'  \n",
    "                                    )\n",
    "model_emotion.fit(X_train_e,y_train_e)"
   ]
  },
  {
   "cell_type": "code",
   "execution_count": 95,
   "metadata": {},
   "outputs": [],
   "source": [
    "y_pred_rf_e = model_emotion.predict(X_test_e)"
   ]
  },
  {
   "cell_type": "code",
   "execution_count": 96,
   "metadata": {},
   "outputs": [
    {
     "name": "stdout",
     "output_type": "stream",
     "text": [
      "              precision    recall  f1-score   support\n",
      "\n",
      "         0.0       0.53      0.19      0.28        48\n",
      "         1.0       0.45      0.73      0.56        96\n",
      "         2.0       0.34      0.36      0.35        96\n",
      "         3.0       0.19      0.06      0.09        96\n",
      "         4.0       0.42      0.81      0.56        96\n",
      "         5.0       0.58      0.23      0.33        96\n",
      "         6.0       0.48      0.42      0.44        48\n",
      "         7.0       0.40      0.44      0.42        48\n",
      "\n",
      "    accuracy                           0.42       624\n",
      "   macro avg       0.42      0.40      0.38       624\n",
      "weighted avg       0.41      0.42      0.38       624\n",
      "\n"
     ]
    }
   ],
   "source": [
    "print(classification_report(y_test_e, y_pred_rf_e))"
   ]
  },
  {
   "cell_type": "code",
   "execution_count": null,
   "metadata": {},
   "outputs": [],
   "source": []
  },
  {
   "cell_type": "code",
   "execution_count": 97,
   "metadata": {},
   "outputs": [],
   "source": [
    "accuracy_e = accuracy_score(y_test_e, y_pred_rf_e)\n",
    "f1_score_e = f1_score(y_test_e, y_pred_rf_e, average = 'weighted')"
   ]
  },
  {
   "cell_type": "code",
   "execution_count": null,
   "metadata": {},
   "outputs": [],
   "source": []
  },
  {
   "cell_type": "code",
   "execution_count": null,
   "metadata": {},
   "outputs": [],
   "source": []
  },
  {
   "cell_type": "code",
   "execution_count": 98,
   "metadata": {},
   "outputs": [
    {
     "data": {
      "image/png": "[encoded data removed]",
      "text/plain": [
       "<Figure size 432x288 with 1 Axes>"
      ]
     },
     "metadata": {},
     "output_type": "display_data"
    }
   ],
   "source": [
    "nbr_features = 10\n",
    "tree_feature_importances = model_emotion.feature_importances_\n",
    "sorted_idx = tree_feature_importances.argsort()[-nbr_features:]\n",
    "y_ticks = np.arange(0, len(sorted_idx))\n",
    "fig, ax = plt.subplots()\n",
    "plt.barh(y_ticks, tree_feature_importances[sorted_idx])\n",
    "plt.yticks(y_ticks, np.array(df_train_model_e_fi.columns)[sorted_idx])\n",
    "plt.title(\"Random Forest Feature Importances\")\n",
    "plt.show()"
   ]
  },
  {
   "cell_type": "code",
   "execution_count": null,
   "metadata": {},
   "outputs": [],
   "source": []
  },
  {
   "cell_type": "code",
   "execution_count": 99,
   "metadata": {},
   "outputs": [
    {
     "name": "stdout",
     "output_type": "stream",
     "text": [
      "Feature: min_w3, Importance: 0.012732541349639385\n",
      "Feature: length_w2, Importance: 0.013268593498232933\n",
      "Feature: frame_count, Importance: 0.013900539905652008\n",
      "Feature: sc_q50_w2, Importance: 0.014202874162640424\n",
      "Feature: mfcc_min, Importance: 0.014458715723004754\n",
      "Feature: lag1_min_w3, Importance: 0.015849494817047283\n",
      "Feature: max_w3, Importance: 0.016576864549500293\n",
      "Feature: min, Importance: 0.016884185700532947\n",
      "Feature: max, Importance: 0.02097515613757242\n",
      "Feature: lag1_max_w3, Importance: 0.021728630737244913\n"
     ]
    }
   ],
   "source": [
    "imps_e, vars_e = feature_importance(model_emotion, df_train_model_e_fi)"
   ]
  },
  {
   "cell_type": "code",
   "execution_count": 100,
   "metadata": {},
   "outputs": [],
   "source": [
    "X_train_e_fi = np.array(df_train_model_e_fi[vars_e])\n",
    "X_test_e_fi = np.array(df_test_model_e_fi[vars_e])"
   ]
  },
  {
   "cell_type": "code",
   "execution_count": 101,
   "metadata": {},
   "outputs": [
    {
     "name": "stdout",
     "output_type": "stream",
     "text": [
      "Fitting 3 folds for each of 100 candidates, totalling 300 fits\n"
     ]
    }
   ],
   "source": [
    "randomforest_emotion_fi = random_forest(X_train_e_fi, y_train_e)"
   ]
  },
  {
   "cell_type": "code",
   "execution_count": 102,
   "metadata": {},
   "outputs": [
    {
     "name": "stdout",
     "output_type": "stream",
     "text": [
      "Tuned Random Forest Parameters after Feature Importance: {'criterion': 'gini', 'max_depth': 143, 'max_features': None, 'min_samples_leaf': 0.020839412203168917, 'min_samples_split': 0.012555552023070793}\n"
     ]
    }
   ],
   "source": [
    "print(\"Tuned Random Forest Parameters after Feature Importance: {}\".format(randomforest_emotion_fi.best_params_))\n"
   ]
  },
  {
   "cell_type": "code",
   "execution_count": 103,
   "metadata": {},
   "outputs": [
    {
     "data": {
      "text/html": [
       "<style>#sk-container-id-8 {color: black;background-color: white;}#sk-container-id-8 pre{padding: 0;}#sk-container-id-8 div.sk-toggleable {background-color: white;}#sk-container-id-8 label.sk-toggleable__label {cursor: pointer;display: block;width: 100%;margin-bottom: 0;padding: 0.3em;box-sizing: border-box;text-align: center;}#sk-container-id-8 label.sk-toggleable__label-arrow:before {content: \"▸\";float: left;margin-right: 0.25em;color: #696969;}#sk-container-id-8 label.sk-toggleable__label-arrow:hover:before {color: black;}#sk-container-id-8 div.sk-estimator:hover label.sk-toggleable__label-arrow:before {color: black;}#sk-container-id-8 div.sk-toggleable__content {max-height: 0;max-width: 0;overflow: hidden;text-align: left;background-color: #f0f8ff;}#sk-container-id-8 div.sk-toggleable__content pre {margin: 0.2em;color: black;border-radius: 0.25em;background-color: #f0f8ff;}#sk-container-id-8 input.sk-toggleable__control:checked~div.sk-toggleable__content {max-height: 200px;max-width: 100%;overflow: auto;}#sk-container-id-8 input.sk-toggleable__control:checked~label.sk-toggleable__label-arrow:before {content: \"▾\";}#sk-container-id-8 div.sk-estimator input.sk-toggleable__control:checked~label.sk-toggleable__label {background-color: #d4ebff;}#sk-container-id-8 div.sk-label input.sk-toggleable__control:checked~label.sk-toggleable__label {background-color: #d4ebff;}#sk-container-id-8 input.sk-hidden--visually {border: 0;clip: rect(1px 1px 1px 1px);clip: rect(1px, 1px, 1px, 1px);height: 1px;margin: -1px;overflow: hidden;padding: 0;position: absolute;width: 1px;}#sk-container-id-8 div.sk-estimator {font-family: monospace;background-color: #f0f8ff;border: 1px dotted black;border-radius: 0.25em;box-sizing: border-box;margin-bottom: 0.5em;}#sk-container-id-8 div.sk-estimator:hover {background-color: #d4ebff;}#sk-container-id-8 div.sk-parallel-item::after {content: \"\";width: 100%;border-bottom: 1px solid gray;flex-grow: 1;}#sk-container-id-8 div.sk-label:hover label.sk-toggleable__label {background-color: #d4ebff;}#sk-container-id-8 div.sk-serial::before {content: \"\";position: absolute;border-left: 1px solid gray;box-sizing: border-box;top: 0;bottom: 0;left: 50%;z-index: 0;}#sk-container-id-8 div.sk-serial {display: flex;flex-direction: column;align-items: center;background-color: white;padding-right: 0.2em;padding-left: 0.2em;position: relative;}#sk-container-id-8 div.sk-item {position: relative;z-index: 1;}#sk-container-id-8 div.sk-parallel {display: flex;align-items: stretch;justify-content: center;background-color: white;position: relative;}#sk-container-id-8 div.sk-item::before, #sk-container-id-8 div.sk-parallel-item::before {content: \"\";position: absolute;border-left: 1px solid gray;box-sizing: border-box;top: 0;bottom: 0;left: 50%;z-index: -1;}#sk-container-id-8 div.sk-parallel-item {display: flex;flex-direction: column;z-index: 1;position: relative;background-color: white;}#sk-container-id-8 div.sk-parallel-item:first-child::after {align-self: flex-end;width: 50%;}#sk-container-id-8 div.sk-parallel-item:last-child::after {align-self: flex-start;width: 50%;}#sk-container-id-8 div.sk-parallel-item:only-child::after {width: 0;}#sk-container-id-8 div.sk-dashed-wrapped {border: 1px dashed gray;margin: 0 0.4em 0.5em 0.4em;box-sizing: border-box;padding-bottom: 0.4em;background-color: white;}#sk-container-id-8 div.sk-label label {font-family: monospace;font-weight: bold;display: inline-block;line-height: 1.2em;}#sk-container-id-8 div.sk-label-container {text-align: center;}#sk-container-id-8 div.sk-container {/* jupyter's `normalize.less` sets `[hidden] { display: none; }` but bootstrap.min.css set `[hidden] { display: none !important; }` so we also need the `!important` here to be able to override the default hidden behavior on the sphinx rendered scikit-learn.org. See: https://github.com/scikit-learn/scikit-learn/issues/21755 */display: inline-block !important;position: relative;}#sk-container-id-8 div.sk-text-repr-fallback {display: none;}</style><div id=\"sk-container-id-8\" class=\"sk-top-container\"><div class=\"sk-text-repr-fallback\"><pre>RandomForestClassifier(max_depth=143, max_features=None,\n",
       "                       min_samples_leaf=0.020839412203168917,\n",
       "                       min_samples_split=0.012555552023070793)</pre><b>In a Jupyter environment, please rerun this cell to show the HTML representation or trust the notebook. <br />On GitHub, the HTML representation is unable to render, please try loading this page with nbviewer.org.</b></div><div class=\"sk-container\" hidden><div class=\"sk-item\"><div class=\"sk-estimator sk-toggleable\"><input class=\"sk-toggleable__control sk-hidden--visually\" id=\"sk-estimator-id-8\" type=\"checkbox\" checked><label for=\"sk-estimator-id-8\" class=\"sk-toggleable__label sk-toggleable__label-arrow\">RandomForestClassifier</label><div class=\"sk-toggleable__content\"><pre>RandomForestClassifier(max_depth=143, max_features=None,\n",
       "                       min_samples_leaf=0.020839412203168917,\n",
       "                       min_samples_split=0.012555552023070793)</pre></div></div></div></div></div>"
      ],
      "text/plain": [
       "RandomForestClassifier(max_depth=143, max_features=None,\n",
       "                       min_samples_leaf=0.020839412203168917,\n",
       "                       min_samples_split=0.012555552023070793)"
      ]
     },
     "execution_count": 103,
     "metadata": {},
     "output_type": "execute_result"
    }
   ],
   "source": [
    "model_emotion_fi = RandomForestClassifier(min_samples_split = 0.012555552023070793, \n",
    "                                    min_samples_leaf = 0.020839412203168917, \n",
    "                                    max_features = None, \n",
    "                                    max_depth = 143, \n",
    "                                    criterion = 'gini'\n",
    "                                    )\n",
    "model_emotion_fi.fit(X_train_e_fi,y_train_e)"
   ]
  },
  {
   "cell_type": "code",
   "execution_count": 104,
   "metadata": {},
   "outputs": [],
   "source": [
    "y_pred_rf_e_fi = model_emotion_fi.predict(X_test_e_fi)"
   ]
  },
  {
   "cell_type": "code",
   "execution_count": 105,
   "metadata": {},
   "outputs": [
    {
     "name": "stdout",
     "output_type": "stream",
     "text": [
      "              precision    recall  f1-score   support\n",
      "\n",
      "         0.0       0.37      0.31      0.34        48\n",
      "         1.0       0.51      0.69      0.58        96\n",
      "         2.0       0.30      0.64      0.41        96\n",
      "         3.0       0.37      0.16      0.22        96\n",
      "         4.0       0.57      0.64      0.60        96\n",
      "         5.0       0.26      0.10      0.15        96\n",
      "         6.0       0.44      0.31      0.37        48\n",
      "         7.0       0.45      0.27      0.34        48\n",
      "\n",
      "    accuracy                           0.41       624\n",
      "   macro avg       0.41      0.39      0.38       624\n",
      "weighted avg       0.40      0.41      0.38       624\n",
      "\n"
     ]
    }
   ],
   "source": [
    "print(classification_report(y_test_e, y_pred_rf_e_fi))"
   ]
  },
  {
   "cell_type": "code",
   "execution_count": null,
   "metadata": {},
   "outputs": [],
   "source": []
  },
  {
   "cell_type": "code",
   "execution_count": null,
   "metadata": {},
   "outputs": [],
   "source": []
  },
  {
   "cell_type": "markdown",
   "metadata": {},
   "source": [
    "## Some emotions"
   ]
  },
  {
   "cell_type": "code",
   "execution_count": 142,
   "metadata": {},
   "outputs": [],
   "source": [
    "df_train_model_es = df_train.copy()"
   ]
  },
  {
   "cell_type": "code",
   "execution_count": 143,
   "metadata": {},
   "outputs": [],
   "source": [
    "df_test_model_es = df_test.copy()"
   ]
  },
  {
   "cell_type": "code",
   "execution_count": null,
   "metadata": {},
   "outputs": [],
   "source": []
  },
  {
   "cell_type": "code",
   "execution_count": 144,
   "metadata": {},
   "outputs": [],
   "source": [
    "df_train_subset = df_train_model_es[(df_train_model_es[\"emotion\"] == 'happy')] \n",
    "df_train_subset1 = df_train_model_es[(df_train_model_es[\"emotion\"] == 'sad')]\n",
    "df_train_subset_e = pd.concat([df_train_subset, df_train_subset1])"
   ]
  },
  {
   "cell_type": "code",
   "execution_count": 145,
   "metadata": {},
   "outputs": [],
   "source": [
    "label_encoder_es = preprocessing.LabelEncoder()\n",
    "X_train_es = df_train_subset_e.drop(\"emotion\", axis=1)\n",
    "X_train_es = np.array(pd.get_dummies(X_train_es))\n",
    "y_train_es = label_encoder_es.fit_transform(df_train_subset_e['emotion'])"
   ]
  },
  {
   "cell_type": "code",
   "execution_count": null,
   "metadata": {},
   "outputs": [],
   "source": []
  },
  {
   "cell_type": "code",
   "execution_count": 146,
   "metadata": {},
   "outputs": [],
   "source": [
    "df_test_subset = df_test_model_es[(df_test_model_es[\"emotion\"] == 'happy')] \n",
    "df_test_subset1 = df_test_model_es[(df_test_model_es[\"emotion\"] == 'sad')]\n",
    "df_test_subset_e = pd.concat([df_test_subset, df_test_subset1])"
   ]
  },
  {
   "cell_type": "code",
   "execution_count": 147,
   "metadata": {},
   "outputs": [],
   "source": [
    "X_test_es = df_test_subset_e.drop(\"emotion\", axis=1)\n",
    "X_test_es = np.array(pd.get_dummies(X_test_es))\n",
    "y_test_es = label_encoder_es.fit_transform(df_test_subset_e[\"emotion\"])"
   ]
  },
  {
   "cell_type": "code",
   "execution_count": null,
   "metadata": {},
   "outputs": [],
   "source": []
  },
  {
   "cell_type": "code",
   "execution_count": 148,
   "metadata": {},
   "outputs": [
    {
     "name": "stdout",
     "output_type": "stream",
     "text": [
      "Fitting 3 folds for each of 100 candidates, totalling 300 fits\n"
     ]
    }
   ],
   "source": [
    "randomforest_emotion_subset = random_forest(X_train_es, y_train_es)"
   ]
  },
  {
   "cell_type": "code",
   "execution_count": 149,
   "metadata": {},
   "outputs": [
    {
     "name": "stdout",
     "output_type": "stream",
     "text": [
      "Tuned Random Forest Parameters: {'criterion': 'gini', 'max_depth': 51, 'max_features': 'sqrt', 'min_samples_leaf': 0.035617155896520834, 'min_samples_split': 0.04752061629334791}\n"
     ]
    }
   ],
   "source": [
    "print(\"Tuned Random Forest Parameters: {}\".format(randomforest_emotion_subset.best_params_))"
   ]
  },
  {
   "cell_type": "code",
   "execution_count": 150,
   "metadata": {},
   "outputs": [
    {
     "data": {
      "text/html": [
       "<style>#sk-container-id-17 {color: black;background-color: white;}#sk-container-id-17 pre{padding: 0;}#sk-container-id-17 div.sk-toggleable {background-color: white;}#sk-container-id-17 label.sk-toggleable__label {cursor: pointer;display: block;width: 100%;margin-bottom: 0;padding: 0.3em;box-sizing: border-box;text-align: center;}#sk-container-id-17 label.sk-toggleable__label-arrow:before {content: \"▸\";float: left;margin-right: 0.25em;color: #696969;}#sk-container-id-17 label.sk-toggleable__label-arrow:hover:before {color: black;}#sk-container-id-17 div.sk-estimator:hover label.sk-toggleable__label-arrow:before {color: black;}#sk-container-id-17 div.sk-toggleable__content {max-height: 0;max-width: 0;overflow: hidden;text-align: left;background-color: #f0f8ff;}#sk-container-id-17 div.sk-toggleable__content pre {margin: 0.2em;color: black;border-radius: 0.25em;background-color: #f0f8ff;}#sk-container-id-17 input.sk-toggleable__control:checked~div.sk-toggleable__content {max-height: 200px;max-width: 100%;overflow: auto;}#sk-container-id-17 input.sk-toggleable__control:checked~label.sk-toggleable__label-arrow:before {content: \"▾\";}#sk-container-id-17 div.sk-estimator input.sk-toggleable__control:checked~label.sk-toggleable__label {background-color: #d4ebff;}#sk-container-id-17 div.sk-label input.sk-toggleable__control:checked~label.sk-toggleable__label {background-color: #d4ebff;}#sk-container-id-17 input.sk-hidden--visually {border: 0;clip: rect(1px 1px 1px 1px);clip: rect(1px, 1px, 1px, 1px);height: 1px;margin: -1px;overflow: hidden;padding: 0;position: absolute;width: 1px;}#sk-container-id-17 div.sk-estimator {font-family: monospace;background-color: #f0f8ff;border: 1px dotted black;border-radius: 0.25em;box-sizing: border-box;margin-bottom: 0.5em;}#sk-container-id-17 div.sk-estimator:hover {background-color: #d4ebff;}#sk-container-id-17 div.sk-parallel-item::after {content: \"\";width: 100%;border-bottom: 1px solid gray;flex-grow: 1;}#sk-container-id-17 div.sk-label:hover label.sk-toggleable__label {background-color: #d4ebff;}#sk-container-id-17 div.sk-serial::before {content: \"\";position: absolute;border-left: 1px solid gray;box-sizing: border-box;top: 0;bottom: 0;left: 50%;z-index: 0;}#sk-container-id-17 div.sk-serial {display: flex;flex-direction: column;align-items: center;background-color: white;padding-right: 0.2em;padding-left: 0.2em;position: relative;}#sk-container-id-17 div.sk-item {position: relative;z-index: 1;}#sk-container-id-17 div.sk-parallel {display: flex;align-items: stretch;justify-content: center;background-color: white;position: relative;}#sk-container-id-17 div.sk-item::before, #sk-container-id-17 div.sk-parallel-item::before {content: \"\";position: absolute;border-left: 1px solid gray;box-sizing: border-box;top: 0;bottom: 0;left: 50%;z-index: -1;}#sk-container-id-17 div.sk-parallel-item {display: flex;flex-direction: column;z-index: 1;position: relative;background-color: white;}#sk-container-id-17 div.sk-parallel-item:first-child::after {align-self: flex-end;width: 50%;}#sk-container-id-17 div.sk-parallel-item:last-child::after {align-self: flex-start;width: 50%;}#sk-container-id-17 div.sk-parallel-item:only-child::after {width: 0;}#sk-container-id-17 div.sk-dashed-wrapped {border: 1px dashed gray;margin: 0 0.4em 0.5em 0.4em;box-sizing: border-box;padding-bottom: 0.4em;background-color: white;}#sk-container-id-17 div.sk-label label {font-family: monospace;font-weight: bold;display: inline-block;line-height: 1.2em;}#sk-container-id-17 div.sk-label-container {text-align: center;}#sk-container-id-17 div.sk-container {/* jupyter's `normalize.less` sets `[hidden] { display: none; }` but bootstrap.min.css set `[hidden] { display: none !important; }` so we also need the `!important` here to be able to override the default hidden behavior on the sphinx rendered scikit-learn.org. See: https://github.com/scikit-learn/scikit-learn/issues/21755 */display: inline-block !important;position: relative;}#sk-container-id-17 div.sk-text-repr-fallback {display: none;}</style><div id=\"sk-container-id-17\" class=\"sk-top-container\"><div class=\"sk-text-repr-fallback\"><pre>RandomForestClassifier(max_depth=51, min_samples_leaf=0.035617155896520834,\n",
       "                       min_samples_split=0.04752061629334791)</pre><b>In a Jupyter environment, please rerun this cell to show the HTML representation or trust the notebook. <br />On GitHub, the HTML representation is unable to render, please try loading this page with nbviewer.org.</b></div><div class=\"sk-container\" hidden><div class=\"sk-item\"><div class=\"sk-estimator sk-toggleable\"><input class=\"sk-toggleable__control sk-hidden--visually\" id=\"sk-estimator-id-17\" type=\"checkbox\" checked><label for=\"sk-estimator-id-17\" class=\"sk-toggleable__label sk-toggleable__label-arrow\">RandomForestClassifier</label><div class=\"sk-toggleable__content\"><pre>RandomForestClassifier(max_depth=51, min_samples_leaf=0.035617155896520834,\n",
       "                       min_samples_split=0.04752061629334791)</pre></div></div></div></div></div>"
      ],
      "text/plain": [
       "RandomForestClassifier(max_depth=51, min_samples_leaf=0.035617155896520834,\n",
       "                       min_samples_split=0.04752061629334791)"
      ]
     },
     "execution_count": 150,
     "metadata": {},
     "output_type": "execute_result"
    }
   ],
   "source": [
    "model_emotion_subset = RandomForestClassifier(min_samples_split = 0.04752061629334791, \n",
    "                                    min_samples_leaf = 0.035617155896520834, \n",
    "                                    max_features = 'sqrt', \n",
    "                                    max_depth = 51, \n",
    "                                    criterion = 'gini'\n",
    "                                    )\n",
    "model_emotion_subset.fit(X_train_es,y_train_es)"
   ]
  },
  {
   "cell_type": "code",
   "execution_count": 151,
   "metadata": {},
   "outputs": [],
   "source": [
    "y_pred_rf_es = model_emotion_subset.predict(X_test_es)"
   ]
  },
  {
   "cell_type": "code",
   "execution_count": 152,
   "metadata": {},
   "outputs": [
    {
     "name": "stdout",
     "output_type": "stream",
     "text": [
      "              precision    recall  f1-score   support\n",
      "\n",
      "           0       0.76      0.84      0.80        96\n",
      "           1       0.82      0.73      0.77        96\n",
      "\n",
      "    accuracy                           0.79       192\n",
      "   macro avg       0.79      0.79      0.79       192\n",
      "weighted avg       0.79      0.79      0.79       192\n",
      "\n"
     ]
    }
   ],
   "source": [
    "print(classification_report(y_test_es, y_pred_rf_es))"
   ]
  },
  {
   "cell_type": "code",
   "execution_count": null,
   "metadata": {},
   "outputs": [],
   "source": []
  },
  {
   "cell_type": "code",
   "execution_count": null,
   "metadata": {},
   "outputs": [],
   "source": []
  },
  {
   "cell_type": "code",
   "execution_count": 202,
   "metadata": {},
   "outputs": [
    {
     "data": {
      "image/png": "[encoded data removed]",
      "text/plain": [
       "<Figure size 432x288 with 1 Axes>"
      ]
     },
     "metadata": {},
     "output_type": "display_data"
    }
   ],
   "source": [
    "nbr_features = 10\n",
    "tree_feature_importances = model_emotion_subset.feature_importances_\n",
    "sorted_idx = tree_feature_importances.argsort()[-nbr_features:]\n",
    "y_ticks = np.arange(0, len(sorted_idx))\n",
    "fig, ax = plt.subplots()\n",
    "plt.barh(y_ticks, tree_feature_importances[sorted_idx])\n",
    "plt.yticks(y_ticks, np.array(df_train_model_ei_fi.columns)[sorted_idx])\n",
    "plt.title(\"Random Forest Feature Importances\")\n",
    "plt.show()"
   ]
  },
  {
   "cell_type": "code",
   "execution_count": null,
   "metadata": {},
   "outputs": [],
   "source": []
  },
  {
   "cell_type": "code",
   "execution_count": 154,
   "metadata": {},
   "outputs": [],
   "source": [
    "X_train_es_fi = np.array(df_train_subset_e[vars_es])\n",
    "X_test_es_fi = np.array(df_test_subset_e[vars_es])"
   ]
  },
  {
   "cell_type": "code",
   "execution_count": 155,
   "metadata": {},
   "outputs": [
    {
     "name": "stdout",
     "output_type": "stream",
     "text": [
      "Fitting 3 folds for each of 100 candidates, totalling 300 fits\n"
     ]
    }
   ],
   "source": [
    "randomforest_emotion_subset_fi = random_forest(X_train_es_fi, y_train_es)"
   ]
  },
  {
   "cell_type": "code",
   "execution_count": 156,
   "metadata": {},
   "outputs": [
    {
     "name": "stdout",
     "output_type": "stream",
     "text": [
      "Tuned Random Forest Parameters after Feature Importance: {'criterion': 'log_loss', 'max_depth': 158, 'max_features': 'sqrt', 'min_samples_leaf': 0.10747798883573778, 'min_samples_split': 0.6423103557190397}\n"
     ]
    }
   ],
   "source": [
    "print(\"Tuned Random Forest Parameters after Feature Importance: {}\".format(randomforest_emotion_subset_fi.best_params_))\n",
    "\n",
    "\n",
    "\n"
   ]
  },
  {
   "cell_type": "code",
   "execution_count": 157,
   "metadata": {},
   "outputs": [
    {
     "data": {
      "text/html": [
       "<style>#sk-container-id-18 {color: black;background-color: white;}#sk-container-id-18 pre{padding: 0;}#sk-container-id-18 div.sk-toggleable {background-color: white;}#sk-container-id-18 label.sk-toggleable__label {cursor: pointer;display: block;width: 100%;margin-bottom: 0;padding: 0.3em;box-sizing: border-box;text-align: center;}#sk-container-id-18 label.sk-toggleable__label-arrow:before {content: \"▸\";float: left;margin-right: 0.25em;color: #696969;}#sk-container-id-18 label.sk-toggleable__label-arrow:hover:before {color: black;}#sk-container-id-18 div.sk-estimator:hover label.sk-toggleable__label-arrow:before {color: black;}#sk-container-id-18 div.sk-toggleable__content {max-height: 0;max-width: 0;overflow: hidden;text-align: left;background-color: #f0f8ff;}#sk-container-id-18 div.sk-toggleable__content pre {margin: 0.2em;color: black;border-radius: 0.25em;background-color: #f0f8ff;}#sk-container-id-18 input.sk-toggleable__control:checked~div.sk-toggleable__content {max-height: 200px;max-width: 100%;overflow: auto;}#sk-container-id-18 input.sk-toggleable__control:checked~label.sk-toggleable__label-arrow:before {content: \"▾\";}#sk-container-id-18 div.sk-estimator input.sk-toggleable__control:checked~label.sk-toggleable__label {background-color: #d4ebff;}#sk-container-id-18 div.sk-label input.sk-toggleable__control:checked~label.sk-toggleable__label {background-color: #d4ebff;}#sk-container-id-18 input.sk-hidden--visually {border: 0;clip: rect(1px 1px 1px 1px);clip: rect(1px, 1px, 1px, 1px);height: 1px;margin: -1px;overflow: hidden;padding: 0;position: absolute;width: 1px;}#sk-container-id-18 div.sk-estimator {font-family: monospace;background-color: #f0f8ff;border: 1px dotted black;border-radius: 0.25em;box-sizing: border-box;margin-bottom: 0.5em;}#sk-container-id-18 div.sk-estimator:hover {background-color: #d4ebff;}#sk-container-id-18 div.sk-parallel-item::after {content: \"\";width: 100%;border-bottom: 1px solid gray;flex-grow: 1;}#sk-container-id-18 div.sk-label:hover label.sk-toggleable__label {background-color: #d4ebff;}#sk-container-id-18 div.sk-serial::before {content: \"\";position: absolute;border-left: 1px solid gray;box-sizing: border-box;top: 0;bottom: 0;left: 50%;z-index: 0;}#sk-container-id-18 div.sk-serial {display: flex;flex-direction: column;align-items: center;background-color: white;padding-right: 0.2em;padding-left: 0.2em;position: relative;}#sk-container-id-18 div.sk-item {position: relative;z-index: 1;}#sk-container-id-18 div.sk-parallel {display: flex;align-items: stretch;justify-content: center;background-color: white;position: relative;}#sk-container-id-18 div.sk-item::before, #sk-container-id-18 div.sk-parallel-item::before {content: \"\";position: absolute;border-left: 1px solid gray;box-sizing: border-box;top: 0;bottom: 0;left: 50%;z-index: -1;}#sk-container-id-18 div.sk-parallel-item {display: flex;flex-direction: column;z-index: 1;position: relative;background-color: white;}#sk-container-id-18 div.sk-parallel-item:first-child::after {align-self: flex-end;width: 50%;}#sk-container-id-18 div.sk-parallel-item:last-child::after {align-self: flex-start;width: 50%;}#sk-container-id-18 div.sk-parallel-item:only-child::after {width: 0;}#sk-container-id-18 div.sk-dashed-wrapped {border: 1px dashed gray;margin: 0 0.4em 0.5em 0.4em;box-sizing: border-box;padding-bottom: 0.4em;background-color: white;}#sk-container-id-18 div.sk-label label {font-family: monospace;font-weight: bold;display: inline-block;line-height: 1.2em;}#sk-container-id-18 div.sk-label-container {text-align: center;}#sk-container-id-18 div.sk-container {/* jupyter's `normalize.less` sets `[hidden] { display: none; }` but bootstrap.min.css set `[hidden] { display: none !important; }` so we also need the `!important` here to be able to override the default hidden behavior on the sphinx rendered scikit-learn.org. See: https://github.com/scikit-learn/scikit-learn/issues/21755 */display: inline-block !important;position: relative;}#sk-container-id-18 div.sk-text-repr-fallback {display: none;}</style><div id=\"sk-container-id-18\" class=\"sk-top-container\"><div class=\"sk-text-repr-fallback\"><pre>RandomForestClassifier(criterion=&#x27;log_loss&#x27;, max_depth=158,\n",
       "                       min_samples_leaf=0.10747798883573778,\n",
       "                       min_samples_split=0.6423103557190397)</pre><b>In a Jupyter environment, please rerun this cell to show the HTML representation or trust the notebook. <br />On GitHub, the HTML representation is unable to render, please try loading this page with nbviewer.org.</b></div><div class=\"sk-container\" hidden><div class=\"sk-item\"><div class=\"sk-estimator sk-toggleable\"><input class=\"sk-toggleable__control sk-hidden--visually\" id=\"sk-estimator-id-18\" type=\"checkbox\" checked><label for=\"sk-estimator-id-18\" class=\"sk-toggleable__label sk-toggleable__label-arrow\">RandomForestClassifier</label><div class=\"sk-toggleable__content\"><pre>RandomForestClassifier(criterion=&#x27;log_loss&#x27;, max_depth=158,\n",
       "                       min_samples_leaf=0.10747798883573778,\n",
       "                       min_samples_split=0.6423103557190397)</pre></div></div></div></div></div>"
      ],
      "text/plain": [
       "RandomForestClassifier(criterion='log_loss', max_depth=158,\n",
       "                       min_samples_leaf=0.10747798883573778,\n",
       "                       min_samples_split=0.6423103557190397)"
      ]
     },
     "execution_count": 157,
     "metadata": {},
     "output_type": "execute_result"
    }
   ],
   "source": [
    "model_emotion_subset_fi = RandomForestClassifier(min_samples_split = 0.6423103557190397, \n",
    "                                    min_samples_leaf = 0.10747798883573778, \n",
    "                                    max_features = 'sqrt', \n",
    "                                    max_depth = 158,\n",
    "                                    criterion = 'log_loss'\n",
    "                                    )\n",
    "model_emotion_subset_fi.fit(X_train_es_fi,y_train_es)"
   ]
  },
  {
   "cell_type": "code",
   "execution_count": 158,
   "metadata": {},
   "outputs": [],
   "source": [
    "y_pred_rf_es_fi = model_emotion_subset_fi.predict(X_test_es_fi)"
   ]
  },
  {
   "cell_type": "code",
   "execution_count": 159,
   "metadata": {},
   "outputs": [
    {
     "name": "stdout",
     "output_type": "stream",
     "text": [
      "              precision    recall  f1-score   support\n",
      "\n",
      "           0       0.75      0.77      0.76        96\n",
      "           1       0.76      0.74      0.75        96\n",
      "\n",
      "    accuracy                           0.76       192\n",
      "   macro avg       0.76      0.76      0.76       192\n",
      "weighted avg       0.76      0.76      0.76       192\n",
      "\n"
     ]
    }
   ],
   "source": [
    "print(classification_report(y_test_es, y_pred_rf_es_fi))"
   ]
  },
  {
   "cell_type": "code",
   "execution_count": null,
   "metadata": {},
   "outputs": [],
   "source": []
  },
  {
   "cell_type": "code",
   "execution_count": null,
   "metadata": {},
   "outputs": [],
   "source": []
  },
  {
   "cell_type": "code",
   "execution_count": null,
   "metadata": {},
   "outputs": [],
   "source": []
  },
  {
   "cell_type": "code",
   "execution_count": null,
   "metadata": {},
   "outputs": [],
   "source": []
  },
  {
   "cell_type": "code",
   "execution_count": 106,
   "metadata": {},
   "outputs": [
    {
     "data": {
      "text/html": [
       "<div>\n",
       "<style scoped>\n",
       "    .dataframe tbody tr th:only-of-type {\n",
       "        vertical-align: middle;\n",
       "    }\n",
       "\n",
       "    .dataframe tbody tr th {\n",
       "        vertical-align: top;\n",
       "    }\n",
       "\n",
       "    .dataframe thead th {\n",
       "        text-align: right;\n",
       "    }\n",
       "</style>\n",
       "<table border=\"1\" class=\"dataframe\">\n",
       "  <thead>\n",
       "    <tr style=\"text-align: right;\">\n",
       "      <th></th>\n",
       "      <th>LG</th>\n",
       "      <th>RF</th>\n",
       "      <th>DTB</th>\n",
       "      <th>AB</th>\n",
       "    </tr>\n",
       "  </thead>\n",
       "  <tbody>\n",
       "    <tr>\n",
       "      <th>Accuracy</th>\n",
       "      <td>None</td>\n",
       "      <td>None</td>\n",
       "      <td>None</td>\n",
       "      <td>None</td>\n",
       "    </tr>\n",
       "    <tr>\n",
       "      <th>F1-Score (Weighted-Average)</th>\n",
       "      <td>None</td>\n",
       "      <td>None</td>\n",
       "      <td>None</td>\n",
       "      <td>None</td>\n",
       "    </tr>\n",
       "  </tbody>\n",
       "</table>\n",
       "</div>"
      ],
      "text/plain": [
       "                               LG    RF   DTB    AB\n",
       "Accuracy                     None  None  None  None\n",
       "F1-Score (Weighted-Average)  None  None  None  None"
      ]
     },
     "execution_count": 106,
     "metadata": {},
     "output_type": "execute_result"
    }
   ],
   "source": [
    "# vocal_channel\n",
    "\n",
    "vocal_channel_metrics_b = pd.DataFrame(columns=[\"LG\", \"RF\", \"DTB\", \"AB\"], \n",
    "                       index=[\"Accuracy\", \"F1-Score (Weighted-Average)\"])\n",
    "vocal_channel_metrics_b.loc[\"Accuracy\"] = [None, None, None, None]\n",
    "vocal_channel_metrics_b.loc[\"F1-Score (Weighted-Average)\"] = [None, None, None, None]\n",
    "vocal_channel_metrics_b"
   ]
  },
  {
   "cell_type": "code",
   "execution_count": 107,
   "metadata": {},
   "outputs": [],
   "source": [
    "vocal_channel_metrics_b.loc[\"Accuracy\"][1] = accuracy_vc\n",
    "vocal_channel_metrics_b.loc[\"F1-Score (Weighted-Average)\"][1] = f1_score_vc"
   ]
  },
  {
   "cell_type": "code",
   "execution_count": 121,
   "metadata": {},
   "outputs": [],
   "source": [
    "vocal_channel_metrics_b.to_csv('vocal_channel_metric.csv', index = False)"
   ]
  },
  {
   "cell_type": "code",
   "execution_count": null,
   "metadata": {},
   "outputs": [],
   "source": []
  },
  {
   "cell_type": "code",
   "execution_count": null,
   "metadata": {},
   "outputs": [],
   "source": []
  },
  {
   "cell_type": "code",
   "execution_count": 168,
   "metadata": {},
   "outputs": [],
   "source": [
    "y_score = model_vocal_channel.predict_proba(X_test_vc)\n",
    "fpr, tpr, _ = roc_curve(y_test_vc, y_score[:,1],pos_label=1)\n",
    "roc_auc = auc(fpr, tpr)"
   ]
  },
  {
   "cell_type": "code",
   "execution_count": 169,
   "metadata": {},
   "outputs": [
    {
     "data": {
      "text/html": [
       "<div>\n",
       "<style scoped>\n",
       "    .dataframe tbody tr th:only-of-type {\n",
       "        vertical-align: middle;\n",
       "    }\n",
       "\n",
       "    .dataframe tbody tr th {\n",
       "        vertical-align: top;\n",
       "    }\n",
       "\n",
       "    .dataframe thead th {\n",
       "        text-align: right;\n",
       "    }\n",
       "</style>\n",
       "<table border=\"1\" class=\"dataframe\">\n",
       "  <thead>\n",
       "    <tr style=\"text-align: right;\">\n",
       "      <th></th>\n",
       "      <th>LG</th>\n",
       "      <th>RF</th>\n",
       "      <th>DTB</th>\n",
       "      <th>AB</th>\n",
       "    </tr>\n",
       "  </thead>\n",
       "  <tbody>\n",
       "    <tr>\n",
       "      <th>fpr</th>\n",
       "      <td>None</td>\n",
       "      <td>None</td>\n",
       "      <td>None</td>\n",
       "      <td>None</td>\n",
       "    </tr>\n",
       "    <tr>\n",
       "      <th>tpr</th>\n",
       "      <td>None</td>\n",
       "      <td>None</td>\n",
       "      <td>None</td>\n",
       "      <td>None</td>\n",
       "    </tr>\n",
       "    <tr>\n",
       "      <th>auc</th>\n",
       "      <td>None</td>\n",
       "      <td>None</td>\n",
       "      <td>None</td>\n",
       "      <td>None</td>\n",
       "    </tr>\n",
       "  </tbody>\n",
       "</table>\n",
       "</div>"
      ],
      "text/plain": [
       "       LG    RF   DTB    AB\n",
       "fpr  None  None  None  None\n",
       "tpr  None  None  None  None\n",
       "auc  None  None  None  None"
      ]
     },
     "execution_count": 169,
     "metadata": {},
     "output_type": "execute_result"
    }
   ],
   "source": [
    "vocal_channel_roc_b = pd.DataFrame(columns=[\"LG\", \"RF\", \"DTB\", \"AB\"], \n",
    "                       index=[\"fpr\", \"tpr\", \"auc\"])\n",
    "vocal_channel_roc_b.loc[\"fpr\"] = [None, None, None, None]\n",
    "vocal_channel_roc_b.loc[\"tpr\"] = [None, None, None, None]\n",
    "vocal_channel_roc_b.loc[\"auc\"] = [None, None, None, None]\n",
    "vocal_channel_roc_b"
   ]
  },
  {
   "cell_type": "code",
   "execution_count": 170,
   "metadata": {},
   "outputs": [],
   "source": [
    "vocal_channel_roc_b.loc[\"fpr\"][1] = fpr\n",
    "vocal_channel_roc_b.loc[\"tpr\"][1] = tpr\n",
    "vocal_channel_roc_b.loc[\"auc\"][1] = roc_auc"
   ]
  },
  {
   "cell_type": "code",
   "execution_count": 171,
   "metadata": {},
   "outputs": [],
   "source": [
    "vocal_channel_roc_b.to_csv('vocal_channel_score.csv', index=False)"
   ]
  },
  {
   "cell_type": "code",
   "execution_count": null,
   "metadata": {},
   "outputs": [],
   "source": []
  },
  {
   "cell_type": "code",
   "execution_count": null,
   "metadata": {},
   "outputs": [],
   "source": []
  },
  {
   "cell_type": "code",
   "execution_count": 124,
   "metadata": {},
   "outputs": [
    {
     "data": {
      "text/html": [
       "<div>\n",
       "<style scoped>\n",
       "    .dataframe tbody tr th:only-of-type {\n",
       "        vertical-align: middle;\n",
       "    }\n",
       "\n",
       "    .dataframe tbody tr th {\n",
       "        vertical-align: top;\n",
       "    }\n",
       "\n",
       "    .dataframe thead th {\n",
       "        text-align: right;\n",
       "    }\n",
       "</style>\n",
       "<table border=\"1\" class=\"dataframe\">\n",
       "  <thead>\n",
       "    <tr style=\"text-align: right;\">\n",
       "      <th></th>\n",
       "      <th>LG</th>\n",
       "      <th>RF</th>\n",
       "      <th>DTB</th>\n",
       "      <th>AB</th>\n",
       "    </tr>\n",
       "  </thead>\n",
       "  <tbody>\n",
       "    <tr>\n",
       "      <th>Accuracy</th>\n",
       "      <td>None</td>\n",
       "      <td>None</td>\n",
       "      <td>None</td>\n",
       "      <td>None</td>\n",
       "    </tr>\n",
       "    <tr>\n",
       "      <th>F1-Score (Weighted-Average)</th>\n",
       "      <td>None</td>\n",
       "      <td>None</td>\n",
       "      <td>None</td>\n",
       "      <td>None</td>\n",
       "    </tr>\n",
       "  </tbody>\n",
       "</table>\n",
       "</div>"
      ],
      "text/plain": [
       "                               LG    RF   DTB    AB\n",
       "Accuracy                     None  None  None  None\n",
       "F1-Score (Weighted-Average)  None  None  None  None"
      ]
     },
     "execution_count": 124,
     "metadata": {},
     "output_type": "execute_result"
    }
   ],
   "source": [
    "# sex\n",
    "\n",
    "sex_metrics_b = pd.DataFrame(columns=[\"LG\", \"RF\", \"DTB\", \"AB\"], \n",
    "                       index=[\"Accuracy\", \"F1-Score (Weighted-Average)\"])\n",
    "sex_metrics_b.loc[\"Accuracy\"] = [None, None, None, None]\n",
    "sex_metrics_b.loc[\"F1-Score (Weighted-Average)\"] = [None, None, None, None]\n",
    "sex_metrics_b"
   ]
  },
  {
   "cell_type": "code",
   "execution_count": 125,
   "metadata": {},
   "outputs": [],
   "source": [
    "sex_metrics_b.loc[\"Accuracy\"][1] = accuracy_s\n",
    "sex_metrics_b.loc[\"F1-Score (Weighted-Average)\"][1] = f1_score_s"
   ]
  },
  {
   "cell_type": "code",
   "execution_count": 126,
   "metadata": {},
   "outputs": [],
   "source": [
    "sex_metrics_b.to_csv('sex_metric.csv', index = False)"
   ]
  },
  {
   "cell_type": "code",
   "execution_count": null,
   "metadata": {},
   "outputs": [],
   "source": []
  },
  {
   "cell_type": "code",
   "execution_count": null,
   "metadata": {},
   "outputs": [],
   "source": []
  },
  {
   "cell_type": "code",
   "execution_count": 172,
   "metadata": {},
   "outputs": [],
   "source": [
    "y_score_s = model_sex.predict_proba(X_test_s)\n",
    "fpr_s, tpr_s, _ = roc_curve(y_test_s, y_score_s[:, 1], pos_label=1)\n",
    "roc_auc_s = auc(fpr_s, tpr_s)"
   ]
  },
  {
   "cell_type": "code",
   "execution_count": 173,
   "metadata": {},
   "outputs": [
    {
     "data": {
      "text/html": [
       "<div>\n",
       "<style scoped>\n",
       "    .dataframe tbody tr th:only-of-type {\n",
       "        vertical-align: middle;\n",
       "    }\n",
       "\n",
       "    .dataframe tbody tr th {\n",
       "        vertical-align: top;\n",
       "    }\n",
       "\n",
       "    .dataframe thead th {\n",
       "        text-align: right;\n",
       "    }\n",
       "</style>\n",
       "<table border=\"1\" class=\"dataframe\">\n",
       "  <thead>\n",
       "    <tr style=\"text-align: right;\">\n",
       "      <th></th>\n",
       "      <th>LG</th>\n",
       "      <th>RF</th>\n",
       "      <th>DTB</th>\n",
       "      <th>AB</th>\n",
       "    </tr>\n",
       "  </thead>\n",
       "  <tbody>\n",
       "    <tr>\n",
       "      <th>fpr</th>\n",
       "      <td>None</td>\n",
       "      <td>None</td>\n",
       "      <td>None</td>\n",
       "      <td>None</td>\n",
       "    </tr>\n",
       "    <tr>\n",
       "      <th>tpr</th>\n",
       "      <td>None</td>\n",
       "      <td>None</td>\n",
       "      <td>None</td>\n",
       "      <td>None</td>\n",
       "    </tr>\n",
       "    <tr>\n",
       "      <th>auc</th>\n",
       "      <td>None</td>\n",
       "      <td>None</td>\n",
       "      <td>None</td>\n",
       "      <td>None</td>\n",
       "    </tr>\n",
       "  </tbody>\n",
       "</table>\n",
       "</div>"
      ],
      "text/plain": [
       "       LG    RF   DTB    AB\n",
       "fpr  None  None  None  None\n",
       "tpr  None  None  None  None\n",
       "auc  None  None  None  None"
      ]
     },
     "execution_count": 173,
     "metadata": {},
     "output_type": "execute_result"
    }
   ],
   "source": [
    "sex_roc_b = pd.DataFrame(columns=[\"LG\", \"RF\", \"DTB\", \"AB\"], \n",
    "                       index=[\"fpr\", \"tpr\", \"auc\"])\n",
    "sex_roc_b.loc[\"fpr\"] = [None, None, None, None]\n",
    "sex_roc_b.loc[\"tpr\"] = [None, None, None, None]\n",
    "sex_roc_b.loc[\"auc\"] = [None, None, None, None]\n",
    "sex_roc_b"
   ]
  },
  {
   "cell_type": "code",
   "execution_count": 174,
   "metadata": {},
   "outputs": [],
   "source": [
    "sex_roc_b.loc[\"fpr\"][1] = fpr\n",
    "sex_roc_b.loc[\"tpr\"][1] = tpr\n",
    "sex_roc_b.loc[\"auc\"][1] = roc_auc"
   ]
  },
  {
   "cell_type": "code",
   "execution_count": 175,
   "metadata": {},
   "outputs": [],
   "source": [
    "sex_roc_b.to_csv('sex_score.csv', index=False)"
   ]
  },
  {
   "cell_type": "code",
   "execution_count": null,
   "metadata": {},
   "outputs": [],
   "source": []
  },
  {
   "cell_type": "code",
   "execution_count": null,
   "metadata": {},
   "outputs": [],
   "source": []
  },
  {
   "cell_type": "code",
   "execution_count": null,
   "metadata": {},
   "outputs": [],
   "source": []
  },
  {
   "cell_type": "code",
   "execution_count": 148,
   "metadata": {},
   "outputs": [
    {
     "data": {
      "text/html": [
       "<div>\n",
       "<style scoped>\n",
       "    .dataframe tbody tr th:only-of-type {\n",
       "        vertical-align: middle;\n",
       "    }\n",
       "\n",
       "    .dataframe tbody tr th {\n",
       "        vertical-align: top;\n",
       "    }\n",
       "\n",
       "    .dataframe thead th {\n",
       "        text-align: right;\n",
       "    }\n",
       "</style>\n",
       "<table border=\"1\" class=\"dataframe\">\n",
       "  <thead>\n",
       "    <tr style=\"text-align: right;\">\n",
       "      <th></th>\n",
       "      <th>LG</th>\n",
       "      <th>RF</th>\n",
       "      <th>DTB</th>\n",
       "      <th>AB</th>\n",
       "    </tr>\n",
       "  </thead>\n",
       "  <tbody>\n",
       "    <tr>\n",
       "      <th>Accuracy</th>\n",
       "      <td>None</td>\n",
       "      <td>None</td>\n",
       "      <td>None</td>\n",
       "      <td>None</td>\n",
       "    </tr>\n",
       "    <tr>\n",
       "      <th>F1-Score (Weighted-Average)</th>\n",
       "      <td>None</td>\n",
       "      <td>None</td>\n",
       "      <td>None</td>\n",
       "      <td>None</td>\n",
       "    </tr>\n",
       "  </tbody>\n",
       "</table>\n",
       "</div>"
      ],
      "text/plain": [
       "                               LG    RF   DTB    AB\n",
       "Accuracy                     None  None  None  None\n",
       "F1-Score (Weighted-Average)  None  None  None  None"
      ]
     },
     "execution_count": 148,
     "metadata": {},
     "output_type": "execute_result"
    }
   ],
   "source": [
    "# emotional_intensity\n",
    "\n",
    "emotional_intensity_metrics_b = pd.DataFrame(columns=[\"LG\", \"RF\", \"DTB\", \"AB\"], \n",
    "                       index=[\"Accuracy\", \"F1-Score (Weighted-Average)\"])\n",
    "emotional_intensity_metrics_b.loc[\"Accuracy\"] = [None, None, None, None]\n",
    "emotional_intensity_metrics_b.loc[\"F1-Score (Weighted-Average)\"] = [None, None, None, None]\n",
    "emotional_intensity_metrics_b"
   ]
  },
  {
   "cell_type": "code",
   "execution_count": 149,
   "metadata": {},
   "outputs": [],
   "source": [
    "emotional_intensity_metrics_b.loc[\"Accuracy\"][1] = accuracy_ei\n",
    "emotional_intensity_metrics_b.loc[\"F1-Score (Weighted-Average)\"][1] = f1_score_ei"
   ]
  },
  {
   "cell_type": "code",
   "execution_count": 150,
   "metadata": {},
   "outputs": [],
   "source": [
    "emotional_intensity_metrics_b.to_csv('emotional_intensity_metrics.csv', index=False)"
   ]
  },
  {
   "cell_type": "code",
   "execution_count": null,
   "metadata": {},
   "outputs": [],
   "source": []
  },
  {
   "cell_type": "code",
   "execution_count": null,
   "metadata": {},
   "outputs": [],
   "source": []
  },
  {
   "cell_type": "code",
   "execution_count": 176,
   "metadata": {},
   "outputs": [],
   "source": [
    "y_score_ei = model_emotional_intensity.predict_proba(X_test_ei)\n",
    "fpr_ei, tpr_ei, _ = roc_curve(y_test_ei, y_score_ei[:, 1], pos_label = 1)\n",
    "roc_auc_ei = auc(fpr_ei, tpr_ei)"
   ]
  },
  {
   "cell_type": "code",
   "execution_count": 177,
   "metadata": {},
   "outputs": [
    {
     "data": {
      "text/html": [
       "<div>\n",
       "<style scoped>\n",
       "    .dataframe tbody tr th:only-of-type {\n",
       "        vertical-align: middle;\n",
       "    }\n",
       "\n",
       "    .dataframe tbody tr th {\n",
       "        vertical-align: top;\n",
       "    }\n",
       "\n",
       "    .dataframe thead th {\n",
       "        text-align: right;\n",
       "    }\n",
       "</style>\n",
       "<table border=\"1\" class=\"dataframe\">\n",
       "  <thead>\n",
       "    <tr style=\"text-align: right;\">\n",
       "      <th></th>\n",
       "      <th>LG</th>\n",
       "      <th>RF</th>\n",
       "      <th>DTB</th>\n",
       "      <th>AB</th>\n",
       "    </tr>\n",
       "  </thead>\n",
       "  <tbody>\n",
       "    <tr>\n",
       "      <th>fpr</th>\n",
       "      <td>None</td>\n",
       "      <td>None</td>\n",
       "      <td>None</td>\n",
       "      <td>None</td>\n",
       "    </tr>\n",
       "    <tr>\n",
       "      <th>tpr</th>\n",
       "      <td>None</td>\n",
       "      <td>None</td>\n",
       "      <td>None</td>\n",
       "      <td>None</td>\n",
       "    </tr>\n",
       "    <tr>\n",
       "      <th>auc</th>\n",
       "      <td>None</td>\n",
       "      <td>None</td>\n",
       "      <td>None</td>\n",
       "      <td>None</td>\n",
       "    </tr>\n",
       "  </tbody>\n",
       "</table>\n",
       "</div>"
      ],
      "text/plain": [
       "       LG    RF   DTB    AB\n",
       "fpr  None  None  None  None\n",
       "tpr  None  None  None  None\n",
       "auc  None  None  None  None"
      ]
     },
     "execution_count": 177,
     "metadata": {},
     "output_type": "execute_result"
    }
   ],
   "source": [
    "# emotional_intensity\n",
    "\n",
    "emotional_intensity_roc_b = pd.DataFrame(columns=[\"LG\", \"RF\", \"DTB\", \"AB\"], \n",
    "                       index=[\"fpr\", \"tpr\", \"auc\"])\n",
    "emotional_intensity_roc_b.loc[\"fpr\"] = [None, None, None, None]\n",
    "emotional_intensity_roc_b.loc[\"tpr\"] = [None, None, None, None]\n",
    "emotional_intensity_roc_b.loc[\"auc\"] = [None, None, None, None]\n",
    "emotional_intensity_roc_b"
   ]
  },
  {
   "cell_type": "code",
   "execution_count": 178,
   "metadata": {},
   "outputs": [],
   "source": [
    "emotional_intensity_roc_b.loc[\"fpr\"][1] = fpr_ei\n",
    "emotional_intensity_roc_b.loc[\"tpr\"][1] = tpr_ei\n",
    "emotional_intensity_roc_b.loc[\"auc\"][1] = roc_auc_ei"
   ]
  },
  {
   "cell_type": "code",
   "execution_count": 179,
   "metadata": {},
   "outputs": [],
   "source": [
    "emotional_intensity_roc_b.to_csv('emotional_intensity_scores.csv', index=False)"
   ]
  },
  {
   "cell_type": "code",
   "execution_count": null,
   "metadata": {},
   "outputs": [],
   "source": []
  },
  {
   "cell_type": "code",
   "execution_count": null,
   "metadata": {},
   "outputs": [],
   "source": []
  },
  {
   "cell_type": "code",
   "execution_count": 156,
   "metadata": {},
   "outputs": [
    {
     "data": {
      "text/html": [
       "<div>\n",
       "<style scoped>\n",
       "    .dataframe tbody tr th:only-of-type {\n",
       "        vertical-align: middle;\n",
       "    }\n",
       "\n",
       "    .dataframe tbody tr th {\n",
       "        vertical-align: top;\n",
       "    }\n",
       "\n",
       "    .dataframe thead th {\n",
       "        text-align: right;\n",
       "    }\n",
       "</style>\n",
       "<table border=\"1\" class=\"dataframe\">\n",
       "  <thead>\n",
       "    <tr style=\"text-align: right;\">\n",
       "      <th></th>\n",
       "      <th>LG</th>\n",
       "      <th>RF</th>\n",
       "      <th>DTB</th>\n",
       "      <th>AB</th>\n",
       "    </tr>\n",
       "  </thead>\n",
       "  <tbody>\n",
       "    <tr>\n",
       "      <th>Accuracy</th>\n",
       "      <td>None</td>\n",
       "      <td>None</td>\n",
       "      <td>None</td>\n",
       "      <td>None</td>\n",
       "    </tr>\n",
       "    <tr>\n",
       "      <th>F1-Score (Weighted-Average)</th>\n",
       "      <td>None</td>\n",
       "      <td>None</td>\n",
       "      <td>None</td>\n",
       "      <td>None</td>\n",
       "    </tr>\n",
       "  </tbody>\n",
       "</table>\n",
       "</div>"
      ],
      "text/plain": [
       "                               LG    RF   DTB    AB\n",
       "Accuracy                     None  None  None  None\n",
       "F1-Score (Weighted-Average)  None  None  None  None"
      ]
     },
     "execution_count": 156,
     "metadata": {},
     "output_type": "execute_result"
    }
   ],
   "source": [
    "# emotion\n",
    "\n",
    "emotion_metrics_b = pd.DataFrame(columns=[\"LG\", \"RF\", \"DTB\", \"AB\"], \n",
    "                       index=[\"Accuracy\", \"F1-Score (Weighted-Average)\"])\n",
    "emotion_metrics_b.loc[\"Accuracy\"] = [None, None, None, None]\n",
    "emotion_metrics_b.loc[\"F1-Score (Weighted-Average)\"] = [None, None, None, None]\n",
    "emotion_metrics_b"
   ]
  },
  {
   "cell_type": "code",
   "execution_count": 157,
   "metadata": {},
   "outputs": [],
   "source": [
    "emotion_metrics_b.loc[\"Accuracy\"][1] = accuracy_e\n",
    "emotion_metrics_b.loc[\"F1-Score (Weighted-Average)\"][1] = f1_score_e"
   ]
  },
  {
   "cell_type": "code",
   "execution_count": 159,
   "metadata": {},
   "outputs": [],
   "source": [
    "emotion_metrics_b.to_csv('emotion_metrics.csv', index=False)"
   ]
  },
  {
   "cell_type": "code",
   "execution_count": null,
   "metadata": {},
   "outputs": [],
   "source": []
  },
  {
   "cell_type": "code",
   "execution_count": null,
   "metadata": {},
   "outputs": [],
   "source": []
  },
  {
   "cell_type": "code",
   "execution_count": null,
   "metadata": {},
   "outputs": [],
   "source": []
  },
  {
   "cell_type": "code",
   "execution_count": null,
   "metadata": {},
   "outputs": [],
   "source": []
  },
  {
   "cell_type": "code",
   "execution_count": null,
   "metadata": {},
   "outputs": [],
   "source": []
  }
 ],
 "metadata": {
  "kernelspec": {
   "display_name": "Python 3",
   "language": "python",
   "name": "python3"
  },
  "language_info": {
   "codemirror_mode": {
    "name": "ipython",
    "version": 3
   },
   "file_extension": ".py",
   "mimetype": "text/x-python",
   "name": "python",
   "nbconvert_exporter": "python",
   "pygments_lexer": "ipython3",
   "version": "3.8.3"
  }
 },
 "nbformat": 4,
 "nbformat_minor": 4
}
